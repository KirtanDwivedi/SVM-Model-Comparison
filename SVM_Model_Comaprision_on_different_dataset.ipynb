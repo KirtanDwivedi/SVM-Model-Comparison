{
  "nbformat": 4,
  "nbformat_minor": 0,
  "metadata": {
    "colab": {
      "provenance": [],
      "authorship_tag": "ABX9TyPuS9zYvKSwoeyFTHSKb4hO",
      "include_colab_link": true
    },
    "kernelspec": {
      "name": "python3",
      "display_name": "Python 3"
    },
    "language_info": {
      "name": "python"
    }
  },
  "cells": [
    {
      "cell_type": "markdown",
      "metadata": {
        "id": "view-in-github",
        "colab_type": "text"
      },
      "source": [
        "<a href=\"https://colab.research.google.com/github/KirtanDwivedi/SVM-Model-Comparison/blob/main/SVM_Model_Comaprision_on_different_dataset.ipynb\" target=\"_parent\"><img src=\"https://colab.research.google.com/assets/colab-badge.svg\" alt=\"Open In Colab\"/></a>"
      ]
    },
    {
      "cell_type": "code",
      "source": [
        "!pip install --upgrade --force-reinstall numpy\n",
        "!pip install pycaret==3.3.2\n",
        "!pip install pandas --upgrade"
      ],
      "metadata": {
        "colab": {
          "base_uri": "https://localhost:8080/"
        },
        "collapsed": true,
        "id": "F_yjdAmi6RkF",
        "outputId": "95339adc-d4e2-4ebd-a577-fcbe2e58db07"
      },
      "execution_count": 5,
      "outputs": [
        {
          "output_type": "stream",
          "name": "stdout",
          "text": [
            "Collecting numpy\n",
            "  Using cached numpy-2.2.6-cp311-cp311-manylinux_2_17_x86_64.manylinux2014_x86_64.whl.metadata (62 kB)\n",
            "Using cached numpy-2.2.6-cp311-cp311-manylinux_2_17_x86_64.manylinux2014_x86_64.whl (16.8 MB)\n",
            "Installing collected packages: numpy\n",
            "  Attempting uninstall: numpy\n",
            "    Found existing installation: numpy 1.26.4\n",
            "    Uninstalling numpy-1.26.4:\n",
            "      Successfully uninstalled numpy-1.26.4\n",
            "\u001b[31mERROR: pip's dependency resolver does not currently take into account all the packages that are installed. This behaviour is the source of the following dependency conflicts.\n",
            "sktime 0.26.0 requires numpy<1.27,>=1.21, but you have numpy 2.2.6 which is incompatible.\n",
            "pycaret 3.3.2 requires numpy<1.27,>=1.21, but you have numpy 2.2.6 which is incompatible.\n",
            "scipy 1.11.4 requires numpy<1.28.0,>=1.21.6, but you have numpy 2.2.6 which is incompatible.\n",
            "pandas 2.1.4 requires numpy<2,>=1.23.2; python_version == \"3.11\", but you have numpy 2.2.6 which is incompatible.\n",
            "matplotlib 3.7.5 requires numpy<2,>=1.20, but you have numpy 2.2.6 which is incompatible.\n",
            "google-colab 1.0.0 requires pandas==2.2.2, but you have pandas 2.1.4 which is incompatible.\n",
            "mizani 0.13.5 requires pandas>=2.2.0, but you have pandas 2.1.4 which is incompatible.\n",
            "tensorflow 2.18.0 requires numpy<2.1.0,>=1.26.0, but you have numpy 2.2.6 which is incompatible.\n",
            "plotnine 0.14.5 requires matplotlib>=3.8.0, but you have matplotlib 3.7.5 which is incompatible.\n",
            "plotnine 0.14.5 requires pandas>=2.2.0, but you have pandas 2.1.4 which is incompatible.\n",
            "numba 0.60.0 requires numpy<2.1,>=1.22, but you have numpy 2.2.6 which is incompatible.\n",
            "tsfresh 0.21.0 requires scipy>=1.14.0; python_version >= \"3.10\", but you have scipy 1.11.4 which is incompatible.\u001b[0m\u001b[31m\n",
            "\u001b[0mSuccessfully installed numpy-2.2.6\n",
            "Requirement already satisfied: pycaret==3.3.2 in /usr/local/lib/python3.11/dist-packages (3.3.2)\n",
            "Requirement already satisfied: ipython>=5.5.0 in /usr/local/lib/python3.11/dist-packages (from pycaret==3.3.2) (7.34.0)\n",
            "Requirement already satisfied: ipywidgets>=7.6.5 in /usr/local/lib/python3.11/dist-packages (from pycaret==3.3.2) (7.7.1)\n",
            "Requirement already satisfied: tqdm>=4.62.0 in /usr/local/lib/python3.11/dist-packages (from pycaret==3.3.2) (4.67.1)\n",
            "Collecting numpy<1.27,>=1.21 (from pycaret==3.3.2)\n",
            "  Using cached numpy-1.26.4-cp311-cp311-manylinux_2_17_x86_64.manylinux2014_x86_64.whl.metadata (61 kB)\n",
            "Requirement already satisfied: pandas<2.2.0 in /usr/local/lib/python3.11/dist-packages (from pycaret==3.3.2) (2.1.4)\n",
            "Requirement already satisfied: jinja2>=3 in /usr/local/lib/python3.11/dist-packages (from pycaret==3.3.2) (3.1.6)\n",
            "Requirement already satisfied: scipy<=1.11.4,>=1.6.1 in /usr/local/lib/python3.11/dist-packages (from pycaret==3.3.2) (1.11.4)\n",
            "Requirement already satisfied: joblib<1.4,>=1.2.0 in /usr/local/lib/python3.11/dist-packages (from pycaret==3.3.2) (1.3.2)\n",
            "Requirement already satisfied: scikit-learn>1.4.0 in /usr/local/lib/python3.11/dist-packages (from pycaret==3.3.2) (1.4.2)\n",
            "Requirement already satisfied: pyod>=1.1.3 in /usr/local/lib/python3.11/dist-packages (from pycaret==3.3.2) (2.0.5)\n",
            "Requirement already satisfied: imbalanced-learn>=0.12.0 in /usr/local/lib/python3.11/dist-packages (from pycaret==3.3.2) (0.13.0)\n",
            "Requirement already satisfied: category-encoders>=2.4.0 in /usr/local/lib/python3.11/dist-packages (from pycaret==3.3.2) (2.7.0)\n",
            "Requirement already satisfied: lightgbm>=3.0.0 in /usr/local/lib/python3.11/dist-packages (from pycaret==3.3.2) (4.5.0)\n",
            "Requirement already satisfied: numba>=0.55.0 in /usr/local/lib/python3.11/dist-packages (from pycaret==3.3.2) (0.60.0)\n",
            "Requirement already satisfied: requests>=2.27.1 in /usr/local/lib/python3.11/dist-packages (from pycaret==3.3.2) (2.32.3)\n",
            "Requirement already satisfied: psutil>=5.9.0 in /usr/local/lib/python3.11/dist-packages (from pycaret==3.3.2) (5.9.5)\n",
            "Requirement already satisfied: markupsafe>=2.0.1 in /usr/local/lib/python3.11/dist-packages (from pycaret==3.3.2) (3.0.2)\n",
            "Requirement already satisfied: importlib-metadata>=4.12.0 in /usr/local/lib/python3.11/dist-packages (from pycaret==3.3.2) (8.7.0)\n",
            "Requirement already satisfied: nbformat>=4.2.0 in /usr/local/lib/python3.11/dist-packages (from pycaret==3.3.2) (5.10.4)\n",
            "Requirement already satisfied: cloudpickle in /usr/local/lib/python3.11/dist-packages (from pycaret==3.3.2) (3.1.1)\n",
            "Requirement already satisfied: deprecation>=2.1.0 in /usr/local/lib/python3.11/dist-packages (from pycaret==3.3.2) (2.1.0)\n",
            "Requirement already satisfied: xxhash in /usr/local/lib/python3.11/dist-packages (from pycaret==3.3.2) (3.5.0)\n",
            "Requirement already satisfied: matplotlib<3.8.0 in /usr/local/lib/python3.11/dist-packages (from pycaret==3.3.2) (3.7.5)\n",
            "Requirement already satisfied: scikit-plot>=0.3.7 in /usr/local/lib/python3.11/dist-packages (from pycaret==3.3.2) (0.3.7)\n",
            "Requirement already satisfied: yellowbrick>=1.4 in /usr/local/lib/python3.11/dist-packages (from pycaret==3.3.2) (1.5)\n",
            "Requirement already satisfied: plotly>=5.14.0 in /usr/local/lib/python3.11/dist-packages (from pycaret==3.3.2) (5.24.1)\n",
            "Requirement already satisfied: kaleido>=0.2.1 in /usr/local/lib/python3.11/dist-packages (from pycaret==3.3.2) (0.2.1)\n",
            "Requirement already satisfied: schemdraw==0.15 in /usr/local/lib/python3.11/dist-packages (from pycaret==3.3.2) (0.15)\n",
            "Requirement already satisfied: plotly-resampler>=0.8.3.1 in /usr/local/lib/python3.11/dist-packages (from pycaret==3.3.2) (0.10.0)\n",
            "Requirement already satisfied: statsmodels>=0.12.1 in /usr/local/lib/python3.11/dist-packages (from pycaret==3.3.2) (0.14.4)\n",
            "Requirement already satisfied: sktime==0.26.0 in /usr/local/lib/python3.11/dist-packages (from pycaret==3.3.2) (0.26.0)\n",
            "Requirement already satisfied: tbats>=1.1.3 in /usr/local/lib/python3.11/dist-packages (from pycaret==3.3.2) (1.1.3)\n",
            "Requirement already satisfied: pmdarima>=2.0.4 in /usr/local/lib/python3.11/dist-packages (from pycaret==3.3.2) (2.0.4)\n",
            "Requirement already satisfied: wurlitzer in /usr/local/lib/python3.11/dist-packages (from pycaret==3.3.2) (3.1.1)\n",
            "Requirement already satisfied: packaging in /usr/local/lib/python3.11/dist-packages (from sktime==0.26.0->pycaret==3.3.2) (24.2)\n",
            "Requirement already satisfied: scikit-base<0.8.0 in /usr/local/lib/python3.11/dist-packages (from sktime==0.26.0->pycaret==3.3.2) (0.7.8)\n",
            "Requirement already satisfied: patsy>=0.5.1 in /usr/local/lib/python3.11/dist-packages (from category-encoders>=2.4.0->pycaret==3.3.2) (1.0.1)\n",
            "Requirement already satisfied: sklearn-compat<1,>=0.1 in /usr/local/lib/python3.11/dist-packages (from imbalanced-learn>=0.12.0->pycaret==3.3.2) (0.1.3)\n",
            "Requirement already satisfied: threadpoolctl<4,>=2.0.0 in /usr/local/lib/python3.11/dist-packages (from imbalanced-learn>=0.12.0->pycaret==3.3.2) (3.6.0)\n",
            "Requirement already satisfied: zipp>=3.20 in /usr/local/lib/python3.11/dist-packages (from importlib-metadata>=4.12.0->pycaret==3.3.2) (3.21.0)\n",
            "Requirement already satisfied: setuptools>=18.5 in /usr/local/lib/python3.11/dist-packages (from ipython>=5.5.0->pycaret==3.3.2) (75.2.0)\n",
            "Requirement already satisfied: jedi>=0.16 in /usr/local/lib/python3.11/dist-packages (from ipython>=5.5.0->pycaret==3.3.2) (0.19.2)\n",
            "Requirement already satisfied: decorator in /usr/local/lib/python3.11/dist-packages (from ipython>=5.5.0->pycaret==3.3.2) (4.4.2)\n",
            "Requirement already satisfied: pickleshare in /usr/local/lib/python3.11/dist-packages (from ipython>=5.5.0->pycaret==3.3.2) (0.7.5)\n",
            "Requirement already satisfied: traitlets>=4.2 in /usr/local/lib/python3.11/dist-packages (from ipython>=5.5.0->pycaret==3.3.2) (5.7.1)\n",
            "Requirement already satisfied: prompt-toolkit!=3.0.0,!=3.0.1,<3.1.0,>=2.0.0 in /usr/local/lib/python3.11/dist-packages (from ipython>=5.5.0->pycaret==3.3.2) (3.0.51)\n",
            "Requirement already satisfied: pygments in /usr/local/lib/python3.11/dist-packages (from ipython>=5.5.0->pycaret==3.3.2) (2.19.1)\n",
            "Requirement already satisfied: backcall in /usr/local/lib/python3.11/dist-packages (from ipython>=5.5.0->pycaret==3.3.2) (0.2.0)\n",
            "Requirement already satisfied: matplotlib-inline in /usr/local/lib/python3.11/dist-packages (from ipython>=5.5.0->pycaret==3.3.2) (0.1.7)\n",
            "Requirement already satisfied: pexpect>4.3 in /usr/local/lib/python3.11/dist-packages (from ipython>=5.5.0->pycaret==3.3.2) (4.9.0)\n",
            "Requirement already satisfied: ipykernel>=4.5.1 in /usr/local/lib/python3.11/dist-packages (from ipywidgets>=7.6.5->pycaret==3.3.2) (6.17.1)\n",
            "Requirement already satisfied: ipython-genutils~=0.2.0 in /usr/local/lib/python3.11/dist-packages (from ipywidgets>=7.6.5->pycaret==3.3.2) (0.2.0)\n",
            "Requirement already satisfied: widgetsnbextension~=3.6.0 in /usr/local/lib/python3.11/dist-packages (from ipywidgets>=7.6.5->pycaret==3.3.2) (3.6.10)\n",
            "Requirement already satisfied: jupyterlab-widgets>=1.0.0 in /usr/local/lib/python3.11/dist-packages (from ipywidgets>=7.6.5->pycaret==3.3.2) (3.0.15)\n",
            "Requirement already satisfied: contourpy>=1.0.1 in /usr/local/lib/python3.11/dist-packages (from matplotlib<3.8.0->pycaret==3.3.2) (1.3.2)\n",
            "Requirement already satisfied: cycler>=0.10 in /usr/local/lib/python3.11/dist-packages (from matplotlib<3.8.0->pycaret==3.3.2) (0.12.1)\n",
            "Requirement already satisfied: fonttools>=4.22.0 in /usr/local/lib/python3.11/dist-packages (from matplotlib<3.8.0->pycaret==3.3.2) (4.58.0)\n",
            "Requirement already satisfied: kiwisolver>=1.0.1 in /usr/local/lib/python3.11/dist-packages (from matplotlib<3.8.0->pycaret==3.3.2) (1.4.8)\n",
            "Requirement already satisfied: pillow>=6.2.0 in /usr/local/lib/python3.11/dist-packages (from matplotlib<3.8.0->pycaret==3.3.2) (11.2.1)\n",
            "Requirement already satisfied: pyparsing>=2.3.1 in /usr/local/lib/python3.11/dist-packages (from matplotlib<3.8.0->pycaret==3.3.2) (3.2.3)\n",
            "Requirement already satisfied: python-dateutil>=2.7 in /usr/local/lib/python3.11/dist-packages (from matplotlib<3.8.0->pycaret==3.3.2) (2.9.0.post0)\n",
            "Requirement already satisfied: fastjsonschema>=2.15 in /usr/local/lib/python3.11/dist-packages (from nbformat>=4.2.0->pycaret==3.3.2) (2.21.1)\n",
            "Requirement already satisfied: jsonschema>=2.6 in /usr/local/lib/python3.11/dist-packages (from nbformat>=4.2.0->pycaret==3.3.2) (4.23.0)\n",
            "Requirement already satisfied: jupyter-core!=5.0.*,>=4.12 in /usr/local/lib/python3.11/dist-packages (from nbformat>=4.2.0->pycaret==3.3.2) (5.7.2)\n",
            "Requirement already satisfied: llvmlite<0.44,>=0.43.0dev0 in /usr/local/lib/python3.11/dist-packages (from numba>=0.55.0->pycaret==3.3.2) (0.43.0)\n",
            "Requirement already satisfied: pytz>=2020.1 in /usr/local/lib/python3.11/dist-packages (from pandas<2.2.0->pycaret==3.3.2) (2025.2)\n",
            "Requirement already satisfied: tzdata>=2022.1 in /usr/local/lib/python3.11/dist-packages (from pandas<2.2.0->pycaret==3.3.2) (2025.2)\n",
            "Requirement already satisfied: tenacity>=6.2.0 in /usr/local/lib/python3.11/dist-packages (from plotly>=5.14.0->pycaret==3.3.2) (9.1.2)\n",
            "Requirement already satisfied: dash>=2.9.0 in /usr/local/lib/python3.11/dist-packages (from plotly-resampler>=0.8.3.1->pycaret==3.3.2) (3.0.4)\n",
            "Requirement already satisfied: orjson<4.0.0,>=3.8.0 in /usr/local/lib/python3.11/dist-packages (from plotly-resampler>=0.8.3.1->pycaret==3.3.2) (3.10.18)\n",
            "Requirement already satisfied: tsdownsample>=0.1.3 in /usr/local/lib/python3.11/dist-packages (from plotly-resampler>=0.8.3.1->pycaret==3.3.2) (0.1.4.1)\n",
            "Requirement already satisfied: Cython!=0.29.18,!=0.29.31,>=0.29 in /usr/local/lib/python3.11/dist-packages (from pmdarima>=2.0.4->pycaret==3.3.2) (3.0.12)\n",
            "Requirement already satisfied: urllib3 in /usr/local/lib/python3.11/dist-packages (from pmdarima>=2.0.4->pycaret==3.3.2) (2.4.0)\n",
            "Requirement already satisfied: charset-normalizer<4,>=2 in /usr/local/lib/python3.11/dist-packages (from requests>=2.27.1->pycaret==3.3.2) (3.4.2)\n",
            "Requirement already satisfied: idna<4,>=2.5 in /usr/local/lib/python3.11/dist-packages (from requests>=2.27.1->pycaret==3.3.2) (3.10)\n",
            "Requirement already satisfied: certifi>=2017.4.17 in /usr/local/lib/python3.11/dist-packages (from requests>=2.27.1->pycaret==3.3.2) (2025.4.26)\n",
            "Requirement already satisfied: Flask<3.1,>=1.0.4 in /usr/local/lib/python3.11/dist-packages (from dash>=2.9.0->plotly-resampler>=0.8.3.1->pycaret==3.3.2) (3.0.3)\n",
            "Requirement already satisfied: Werkzeug<3.1 in /usr/local/lib/python3.11/dist-packages (from dash>=2.9.0->plotly-resampler>=0.8.3.1->pycaret==3.3.2) (3.0.6)\n",
            "Requirement already satisfied: typing-extensions>=4.1.1 in /usr/local/lib/python3.11/dist-packages (from dash>=2.9.0->plotly-resampler>=0.8.3.1->pycaret==3.3.2) (4.13.2)\n",
            "Requirement already satisfied: retrying in /usr/local/lib/python3.11/dist-packages (from dash>=2.9.0->plotly-resampler>=0.8.3.1->pycaret==3.3.2) (1.3.4)\n",
            "Requirement already satisfied: nest-asyncio in /usr/local/lib/python3.11/dist-packages (from dash>=2.9.0->plotly-resampler>=0.8.3.1->pycaret==3.3.2) (1.6.0)\n",
            "Requirement already satisfied: debugpy>=1.0 in /usr/local/lib/python3.11/dist-packages (from ipykernel>=4.5.1->ipywidgets>=7.6.5->pycaret==3.3.2) (1.8.0)\n",
            "Requirement already satisfied: jupyter-client>=6.1.12 in /usr/local/lib/python3.11/dist-packages (from ipykernel>=4.5.1->ipywidgets>=7.6.5->pycaret==3.3.2) (6.1.12)\n",
            "Requirement already satisfied: pyzmq>=17 in /usr/local/lib/python3.11/dist-packages (from ipykernel>=4.5.1->ipywidgets>=7.6.5->pycaret==3.3.2) (24.0.1)\n",
            "Requirement already satisfied: tornado>=6.1 in /usr/local/lib/python3.11/dist-packages (from ipykernel>=4.5.1->ipywidgets>=7.6.5->pycaret==3.3.2) (6.4.2)\n",
            "Requirement already satisfied: parso<0.9.0,>=0.8.4 in /usr/local/lib/python3.11/dist-packages (from jedi>=0.16->ipython>=5.5.0->pycaret==3.3.2) (0.8.4)\n",
            "Requirement already satisfied: attrs>=22.2.0 in /usr/local/lib/python3.11/dist-packages (from jsonschema>=2.6->nbformat>=4.2.0->pycaret==3.3.2) (25.3.0)\n",
            "Requirement already satisfied: jsonschema-specifications>=2023.03.6 in /usr/local/lib/python3.11/dist-packages (from jsonschema>=2.6->nbformat>=4.2.0->pycaret==3.3.2) (2025.4.1)\n",
            "Requirement already satisfied: referencing>=0.28.4 in /usr/local/lib/python3.11/dist-packages (from jsonschema>=2.6->nbformat>=4.2.0->pycaret==3.3.2) (0.36.2)\n",
            "Requirement already satisfied: rpds-py>=0.7.1 in /usr/local/lib/python3.11/dist-packages (from jsonschema>=2.6->nbformat>=4.2.0->pycaret==3.3.2) (0.24.0)\n",
            "Requirement already satisfied: platformdirs>=2.5 in /usr/local/lib/python3.11/dist-packages (from jupyter-core!=5.0.*,>=4.12->nbformat>=4.2.0->pycaret==3.3.2) (4.3.8)\n",
            "Requirement already satisfied: ptyprocess>=0.5 in /usr/local/lib/python3.11/dist-packages (from pexpect>4.3->ipython>=5.5.0->pycaret==3.3.2) (0.7.0)\n",
            "Requirement already satisfied: wcwidth in /usr/local/lib/python3.11/dist-packages (from prompt-toolkit!=3.0.0,!=3.0.1,<3.1.0,>=2.0.0->ipython>=5.5.0->pycaret==3.3.2) (0.2.13)\n",
            "Requirement already satisfied: six>=1.5 in /usr/local/lib/python3.11/dist-packages (from python-dateutil>=2.7->matplotlib<3.8.0->pycaret==3.3.2) (1.17.0)\n",
            "Requirement already satisfied: notebook>=4.4.1 in /usr/local/lib/python3.11/dist-packages (from widgetsnbextension~=3.6.0->ipywidgets>=7.6.5->pycaret==3.3.2) (6.5.7)\n",
            "Requirement already satisfied: itsdangerous>=2.1.2 in /usr/local/lib/python3.11/dist-packages (from Flask<3.1,>=1.0.4->dash>=2.9.0->plotly-resampler>=0.8.3.1->pycaret==3.3.2) (2.2.0)\n",
            "Requirement already satisfied: click>=8.1.3 in /usr/local/lib/python3.11/dist-packages (from Flask<3.1,>=1.0.4->dash>=2.9.0->plotly-resampler>=0.8.3.1->pycaret==3.3.2) (8.2.0)\n",
            "Requirement already satisfied: blinker>=1.6.2 in /usr/local/lib/python3.11/dist-packages (from Flask<3.1,>=1.0.4->dash>=2.9.0->plotly-resampler>=0.8.3.1->pycaret==3.3.2) (1.9.0)\n",
            "Requirement already satisfied: argon2-cffi in /usr/local/lib/python3.11/dist-packages (from notebook>=4.4.1->widgetsnbextension~=3.6.0->ipywidgets>=7.6.5->pycaret==3.3.2) (23.1.0)\n",
            "Requirement already satisfied: nbconvert>=5 in /usr/local/lib/python3.11/dist-packages (from notebook>=4.4.1->widgetsnbextension~=3.6.0->ipywidgets>=7.6.5->pycaret==3.3.2) (7.16.6)\n",
            "Requirement already satisfied: Send2Trash>=1.8.0 in /usr/local/lib/python3.11/dist-packages (from notebook>=4.4.1->widgetsnbextension~=3.6.0->ipywidgets>=7.6.5->pycaret==3.3.2) (1.8.3)\n",
            "Requirement already satisfied: terminado>=0.8.3 in /usr/local/lib/python3.11/dist-packages (from notebook>=4.4.1->widgetsnbextension~=3.6.0->ipywidgets>=7.6.5->pycaret==3.3.2) (0.18.1)\n",
            "Requirement already satisfied: prometheus-client in /usr/local/lib/python3.11/dist-packages (from notebook>=4.4.1->widgetsnbextension~=3.6.0->ipywidgets>=7.6.5->pycaret==3.3.2) (0.21.1)\n",
            "Requirement already satisfied: nbclassic>=0.4.7 in /usr/local/lib/python3.11/dist-packages (from notebook>=4.4.1->widgetsnbextension~=3.6.0->ipywidgets>=7.6.5->pycaret==3.3.2) (1.3.1)\n",
            "Requirement already satisfied: notebook-shim>=0.2.3 in /usr/local/lib/python3.11/dist-packages (from nbclassic>=0.4.7->notebook>=4.4.1->widgetsnbextension~=3.6.0->ipywidgets>=7.6.5->pycaret==3.3.2) (0.2.4)\n",
            "Requirement already satisfied: beautifulsoup4 in /usr/local/lib/python3.11/dist-packages (from nbconvert>=5->notebook>=4.4.1->widgetsnbextension~=3.6.0->ipywidgets>=7.6.5->pycaret==3.3.2) (4.13.4)\n",
            "Requirement already satisfied: bleach!=5.0.0 in /usr/local/lib/python3.11/dist-packages (from bleach[css]!=5.0.0->nbconvert>=5->notebook>=4.4.1->widgetsnbextension~=3.6.0->ipywidgets>=7.6.5->pycaret==3.3.2) (6.2.0)\n",
            "Requirement already satisfied: defusedxml in /usr/local/lib/python3.11/dist-packages (from nbconvert>=5->notebook>=4.4.1->widgetsnbextension~=3.6.0->ipywidgets>=7.6.5->pycaret==3.3.2) (0.7.1)\n",
            "Requirement already satisfied: jupyterlab-pygments in /usr/local/lib/python3.11/dist-packages (from nbconvert>=5->notebook>=4.4.1->widgetsnbextension~=3.6.0->ipywidgets>=7.6.5->pycaret==3.3.2) (0.3.0)\n",
            "Requirement already satisfied: mistune<4,>=2.0.3 in /usr/local/lib/python3.11/dist-packages (from nbconvert>=5->notebook>=4.4.1->widgetsnbextension~=3.6.0->ipywidgets>=7.6.5->pycaret==3.3.2) (3.1.3)\n",
            "Requirement already satisfied: nbclient>=0.5.0 in /usr/local/lib/python3.11/dist-packages (from nbconvert>=5->notebook>=4.4.1->widgetsnbextension~=3.6.0->ipywidgets>=7.6.5->pycaret==3.3.2) (0.10.2)\n",
            "Requirement already satisfied: pandocfilters>=1.4.1 in /usr/local/lib/python3.11/dist-packages (from nbconvert>=5->notebook>=4.4.1->widgetsnbextension~=3.6.0->ipywidgets>=7.6.5->pycaret==3.3.2) (1.5.1)\n",
            "Requirement already satisfied: argon2-cffi-bindings in /usr/local/lib/python3.11/dist-packages (from argon2-cffi->notebook>=4.4.1->widgetsnbextension~=3.6.0->ipywidgets>=7.6.5->pycaret==3.3.2) (21.2.0)\n",
            "Requirement already satisfied: webencodings in /usr/local/lib/python3.11/dist-packages (from bleach!=5.0.0->bleach[css]!=5.0.0->nbconvert>=5->notebook>=4.4.1->widgetsnbextension~=3.6.0->ipywidgets>=7.6.5->pycaret==3.3.2) (0.5.1)\n",
            "Requirement already satisfied: tinycss2<1.5,>=1.1.0 in /usr/local/lib/python3.11/dist-packages (from bleach[css]!=5.0.0->nbconvert>=5->notebook>=4.4.1->widgetsnbextension~=3.6.0->ipywidgets>=7.6.5->pycaret==3.3.2) (1.4.0)\n",
            "Requirement already satisfied: jupyter-server<3,>=1.8 in /usr/local/lib/python3.11/dist-packages (from notebook-shim>=0.2.3->nbclassic>=0.4.7->notebook>=4.4.1->widgetsnbextension~=3.6.0->ipywidgets>=7.6.5->pycaret==3.3.2) (1.16.0)\n",
            "Requirement already satisfied: cffi>=1.0.1 in /usr/local/lib/python3.11/dist-packages (from argon2-cffi-bindings->argon2-cffi->notebook>=4.4.1->widgetsnbextension~=3.6.0->ipywidgets>=7.6.5->pycaret==3.3.2) (1.17.1)\n",
            "Requirement already satisfied: soupsieve>1.2 in /usr/local/lib/python3.11/dist-packages (from beautifulsoup4->nbconvert>=5->notebook>=4.4.1->widgetsnbextension~=3.6.0->ipywidgets>=7.6.5->pycaret==3.3.2) (2.7)\n",
            "Requirement already satisfied: pycparser in /usr/local/lib/python3.11/dist-packages (from cffi>=1.0.1->argon2-cffi-bindings->argon2-cffi->notebook>=4.4.1->widgetsnbextension~=3.6.0->ipywidgets>=7.6.5->pycaret==3.3.2) (2.22)\n",
            "Requirement already satisfied: anyio>=3.1.0 in /usr/local/lib/python3.11/dist-packages (from jupyter-server<3,>=1.8->notebook-shim>=0.2.3->nbclassic>=0.4.7->notebook>=4.4.1->widgetsnbextension~=3.6.0->ipywidgets>=7.6.5->pycaret==3.3.2) (4.9.0)\n",
            "Requirement already satisfied: websocket-client in /usr/local/lib/python3.11/dist-packages (from jupyter-server<3,>=1.8->notebook-shim>=0.2.3->nbclassic>=0.4.7->notebook>=4.4.1->widgetsnbextension~=3.6.0->ipywidgets>=7.6.5->pycaret==3.3.2) (1.8.0)\n",
            "Requirement already satisfied: sniffio>=1.1 in /usr/local/lib/python3.11/dist-packages (from anyio>=3.1.0->jupyter-server<3,>=1.8->notebook-shim>=0.2.3->nbclassic>=0.4.7->notebook>=4.4.1->widgetsnbextension~=3.6.0->ipywidgets>=7.6.5->pycaret==3.3.2) (1.3.1)\n",
            "Using cached numpy-1.26.4-cp311-cp311-manylinux_2_17_x86_64.manylinux2014_x86_64.whl (18.3 MB)\n",
            "Installing collected packages: numpy\n",
            "  Attempting uninstall: numpy\n",
            "    Found existing installation: numpy 2.2.6\n",
            "    Uninstalling numpy-2.2.6:\n",
            "      Successfully uninstalled numpy-2.2.6\n",
            "\u001b[31mERROR: pip's dependency resolver does not currently take into account all the packages that are installed. This behaviour is the source of the following dependency conflicts.\n",
            "google-colab 1.0.0 requires pandas==2.2.2, but you have pandas 2.1.4 which is incompatible.\n",
            "mizani 0.13.5 requires pandas>=2.2.0, but you have pandas 2.1.4 which is incompatible.\n",
            "thinc 8.3.6 requires numpy<3.0.0,>=2.0.0, but you have numpy 1.26.4 which is incompatible.\n",
            "plotnine 0.14.5 requires matplotlib>=3.8.0, but you have matplotlib 3.7.5 which is incompatible.\n",
            "plotnine 0.14.5 requires pandas>=2.2.0, but you have pandas 2.1.4 which is incompatible.\n",
            "tsfresh 0.21.0 requires scipy>=1.14.0; python_version >= \"3.10\", but you have scipy 1.11.4 which is incompatible.\u001b[0m\u001b[31m\n",
            "\u001b[0mSuccessfully installed numpy-1.26.4\n",
            "Requirement already satisfied: pandas in /usr/local/lib/python3.11/dist-packages (2.1.4)\n",
            "Collecting pandas\n",
            "  Downloading pandas-2.2.3-cp311-cp311-manylinux_2_17_x86_64.manylinux2014_x86_64.whl.metadata (89 kB)\n",
            "\u001b[2K     \u001b[90m━━━━━━━━━━━━━━━━━━━━━━━━━━━━━━━━━━━━━━━━\u001b[0m \u001b[32m89.9/89.9 kB\u001b[0m \u001b[31m2.2 MB/s\u001b[0m eta \u001b[36m0:00:00\u001b[0m\n",
            "\u001b[?25hRequirement already satisfied: numpy>=1.23.2 in /usr/local/lib/python3.11/dist-packages (from pandas) (1.26.4)\n",
            "Requirement already satisfied: python-dateutil>=2.8.2 in /usr/local/lib/python3.11/dist-packages (from pandas) (2.9.0.post0)\n",
            "Requirement already satisfied: pytz>=2020.1 in /usr/local/lib/python3.11/dist-packages (from pandas) (2025.2)\n",
            "Requirement already satisfied: tzdata>=2022.7 in /usr/local/lib/python3.11/dist-packages (from pandas) (2025.2)\n",
            "Requirement already satisfied: six>=1.5 in /usr/local/lib/python3.11/dist-packages (from python-dateutil>=2.8.2->pandas) (1.17.0)\n",
            "Downloading pandas-2.2.3-cp311-cp311-manylinux_2_17_x86_64.manylinux2014_x86_64.whl (13.1 MB)\n",
            "\u001b[2K   \u001b[90m━━━━━━━━━━━━━━━━━━━━━━━━━━━━━━━━━━━━━━━━\u001b[0m \u001b[32m13.1/13.1 MB\u001b[0m \u001b[31m87.7 MB/s\u001b[0m eta \u001b[36m0:00:00\u001b[0m\n",
            "\u001b[?25hInstalling collected packages: pandas\n",
            "  Attempting uninstall: pandas\n",
            "    Found existing installation: pandas 2.1.4\n",
            "    Uninstalling pandas-2.1.4:\n",
            "      Successfully uninstalled pandas-2.1.4\n",
            "\u001b[31mERROR: pip's dependency resolver does not currently take into account all the packages that are installed. This behaviour is the source of the following dependency conflicts.\n",
            "sktime 0.26.0 requires pandas<2.2.0,>=1.1, but you have pandas 2.2.3 which is incompatible.\n",
            "pycaret 3.3.2 requires pandas<2.2.0, but you have pandas 2.2.3 which is incompatible.\n",
            "google-colab 1.0.0 requires pandas==2.2.2, but you have pandas 2.2.3 which is incompatible.\n",
            "plotnine 0.14.5 requires matplotlib>=3.8.0, but you have matplotlib 3.7.5 which is incompatible.\n",
            "tsfresh 0.21.0 requires scipy>=1.14.0; python_version >= \"3.10\", but you have scipy 1.11.4 which is incompatible.\u001b[0m\u001b[31m\n",
            "\u001b[0mSuccessfully installed pandas-2.2.3\n"
          ]
        }
      ]
    },
    {
      "cell_type": "code",
      "source": [
        "import pandas as pd\n",
        "import numpy as np\n",
        "import matplotlib.pyplot as plt\n",
        "import wget\n",
        "from pycaret.classification import *\n",
        "from sklearn.model_selection import train_test_split"
      ],
      "metadata": {
        "id": "xfkejZ6q4-e8"
      },
      "execution_count": 1,
      "outputs": []
    },
    {
      "cell_type": "code",
      "source": [
        "white_wine_url = \"https://archive.ics.uci.edu/ml/machine-learning-databases/wine-quality/winequality-white.csv\"\n",
        "red_wine_url = \"https://archive.ics.uci.edu/ml/machine-learning-databases/wine-quality/winequality-red.csv\"\n",
        "\n",
        "white_wine = pd.read_csv(white_wine_url, delimiter=';')\n",
        "red_wine = pd.read_csv(red_wine_url, delimiter=';')\n",
        "\n",
        "white_wine['type'] = 0  # 0 for white\n",
        "red_wine['type'] = 1    # 1 for red\n",
        "data = pd.concat([white_wine, red_wine], ignore_index=True)"
      ],
      "metadata": {
        "id": "bZNyPpPF7pQD"
      },
      "execution_count": 4,
      "outputs": []
    },
    {
      "cell_type": "code",
      "source": [
        "data['quality_class'] = pd.cut(data['quality'],\n",
        "                              bins=[0, 6, 8, 10],\n",
        "                              labels=['low', 'medium', 'high'])\n",
        "data.drop('quality', axis=1, inplace=True)"
      ],
      "metadata": {
        "id": "b4-i9ETR7KEF"
      },
      "execution_count": 5,
      "outputs": []
    },
    {
      "cell_type": "code",
      "source": [
        "print(f\"Dataset shape: {data.shape}\")\n",
        "print(data.head())"
      ],
      "metadata": {
        "id": "DztAT_pV8ABR",
        "outputId": "1119dd1a-b78e-4011-ac90-9ba422e8fddc",
        "colab": {
          "base_uri": "https://localhost:8080/"
        }
      },
      "execution_count": 7,
      "outputs": [
        {
          "output_type": "stream",
          "name": "stdout",
          "text": [
            "Dataset shape: (6497, 13)\n",
            "   fixed acidity  volatile acidity  citric acid  residual sugar  chlorides  \\\n",
            "0            7.0              0.27         0.36            20.7      0.045   \n",
            "1            6.3              0.30         0.34             1.6      0.049   \n",
            "2            8.1              0.28         0.40             6.9      0.050   \n",
            "3            7.2              0.23         0.32             8.5      0.058   \n",
            "4            7.2              0.23         0.32             8.5      0.058   \n",
            "\n",
            "   free sulfur dioxide  total sulfur dioxide  density    pH  sulphates  \\\n",
            "0                 45.0                 170.0   1.0010  3.00       0.45   \n",
            "1                 14.0                 132.0   0.9940  3.30       0.49   \n",
            "2                 30.0                  97.0   0.9951  3.26       0.44   \n",
            "3                 47.0                 186.0   0.9956  3.19       0.40   \n",
            "4                 47.0                 186.0   0.9956  3.19       0.40   \n",
            "\n",
            "   alcohol  type quality_class  \n",
            "0      8.8     0           low  \n",
            "1      9.5     0           low  \n",
            "2     10.1     0           low  \n",
            "3      9.9     0           low  \n",
            "4      9.9     0           low  \n"
          ]
        }
      ]
    },
    {
      "cell_type": "code",
      "source": [
        "accuracy_history = [[] for _ in range(10)]"
      ],
      "metadata": {
        "id": "yHuXLFk1DS5q"
      },
      "execution_count": 28,
      "outputs": []
    },
    {
      "cell_type": "code",
      "source": [
        "# Prepare 10 different samples\n",
        "results = []\n",
        "best_accuracy = 0\n",
        "best_sample = None\n",
        "\n",
        "\n",
        "for sample in range(1, 11):\n",
        "    print(f\"\\n{'='*50}\")\n",
        "    print(f\"Processing Sample #{sample}\")\n",
        "    print(f\"{'='*50}\")\n",
        "\n",
        "    train_data, test_data = train_test_split(\n",
        "        data,\n",
        "        test_size=0.3,\n",
        "        random_state=42+sample,\n",
        "        stratify=data['quality_class']\n",
        "    )\n",
        "\n",
        "    exp = setup(\n",
        "        data=train_data,\n",
        "        target='quality_class',\n",
        "        session_id=42+sample,\n",
        "        verbose=False\n",
        "    )\n",
        "\n",
        "    svm = create_model('svm', verbose=False)\n",
        "    tuned_svm = tune_model(svm, n_iter=10, optimize='Accuracy', verbose=False)\n",
        "\n",
        "    predictions = predict_model(tuned_svm, data=test_data)\n",
        "\n",
        "    accuracy_col = None\n",
        "    for col in ['Accuracy', 'accuracy', 'Score', 'score']:\n",
        "        if col in predictions.columns:\n",
        "            accuracy_col = col\n",
        "            break\n",
        "\n",
        "    if accuracy_col:\n",
        "        accuracy = float(predictions[accuracy_col].iloc[0])\n",
        "    else:\n",
        "        from sklearn.metrics import accuracy_score\n",
        "        accuracy = accuracy_score(predictions['quality_class'], predictions['prediction_label'])\n",
        "\n",
        "    params = tuned_svm.get_params()\n",
        "    results.append({\n",
        "        'Sample #': f'S{sample}',\n",
        "        'Best Accuracy': accuracy,\n",
        "        'Kernel': params.get('kernel', 'N/A'),\n",
        "        'Nu': params.get('nu', 'N/A'),\n",
        "        'Epsilon': params.get('epsilon', 'N/A')\n",
        "    })\n",
        "\n",
        "    # Track best sample\n",
        "    if accuracy > best_accuracy:\n",
        "        best_accuracy = accuracy\n",
        "        best_sample = sample"
      ],
      "metadata": {
        "collapsed": true,
        "id": "V-suiSHo8Wxd",
        "outputId": "6e0ffed0-cf4a-4c61-cdd6-d740091b2bd5",
        "colab": {
          "base_uri": "https://localhost:8080/",
          "height": 1000
        }
      },
      "execution_count": 20,
      "outputs": [
        {
          "output_type": "stream",
          "name": "stdout",
          "text": [
            "\n",
            "==================================================\n",
            "Processing Sample #1\n",
            "==================================================\n"
          ]
        },
        {
          "output_type": "display_data",
          "data": {
            "text/plain": [
              "<pandas.io.formats.style.Styler at 0x7ce6003d3e50>"
            ],
            "text/html": [
              "<style type=\"text/css\">\n",
              "</style>\n",
              "<table id=\"T_702ed\" class=\"dataframe\">\n",
              "  <thead>\n",
              "    <tr>\n",
              "      <th class=\"blank level0\" >&nbsp;</th>\n",
              "      <th id=\"T_702ed_level0_col0\" class=\"col_heading level0 col0\" >Model</th>\n",
              "      <th id=\"T_702ed_level0_col1\" class=\"col_heading level0 col1\" >Accuracy</th>\n",
              "      <th id=\"T_702ed_level0_col2\" class=\"col_heading level0 col2\" >AUC</th>\n",
              "      <th id=\"T_702ed_level0_col3\" class=\"col_heading level0 col3\" >Recall</th>\n",
              "      <th id=\"T_702ed_level0_col4\" class=\"col_heading level0 col4\" >Prec.</th>\n",
              "      <th id=\"T_702ed_level0_col5\" class=\"col_heading level0 col5\" >F1</th>\n",
              "      <th id=\"T_702ed_level0_col6\" class=\"col_heading level0 col6\" >Kappa</th>\n",
              "      <th id=\"T_702ed_level0_col7\" class=\"col_heading level0 col7\" >MCC</th>\n",
              "    </tr>\n",
              "  </thead>\n",
              "  <tbody>\n",
              "    <tr>\n",
              "      <th id=\"T_702ed_level0_row0\" class=\"row_heading level0 row0\" >0</th>\n",
              "      <td id=\"T_702ed_row0_col0\" class=\"data row0 col0\" >SVM - Linear Kernel</td>\n",
              "      <td id=\"T_702ed_row0_col1\" class=\"data row0 col1\" >0.8036</td>\n",
              "      <td id=\"T_702ed_row0_col2\" class=\"data row0 col2\" >0</td>\n",
              "      <td id=\"T_702ed_row0_col3\" class=\"data row0 col3\" >0.8036</td>\n",
              "      <td id=\"T_702ed_row0_col4\" class=\"data row0 col4\" >0.6458</td>\n",
              "      <td id=\"T_702ed_row0_col5\" class=\"data row0 col5\" >0.7161</td>\n",
              "      <td id=\"T_702ed_row0_col6\" class=\"data row0 col6\" >0.0000</td>\n",
              "      <td id=\"T_702ed_row0_col7\" class=\"data row0 col7\" >0.0000</td>\n",
              "    </tr>\n",
              "  </tbody>\n",
              "</table>\n"
            ]
          },
          "metadata": {}
        },
        {
          "output_type": "stream",
          "name": "stdout",
          "text": [
            "\n",
            "==================================================\n",
            "Processing Sample #2\n",
            "==================================================\n"
          ]
        },
        {
          "output_type": "display_data",
          "data": {
            "text/plain": [
              "<pandas.io.formats.style.Styler at 0x7ce5ebaa39d0>"
            ],
            "text/html": [
              "<style type=\"text/css\">\n",
              "</style>\n",
              "<table id=\"T_8ba82\" class=\"dataframe\">\n",
              "  <thead>\n",
              "    <tr>\n",
              "      <th class=\"blank level0\" >&nbsp;</th>\n",
              "      <th id=\"T_8ba82_level0_col0\" class=\"col_heading level0 col0\" >Model</th>\n",
              "      <th id=\"T_8ba82_level0_col1\" class=\"col_heading level0 col1\" >Accuracy</th>\n",
              "      <th id=\"T_8ba82_level0_col2\" class=\"col_heading level0 col2\" >AUC</th>\n",
              "      <th id=\"T_8ba82_level0_col3\" class=\"col_heading level0 col3\" >Recall</th>\n",
              "      <th id=\"T_8ba82_level0_col4\" class=\"col_heading level0 col4\" >Prec.</th>\n",
              "      <th id=\"T_8ba82_level0_col5\" class=\"col_heading level0 col5\" >F1</th>\n",
              "      <th id=\"T_8ba82_level0_col6\" class=\"col_heading level0 col6\" >Kappa</th>\n",
              "      <th id=\"T_8ba82_level0_col7\" class=\"col_heading level0 col7\" >MCC</th>\n",
              "    </tr>\n",
              "  </thead>\n",
              "  <tbody>\n",
              "    <tr>\n",
              "      <th id=\"T_8ba82_level0_row0\" class=\"row_heading level0 row0\" >0</th>\n",
              "      <td id=\"T_8ba82_row0_col0\" class=\"data row0 col0\" >SVM - Linear Kernel</td>\n",
              "      <td id=\"T_8ba82_row0_col1\" class=\"data row0 col1\" >0.8036</td>\n",
              "      <td id=\"T_8ba82_row0_col2\" class=\"data row0 col2\" >0</td>\n",
              "      <td id=\"T_8ba82_row0_col3\" class=\"data row0 col3\" >0.8036</td>\n",
              "      <td id=\"T_8ba82_row0_col4\" class=\"data row0 col4\" >0.6458</td>\n",
              "      <td id=\"T_8ba82_row0_col5\" class=\"data row0 col5\" >0.7161</td>\n",
              "      <td id=\"T_8ba82_row0_col6\" class=\"data row0 col6\" >0.0000</td>\n",
              "      <td id=\"T_8ba82_row0_col7\" class=\"data row0 col7\" >0.0000</td>\n",
              "    </tr>\n",
              "  </tbody>\n",
              "</table>\n"
            ]
          },
          "metadata": {}
        },
        {
          "output_type": "stream",
          "name": "stdout",
          "text": [
            "\n",
            "==================================================\n",
            "Processing Sample #3\n",
            "==================================================\n"
          ]
        },
        {
          "output_type": "display_data",
          "data": {
            "text/plain": [
              "<pandas.io.formats.style.Styler at 0x7ce5ebdd9990>"
            ],
            "text/html": [
              "<style type=\"text/css\">\n",
              "</style>\n",
              "<table id=\"T_bdc8a\" class=\"dataframe\">\n",
              "  <thead>\n",
              "    <tr>\n",
              "      <th class=\"blank level0\" >&nbsp;</th>\n",
              "      <th id=\"T_bdc8a_level0_col0\" class=\"col_heading level0 col0\" >Model</th>\n",
              "      <th id=\"T_bdc8a_level0_col1\" class=\"col_heading level0 col1\" >Accuracy</th>\n",
              "      <th id=\"T_bdc8a_level0_col2\" class=\"col_heading level0 col2\" >AUC</th>\n",
              "      <th id=\"T_bdc8a_level0_col3\" class=\"col_heading level0 col3\" >Recall</th>\n",
              "      <th id=\"T_bdc8a_level0_col4\" class=\"col_heading level0 col4\" >Prec.</th>\n",
              "      <th id=\"T_bdc8a_level0_col5\" class=\"col_heading level0 col5\" >F1</th>\n",
              "      <th id=\"T_bdc8a_level0_col6\" class=\"col_heading level0 col6\" >Kappa</th>\n",
              "      <th id=\"T_bdc8a_level0_col7\" class=\"col_heading level0 col7\" >MCC</th>\n",
              "    </tr>\n",
              "  </thead>\n",
              "  <tbody>\n",
              "    <tr>\n",
              "      <th id=\"T_bdc8a_level0_row0\" class=\"row_heading level0 row0\" >0</th>\n",
              "      <td id=\"T_bdc8a_row0_col0\" class=\"data row0 col0\" >SVM - Linear Kernel</td>\n",
              "      <td id=\"T_bdc8a_row0_col1\" class=\"data row0 col1\" >0.8021</td>\n",
              "      <td id=\"T_bdc8a_row0_col2\" class=\"data row0 col2\" >0</td>\n",
              "      <td id=\"T_bdc8a_row0_col3\" class=\"data row0 col3\" >0.8021</td>\n",
              "      <td id=\"T_bdc8a_row0_col4\" class=\"data row0 col4\" >0.6849</td>\n",
              "      <td id=\"T_bdc8a_row0_col5\" class=\"data row0 col5\" >0.7163</td>\n",
              "      <td id=\"T_bdc8a_row0_col6\" class=\"data row0 col6\" >0.0001</td>\n",
              "      <td id=\"T_bdc8a_row0_col7\" class=\"data row0 col7\" >0.0005</td>\n",
              "    </tr>\n",
              "  </tbody>\n",
              "</table>\n"
            ]
          },
          "metadata": {}
        },
        {
          "output_type": "stream",
          "name": "stdout",
          "text": [
            "\n",
            "==================================================\n",
            "Processing Sample #4\n",
            "==================================================\n"
          ]
        },
        {
          "output_type": "display_data",
          "data": {
            "text/plain": [
              "<pandas.io.formats.style.Styler at 0x7ce601590f10>"
            ],
            "text/html": [
              "<style type=\"text/css\">\n",
              "</style>\n",
              "<table id=\"T_92882\" class=\"dataframe\">\n",
              "  <thead>\n",
              "    <tr>\n",
              "      <th class=\"blank level0\" >&nbsp;</th>\n",
              "      <th id=\"T_92882_level0_col0\" class=\"col_heading level0 col0\" >Model</th>\n",
              "      <th id=\"T_92882_level0_col1\" class=\"col_heading level0 col1\" >Accuracy</th>\n",
              "      <th id=\"T_92882_level0_col2\" class=\"col_heading level0 col2\" >AUC</th>\n",
              "      <th id=\"T_92882_level0_col3\" class=\"col_heading level0 col3\" >Recall</th>\n",
              "      <th id=\"T_92882_level0_col4\" class=\"col_heading level0 col4\" >Prec.</th>\n",
              "      <th id=\"T_92882_level0_col5\" class=\"col_heading level0 col5\" >F1</th>\n",
              "      <th id=\"T_92882_level0_col6\" class=\"col_heading level0 col6\" >Kappa</th>\n",
              "      <th id=\"T_92882_level0_col7\" class=\"col_heading level0 col7\" >MCC</th>\n",
              "    </tr>\n",
              "  </thead>\n",
              "  <tbody>\n",
              "    <tr>\n",
              "      <th id=\"T_92882_level0_row0\" class=\"row_heading level0 row0\" >0</th>\n",
              "      <td id=\"T_92882_row0_col0\" class=\"data row0 col0\" >SVM - Linear Kernel</td>\n",
              "      <td id=\"T_92882_row0_col1\" class=\"data row0 col1\" >0.8031</td>\n",
              "      <td id=\"T_92882_row0_col2\" class=\"data row0 col2\" >0</td>\n",
              "      <td id=\"T_92882_row0_col3\" class=\"data row0 col3\" >0.8031</td>\n",
              "      <td id=\"T_92882_row0_col4\" class=\"data row0 col4\" >0.6457</td>\n",
              "      <td id=\"T_92882_row0_col5\" class=\"data row0 col5\" >0.7158</td>\n",
              "      <td id=\"T_92882_row0_col6\" class=\"data row0 col6\" >-0.0010</td>\n",
              "      <td id=\"T_92882_row0_col7\" class=\"data row0 col7\" >-0.0112</td>\n",
              "    </tr>\n",
              "  </tbody>\n",
              "</table>\n"
            ]
          },
          "metadata": {}
        },
        {
          "output_type": "stream",
          "name": "stdout",
          "text": [
            "\n",
            "==================================================\n",
            "Processing Sample #5\n",
            "==================================================\n"
          ]
        },
        {
          "output_type": "display_data",
          "data": {
            "text/plain": [
              "<pandas.io.formats.style.Styler at 0x7ce6008cd2d0>"
            ],
            "text/html": [
              "<style type=\"text/css\">\n",
              "</style>\n",
              "<table id=\"T_060fb\" class=\"dataframe\">\n",
              "  <thead>\n",
              "    <tr>\n",
              "      <th class=\"blank level0\" >&nbsp;</th>\n",
              "      <th id=\"T_060fb_level0_col0\" class=\"col_heading level0 col0\" >Model</th>\n",
              "      <th id=\"T_060fb_level0_col1\" class=\"col_heading level0 col1\" >Accuracy</th>\n",
              "      <th id=\"T_060fb_level0_col2\" class=\"col_heading level0 col2\" >AUC</th>\n",
              "      <th id=\"T_060fb_level0_col3\" class=\"col_heading level0 col3\" >Recall</th>\n",
              "      <th id=\"T_060fb_level0_col4\" class=\"col_heading level0 col4\" >Prec.</th>\n",
              "      <th id=\"T_060fb_level0_col5\" class=\"col_heading level0 col5\" >F1</th>\n",
              "      <th id=\"T_060fb_level0_col6\" class=\"col_heading level0 col6\" >Kappa</th>\n",
              "      <th id=\"T_060fb_level0_col7\" class=\"col_heading level0 col7\" >MCC</th>\n",
              "    </tr>\n",
              "  </thead>\n",
              "  <tbody>\n",
              "    <tr>\n",
              "      <th id=\"T_060fb_level0_row0\" class=\"row_heading level0 row0\" >0</th>\n",
              "      <td id=\"T_060fb_row0_col0\" class=\"data row0 col0\" >SVM - Linear Kernel</td>\n",
              "      <td id=\"T_060fb_row0_col1\" class=\"data row0 col1\" >0.8118</td>\n",
              "      <td id=\"T_060fb_row0_col2\" class=\"data row0 col2\" >0</td>\n",
              "      <td id=\"T_060fb_row0_col3\" class=\"data row0 col3\" >0.8118</td>\n",
              "      <td id=\"T_060fb_row0_col4\" class=\"data row0 col4\" >0.7953</td>\n",
              "      <td id=\"T_060fb_row0_col5\" class=\"data row0 col5\" >0.8011</td>\n",
              "      <td id=\"T_060fb_row0_col6\" class=\"data row0 col6\" >0.3423</td>\n",
              "      <td id=\"T_060fb_row0_col7\" class=\"data row0 col7\" >0.3474</td>\n",
              "    </tr>\n",
              "  </tbody>\n",
              "</table>\n"
            ]
          },
          "metadata": {}
        },
        {
          "output_type": "stream",
          "name": "stdout",
          "text": [
            "\n",
            "==================================================\n",
            "Processing Sample #6\n",
            "==================================================\n"
          ]
        },
        {
          "output_type": "display_data",
          "data": {
            "text/plain": [
              "<pandas.io.formats.style.Styler at 0x7ce74cffdc90>"
            ],
            "text/html": [
              "<style type=\"text/css\">\n",
              "</style>\n",
              "<table id=\"T_c41fb\" class=\"dataframe\">\n",
              "  <thead>\n",
              "    <tr>\n",
              "      <th class=\"blank level0\" >&nbsp;</th>\n",
              "      <th id=\"T_c41fb_level0_col0\" class=\"col_heading level0 col0\" >Model</th>\n",
              "      <th id=\"T_c41fb_level0_col1\" class=\"col_heading level0 col1\" >Accuracy</th>\n",
              "      <th id=\"T_c41fb_level0_col2\" class=\"col_heading level0 col2\" >AUC</th>\n",
              "      <th id=\"T_c41fb_level0_col3\" class=\"col_heading level0 col3\" >Recall</th>\n",
              "      <th id=\"T_c41fb_level0_col4\" class=\"col_heading level0 col4\" >Prec.</th>\n",
              "      <th id=\"T_c41fb_level0_col5\" class=\"col_heading level0 col5\" >F1</th>\n",
              "      <th id=\"T_c41fb_level0_col6\" class=\"col_heading level0 col6\" >Kappa</th>\n",
              "      <th id=\"T_c41fb_level0_col7\" class=\"col_heading level0 col7\" >MCC</th>\n",
              "    </tr>\n",
              "  </thead>\n",
              "  <tbody>\n",
              "    <tr>\n",
              "      <th id=\"T_c41fb_level0_row0\" class=\"row_heading level0 row0\" >0</th>\n",
              "      <td id=\"T_c41fb_row0_col0\" class=\"data row0 col0\" >SVM - Linear Kernel</td>\n",
              "      <td id=\"T_c41fb_row0_col1\" class=\"data row0 col1\" >0.8036</td>\n",
              "      <td id=\"T_c41fb_row0_col2\" class=\"data row0 col2\" >0</td>\n",
              "      <td id=\"T_c41fb_row0_col3\" class=\"data row0 col3\" >0.8036</td>\n",
              "      <td id=\"T_c41fb_row0_col4\" class=\"data row0 col4\" >0.6458</td>\n",
              "      <td id=\"T_c41fb_row0_col5\" class=\"data row0 col5\" >0.7161</td>\n",
              "      <td id=\"T_c41fb_row0_col6\" class=\"data row0 col6\" >0.0000</td>\n",
              "      <td id=\"T_c41fb_row0_col7\" class=\"data row0 col7\" >0.0000</td>\n",
              "    </tr>\n",
              "  </tbody>\n",
              "</table>\n"
            ]
          },
          "metadata": {}
        },
        {
          "output_type": "stream",
          "name": "stdout",
          "text": [
            "\n",
            "==================================================\n",
            "Processing Sample #7\n",
            "==================================================\n"
          ]
        },
        {
          "output_type": "display_data",
          "data": {
            "text/plain": [
              "<pandas.io.formats.style.Styler at 0x7ce77f5d5390>"
            ],
            "text/html": [
              "<style type=\"text/css\">\n",
              "</style>\n",
              "<table id=\"T_f13a3\" class=\"dataframe\">\n",
              "  <thead>\n",
              "    <tr>\n",
              "      <th class=\"blank level0\" >&nbsp;</th>\n",
              "      <th id=\"T_f13a3_level0_col0\" class=\"col_heading level0 col0\" >Model</th>\n",
              "      <th id=\"T_f13a3_level0_col1\" class=\"col_heading level0 col1\" >Accuracy</th>\n",
              "      <th id=\"T_f13a3_level0_col2\" class=\"col_heading level0 col2\" >AUC</th>\n",
              "      <th id=\"T_f13a3_level0_col3\" class=\"col_heading level0 col3\" >Recall</th>\n",
              "      <th id=\"T_f13a3_level0_col4\" class=\"col_heading level0 col4\" >Prec.</th>\n",
              "      <th id=\"T_f13a3_level0_col5\" class=\"col_heading level0 col5\" >F1</th>\n",
              "      <th id=\"T_f13a3_level0_col6\" class=\"col_heading level0 col6\" >Kappa</th>\n",
              "      <th id=\"T_f13a3_level0_col7\" class=\"col_heading level0 col7\" >MCC</th>\n",
              "    </tr>\n",
              "  </thead>\n",
              "  <tbody>\n",
              "    <tr>\n",
              "      <th id=\"T_f13a3_level0_row0\" class=\"row_heading level0 row0\" >0</th>\n",
              "      <td id=\"T_f13a3_row0_col0\" class=\"data row0 col0\" >SVM - Linear Kernel</td>\n",
              "      <td id=\"T_f13a3_row0_col1\" class=\"data row0 col1\" >0.8036</td>\n",
              "      <td id=\"T_f13a3_row0_col2\" class=\"data row0 col2\" >0</td>\n",
              "      <td id=\"T_f13a3_row0_col3\" class=\"data row0 col3\" >0.8036</td>\n",
              "      <td id=\"T_f13a3_row0_col4\" class=\"data row0 col4\" >0.6458</td>\n",
              "      <td id=\"T_f13a3_row0_col5\" class=\"data row0 col5\" >0.7161</td>\n",
              "      <td id=\"T_f13a3_row0_col6\" class=\"data row0 col6\" >0.0000</td>\n",
              "      <td id=\"T_f13a3_row0_col7\" class=\"data row0 col7\" >0.0000</td>\n",
              "    </tr>\n",
              "  </tbody>\n",
              "</table>\n"
            ]
          },
          "metadata": {}
        },
        {
          "output_type": "stream",
          "name": "stdout",
          "text": [
            "\n",
            "==================================================\n",
            "Processing Sample #8\n",
            "==================================================\n"
          ]
        },
        {
          "output_type": "display_data",
          "data": {
            "text/plain": [
              "<pandas.io.formats.style.Styler at 0x7ce6015935d0>"
            ],
            "text/html": [
              "<style type=\"text/css\">\n",
              "</style>\n",
              "<table id=\"T_3727c\" class=\"dataframe\">\n",
              "  <thead>\n",
              "    <tr>\n",
              "      <th class=\"blank level0\" >&nbsp;</th>\n",
              "      <th id=\"T_3727c_level0_col0\" class=\"col_heading level0 col0\" >Model</th>\n",
              "      <th id=\"T_3727c_level0_col1\" class=\"col_heading level0 col1\" >Accuracy</th>\n",
              "      <th id=\"T_3727c_level0_col2\" class=\"col_heading level0 col2\" >AUC</th>\n",
              "      <th id=\"T_3727c_level0_col3\" class=\"col_heading level0 col3\" >Recall</th>\n",
              "      <th id=\"T_3727c_level0_col4\" class=\"col_heading level0 col4\" >Prec.</th>\n",
              "      <th id=\"T_3727c_level0_col5\" class=\"col_heading level0 col5\" >F1</th>\n",
              "      <th id=\"T_3727c_level0_col6\" class=\"col_heading level0 col6\" >Kappa</th>\n",
              "      <th id=\"T_3727c_level0_col7\" class=\"col_heading level0 col7\" >MCC</th>\n",
              "    </tr>\n",
              "  </thead>\n",
              "  <tbody>\n",
              "    <tr>\n",
              "      <th id=\"T_3727c_level0_row0\" class=\"row_heading level0 row0\" >0</th>\n",
              "      <td id=\"T_3727c_row0_col0\" class=\"data row0 col0\" >SVM - Linear Kernel</td>\n",
              "      <td id=\"T_3727c_row0_col1\" class=\"data row0 col1\" >0.8036</td>\n",
              "      <td id=\"T_3727c_row0_col2\" class=\"data row0 col2\" >0</td>\n",
              "      <td id=\"T_3727c_row0_col3\" class=\"data row0 col3\" >0.8036</td>\n",
              "      <td id=\"T_3727c_row0_col4\" class=\"data row0 col4\" >0.6458</td>\n",
              "      <td id=\"T_3727c_row0_col5\" class=\"data row0 col5\" >0.7161</td>\n",
              "      <td id=\"T_3727c_row0_col6\" class=\"data row0 col6\" >0.0000</td>\n",
              "      <td id=\"T_3727c_row0_col7\" class=\"data row0 col7\" >0.0000</td>\n",
              "    </tr>\n",
              "  </tbody>\n",
              "</table>\n"
            ]
          },
          "metadata": {}
        },
        {
          "output_type": "stream",
          "name": "stdout",
          "text": [
            "\n",
            "==================================================\n",
            "Processing Sample #9\n",
            "==================================================\n"
          ]
        },
        {
          "output_type": "display_data",
          "data": {
            "text/plain": [
              "<pandas.io.formats.style.Styler at 0x7ce6006e1a10>"
            ],
            "text/html": [
              "<style type=\"text/css\">\n",
              "</style>\n",
              "<table id=\"T_99fd4\" class=\"dataframe\">\n",
              "  <thead>\n",
              "    <tr>\n",
              "      <th class=\"blank level0\" >&nbsp;</th>\n",
              "      <th id=\"T_99fd4_level0_col0\" class=\"col_heading level0 col0\" >Model</th>\n",
              "      <th id=\"T_99fd4_level0_col1\" class=\"col_heading level0 col1\" >Accuracy</th>\n",
              "      <th id=\"T_99fd4_level0_col2\" class=\"col_heading level0 col2\" >AUC</th>\n",
              "      <th id=\"T_99fd4_level0_col3\" class=\"col_heading level0 col3\" >Recall</th>\n",
              "      <th id=\"T_99fd4_level0_col4\" class=\"col_heading level0 col4\" >Prec.</th>\n",
              "      <th id=\"T_99fd4_level0_col5\" class=\"col_heading level0 col5\" >F1</th>\n",
              "      <th id=\"T_99fd4_level0_col6\" class=\"col_heading level0 col6\" >Kappa</th>\n",
              "      <th id=\"T_99fd4_level0_col7\" class=\"col_heading level0 col7\" >MCC</th>\n",
              "    </tr>\n",
              "  </thead>\n",
              "  <tbody>\n",
              "    <tr>\n",
              "      <th id=\"T_99fd4_level0_row0\" class=\"row_heading level0 row0\" >0</th>\n",
              "      <td id=\"T_99fd4_row0_col0\" class=\"data row0 col0\" >SVM - Linear Kernel</td>\n",
              "      <td id=\"T_99fd4_row0_col1\" class=\"data row0 col1\" >0.8072</td>\n",
              "      <td id=\"T_99fd4_row0_col2\" class=\"data row0 col2\" >0</td>\n",
              "      <td id=\"T_99fd4_row0_col3\" class=\"data row0 col3\" >0.8072</td>\n",
              "      <td id=\"T_99fd4_row0_col4\" class=\"data row0 col4\" >0.7730</td>\n",
              "      <td id=\"T_99fd4_row0_col5\" class=\"data row0 col5\" >0.7768</td>\n",
              "      <td id=\"T_99fd4_row0_col6\" class=\"data row0 col6\" >0.2297</td>\n",
              "      <td id=\"T_99fd4_row0_col7\" class=\"data row0 col7\" >0.2544</td>\n",
              "    </tr>\n",
              "  </tbody>\n",
              "</table>\n"
            ]
          },
          "metadata": {}
        },
        {
          "output_type": "stream",
          "name": "stdout",
          "text": [
            "\n",
            "==================================================\n",
            "Processing Sample #10\n",
            "==================================================\n"
          ]
        },
        {
          "output_type": "display_data",
          "data": {
            "text/plain": [
              "<pandas.io.formats.style.Styler at 0x7ce5ebd73650>"
            ],
            "text/html": [
              "<style type=\"text/css\">\n",
              "</style>\n",
              "<table id=\"T_7d542\" class=\"dataframe\">\n",
              "  <thead>\n",
              "    <tr>\n",
              "      <th class=\"blank level0\" >&nbsp;</th>\n",
              "      <th id=\"T_7d542_level0_col0\" class=\"col_heading level0 col0\" >Model</th>\n",
              "      <th id=\"T_7d542_level0_col1\" class=\"col_heading level0 col1\" >Accuracy</th>\n",
              "      <th id=\"T_7d542_level0_col2\" class=\"col_heading level0 col2\" >AUC</th>\n",
              "      <th id=\"T_7d542_level0_col3\" class=\"col_heading level0 col3\" >Recall</th>\n",
              "      <th id=\"T_7d542_level0_col4\" class=\"col_heading level0 col4\" >Prec.</th>\n",
              "      <th id=\"T_7d542_level0_col5\" class=\"col_heading level0 col5\" >F1</th>\n",
              "      <th id=\"T_7d542_level0_col6\" class=\"col_heading level0 col6\" >Kappa</th>\n",
              "      <th id=\"T_7d542_level0_col7\" class=\"col_heading level0 col7\" >MCC</th>\n",
              "    </tr>\n",
              "  </thead>\n",
              "  <tbody>\n",
              "    <tr>\n",
              "      <th id=\"T_7d542_level0_row0\" class=\"row_heading level0 row0\" >0</th>\n",
              "      <td id=\"T_7d542_row0_col0\" class=\"data row0 col0\" >SVM - Linear Kernel</td>\n",
              "      <td id=\"T_7d542_row0_col1\" class=\"data row0 col1\" >0.7928</td>\n",
              "      <td id=\"T_7d542_row0_col2\" class=\"data row0 col2\" >0</td>\n",
              "      <td id=\"T_7d542_row0_col3\" class=\"data row0 col3\" >0.7928</td>\n",
              "      <td id=\"T_7d542_row0_col4\" class=\"data row0 col4\" >0.7591</td>\n",
              "      <td id=\"T_7d542_row0_col5\" class=\"data row0 col5\" >0.7687</td>\n",
              "      <td id=\"T_7d542_row0_col6\" class=\"data row0 col6\" >0.2125</td>\n",
              "      <td id=\"T_7d542_row0_col7\" class=\"data row0 col7\" >0.2251</td>\n",
              "    </tr>\n",
              "  </tbody>\n",
              "</table>\n"
            ]
          },
          "metadata": {}
        }
      ]
    },
    {
      "cell_type": "code",
      "source": [
        "results_df = pd.DataFrame(results)\n",
        "print(\"\\n\" + \"=\"*80)\n",
        "print(\"Comparative performance of Optimized-SVM with different samples\")\n",
        "print(\"=\"*80)\n",
        "print(results_df.to_string(index=False))"
      ],
      "metadata": {
        "id": "5rn4cJveASVd",
        "outputId": "46ee97b2-8571-498e-be78-93752a02855d",
        "colab": {
          "base_uri": "https://localhost:8080/"
        }
      },
      "execution_count": 22,
      "outputs": [
        {
          "output_type": "stream",
          "name": "stdout",
          "text": [
            "\n",
            "================================================================================\n",
            "Comparative performance of Optimized-SVM with different samples\n",
            "================================================================================\n",
            "Sample #  Best Accuracy Kernel  Nu  Epsilon\n",
            "      S1       0.803590    N/A N/A      0.1\n",
            "      S2       0.803590    N/A N/A      0.1\n",
            "      S3       0.802051    N/A N/A      0.1\n",
            "      S4       0.803077    N/A N/A      0.1\n",
            "      S5       0.811795    N/A N/A      0.1\n",
            "      S6       0.803590    N/A N/A      0.1\n",
            "      S7       0.803590    N/A N/A      0.1\n",
            "      S8       0.803590    N/A N/A      0.1\n",
            "      S9       0.807179    N/A N/A      0.1\n",
            "     S10       0.792821    N/A N/A      0.1\n"
          ]
        }
      ]
    },
    {
      "cell_type": "code",
      "source": [
        "results_df.to_csv('svm_optimization_results.csv', index=False)"
      ],
      "metadata": {
        "id": "OwHmWQBDBBO7"
      },
      "execution_count": 24,
      "outputs": []
    },
    {
      "cell_type": "code",
      "source": [
        "results = []\n",
        "best_accuracy = 0\n",
        "best_sample = None\n",
        "best_model = None\n",
        "accuracy_history = [[] for _ in range(10)]  # To store accuracy per iteration\n",
        "\n",
        "for sample in range(1, 11):\n",
        "    print(f\"\\n{'='*50}\")\n",
        "    print(f\"Processing Sample #{sample}\")\n",
        "    print(f\"{'='*50}\")\n",
        "\n",
        "    train_data, test_data = train_test_split(\n",
        "        data,\n",
        "        test_size=0.3,\n",
        "        random_state=42+sample,\n",
        "        stratify=data['quality_class']\n",
        "    )\n",
        "\n",
        "    exp = setup(\n",
        "        data=train_data,\n",
        "        target='quality_class',\n",
        "        session_id=42+sample,\n",
        "        verbose=False\n",
        "    )\n",
        "\n",
        "    # Create and tune SVM model\n",
        "    svm = create_model('svm', verbose=False)\n",
        "\n",
        "    # Track optimization progress\n",
        "    for i in range(10):  # 10 iterations\n",
        "        tuned_svm = tune_model(svm, n_iter=1, optimize='Accuracy', verbose=False)\n",
        "        pred = predict_model(tuned_svm, data=test_data)\n",
        "\n",
        "        # Get accuracy (robust method)\n",
        "        if 'Accuracy' in pred.columns:\n",
        "            current_acc = float(pred['Accuracy'].iloc[0])\n",
        "        else:\n",
        "            from sklearn.metrics import accuracy_score\n",
        "            current_acc = accuracy_score(pred['quality_class'], pred['prediction_label'])\n",
        "\n",
        "        accuracy_history[sample-1].append(current_acc)\n",
        "\n",
        "        # Update best model\n",
        "        if current_acc > best_accuracy:\n",
        "            best_accuracy = current_acc\n",
        "            best_sample = sample\n",
        "            best_model = tuned_svm\n",
        "\n",
        "    # Store final results for this sample\n",
        "    params = tuned_svm.get_params()\n",
        "    results.append({\n",
        "        'Sample #': f'S{sample}',\n",
        "        'Best Accuracy': accuracy_history[sample-1][-1],\n",
        "        'Kernel': params.get('kernel', 'N/A'),\n",
        "        'Nu': params.get('nu', 'N/A'),\n",
        "        'Epsilon': params.get('epsilon', 'N/A')\n",
        "    })\n",
        "\n",
        "# Results output\n",
        "results_df = pd.DataFrame(results)\n",
        "print(\"\\n\" + \"=\"*80)\n",
        "print(\"Table 1: Comparative performance of Optimized-SVM with different samples\")\n",
        "print(\"=\"*80)\n",
        "print(results_df.to_string(index=False))\n",
        "\n",
        "\n",
        "plt.figure(figsize=(10, 6))\n",
        "plt.plot(accuracy_history[best_sample-1], marker='o', color='b')\n",
        "plt.title(f\"Figure 1: Convergence Graph for Best SVM (Sample S{best_sample})\")\n",
        "plt.xlabel(\"Iteration\")\n",
        "plt.ylabel(\"Accuracy\")\n",
        "plt.grid(True)\n",
        "plt.show()\n",
        "\n",
        "\n",
        "save_model(best_model, 'best_svm_model')\n",
        "results_df.to_csv('svm_optimization_results.csv', index=False)\n",
        "\n",
        "print(\"Program ended\")"
      ],
      "metadata": {
        "id": "ADm_R_ccEC8r",
        "outputId": "a5eb836b-9536-41f5-e25f-f9476f4c7d48",
        "colab": {
          "base_uri": "https://localhost:8080/",
          "height": 1000
        }
      },
      "execution_count": 30,
      "outputs": [
        {
          "output_type": "stream",
          "name": "stdout",
          "text": [
            "\n",
            "==================================================\n",
            "Processing Sample #1\n",
            "==================================================\n"
          ]
        },
        {
          "output_type": "display_data",
          "data": {
            "text/plain": [
              "<pandas.io.formats.style.Styler at 0x7ce6006cbd10>"
            ],
            "text/html": [
              "<style type=\"text/css\">\n",
              "</style>\n",
              "<table id=\"T_18b47\" class=\"dataframe\">\n",
              "  <thead>\n",
              "    <tr>\n",
              "      <th class=\"blank level0\" >&nbsp;</th>\n",
              "      <th id=\"T_18b47_level0_col0\" class=\"col_heading level0 col0\" >Model</th>\n",
              "      <th id=\"T_18b47_level0_col1\" class=\"col_heading level0 col1\" >Accuracy</th>\n",
              "      <th id=\"T_18b47_level0_col2\" class=\"col_heading level0 col2\" >AUC</th>\n",
              "      <th id=\"T_18b47_level0_col3\" class=\"col_heading level0 col3\" >Recall</th>\n",
              "      <th id=\"T_18b47_level0_col4\" class=\"col_heading level0 col4\" >Prec.</th>\n",
              "      <th id=\"T_18b47_level0_col5\" class=\"col_heading level0 col5\" >F1</th>\n",
              "      <th id=\"T_18b47_level0_col6\" class=\"col_heading level0 col6\" >Kappa</th>\n",
              "      <th id=\"T_18b47_level0_col7\" class=\"col_heading level0 col7\" >MCC</th>\n",
              "    </tr>\n",
              "  </thead>\n",
              "  <tbody>\n",
              "    <tr>\n",
              "      <th id=\"T_18b47_level0_row0\" class=\"row_heading level0 row0\" >0</th>\n",
              "      <td id=\"T_18b47_row0_col0\" class=\"data row0 col0\" >SVM - Linear Kernel</td>\n",
              "      <td id=\"T_18b47_row0_col1\" class=\"data row0 col1\" >0.8026</td>\n",
              "      <td id=\"T_18b47_row0_col2\" class=\"data row0 col2\" >0</td>\n",
              "      <td id=\"T_18b47_row0_col3\" class=\"data row0 col3\" >0.8026</td>\n",
              "      <td id=\"T_18b47_row0_col4\" class=\"data row0 col4\" >0.6456</td>\n",
              "      <td id=\"T_18b47_row0_col5\" class=\"data row0 col5\" >0.7156</td>\n",
              "      <td id=\"T_18b47_row0_col6\" class=\"data row0 col6\" >-0.0020</td>\n",
              "      <td id=\"T_18b47_row0_col7\" class=\"data row0 col7\" >-0.0158</td>\n",
              "    </tr>\n",
              "  </tbody>\n",
              "</table>\n"
            ]
          },
          "metadata": {}
        },
        {
          "output_type": "display_data",
          "data": {
            "text/plain": [
              "<pandas.io.formats.style.Styler at 0x7ce5ebdda350>"
            ],
            "text/html": [
              "<style type=\"text/css\">\n",
              "</style>\n",
              "<table id=\"T_3ac97\" class=\"dataframe\">\n",
              "  <thead>\n",
              "    <tr>\n",
              "      <th class=\"blank level0\" >&nbsp;</th>\n",
              "      <th id=\"T_3ac97_level0_col0\" class=\"col_heading level0 col0\" >Model</th>\n",
              "      <th id=\"T_3ac97_level0_col1\" class=\"col_heading level0 col1\" >Accuracy</th>\n",
              "      <th id=\"T_3ac97_level0_col2\" class=\"col_heading level0 col2\" >AUC</th>\n",
              "      <th id=\"T_3ac97_level0_col3\" class=\"col_heading level0 col3\" >Recall</th>\n",
              "      <th id=\"T_3ac97_level0_col4\" class=\"col_heading level0 col4\" >Prec.</th>\n",
              "      <th id=\"T_3ac97_level0_col5\" class=\"col_heading level0 col5\" >F1</th>\n",
              "      <th id=\"T_3ac97_level0_col6\" class=\"col_heading level0 col6\" >Kappa</th>\n",
              "      <th id=\"T_3ac97_level0_col7\" class=\"col_heading level0 col7\" >MCC</th>\n",
              "    </tr>\n",
              "  </thead>\n",
              "  <tbody>\n",
              "    <tr>\n",
              "      <th id=\"T_3ac97_level0_row0\" class=\"row_heading level0 row0\" >0</th>\n",
              "      <td id=\"T_3ac97_row0_col0\" class=\"data row0 col0\" >SVM - Linear Kernel</td>\n",
              "      <td id=\"T_3ac97_row0_col1\" class=\"data row0 col1\" >0.8026</td>\n",
              "      <td id=\"T_3ac97_row0_col2\" class=\"data row0 col2\" >0</td>\n",
              "      <td id=\"T_3ac97_row0_col3\" class=\"data row0 col3\" >0.8026</td>\n",
              "      <td id=\"T_3ac97_row0_col4\" class=\"data row0 col4\" >0.6456</td>\n",
              "      <td id=\"T_3ac97_row0_col5\" class=\"data row0 col5\" >0.7156</td>\n",
              "      <td id=\"T_3ac97_row0_col6\" class=\"data row0 col6\" >-0.0020</td>\n",
              "      <td id=\"T_3ac97_row0_col7\" class=\"data row0 col7\" >-0.0158</td>\n",
              "    </tr>\n",
              "  </tbody>\n",
              "</table>\n"
            ]
          },
          "metadata": {}
        },
        {
          "output_type": "display_data",
          "data": {
            "text/plain": [
              "<pandas.io.formats.style.Styler at 0x7ce749b82c50>"
            ],
            "text/html": [
              "<style type=\"text/css\">\n",
              "</style>\n",
              "<table id=\"T_4eced\" class=\"dataframe\">\n",
              "  <thead>\n",
              "    <tr>\n",
              "      <th class=\"blank level0\" >&nbsp;</th>\n",
              "      <th id=\"T_4eced_level0_col0\" class=\"col_heading level0 col0\" >Model</th>\n",
              "      <th id=\"T_4eced_level0_col1\" class=\"col_heading level0 col1\" >Accuracy</th>\n",
              "      <th id=\"T_4eced_level0_col2\" class=\"col_heading level0 col2\" >AUC</th>\n",
              "      <th id=\"T_4eced_level0_col3\" class=\"col_heading level0 col3\" >Recall</th>\n",
              "      <th id=\"T_4eced_level0_col4\" class=\"col_heading level0 col4\" >Prec.</th>\n",
              "      <th id=\"T_4eced_level0_col5\" class=\"col_heading level0 col5\" >F1</th>\n",
              "      <th id=\"T_4eced_level0_col6\" class=\"col_heading level0 col6\" >Kappa</th>\n",
              "      <th id=\"T_4eced_level0_col7\" class=\"col_heading level0 col7\" >MCC</th>\n",
              "    </tr>\n",
              "  </thead>\n",
              "  <tbody>\n",
              "    <tr>\n",
              "      <th id=\"T_4eced_level0_row0\" class=\"row_heading level0 row0\" >0</th>\n",
              "      <td id=\"T_4eced_row0_col0\" class=\"data row0 col0\" >SVM - Linear Kernel</td>\n",
              "      <td id=\"T_4eced_row0_col1\" class=\"data row0 col1\" >0.8026</td>\n",
              "      <td id=\"T_4eced_row0_col2\" class=\"data row0 col2\" >0</td>\n",
              "      <td id=\"T_4eced_row0_col3\" class=\"data row0 col3\" >0.8026</td>\n",
              "      <td id=\"T_4eced_row0_col4\" class=\"data row0 col4\" >0.6456</td>\n",
              "      <td id=\"T_4eced_row0_col5\" class=\"data row0 col5\" >0.7156</td>\n",
              "      <td id=\"T_4eced_row0_col6\" class=\"data row0 col6\" >-0.0020</td>\n",
              "      <td id=\"T_4eced_row0_col7\" class=\"data row0 col7\" >-0.0158</td>\n",
              "    </tr>\n",
              "  </tbody>\n",
              "</table>\n"
            ]
          },
          "metadata": {}
        },
        {
          "output_type": "display_data",
          "data": {
            "text/plain": [
              "<pandas.io.formats.style.Styler at 0x7ce6014c52d0>"
            ],
            "text/html": [
              "<style type=\"text/css\">\n",
              "</style>\n",
              "<table id=\"T_d1785\" class=\"dataframe\">\n",
              "  <thead>\n",
              "    <tr>\n",
              "      <th class=\"blank level0\" >&nbsp;</th>\n",
              "      <th id=\"T_d1785_level0_col0\" class=\"col_heading level0 col0\" >Model</th>\n",
              "      <th id=\"T_d1785_level0_col1\" class=\"col_heading level0 col1\" >Accuracy</th>\n",
              "      <th id=\"T_d1785_level0_col2\" class=\"col_heading level0 col2\" >AUC</th>\n",
              "      <th id=\"T_d1785_level0_col3\" class=\"col_heading level0 col3\" >Recall</th>\n",
              "      <th id=\"T_d1785_level0_col4\" class=\"col_heading level0 col4\" >Prec.</th>\n",
              "      <th id=\"T_d1785_level0_col5\" class=\"col_heading level0 col5\" >F1</th>\n",
              "      <th id=\"T_d1785_level0_col6\" class=\"col_heading level0 col6\" >Kappa</th>\n",
              "      <th id=\"T_d1785_level0_col7\" class=\"col_heading level0 col7\" >MCC</th>\n",
              "    </tr>\n",
              "  </thead>\n",
              "  <tbody>\n",
              "    <tr>\n",
              "      <th id=\"T_d1785_level0_row0\" class=\"row_heading level0 row0\" >0</th>\n",
              "      <td id=\"T_d1785_row0_col0\" class=\"data row0 col0\" >SVM - Linear Kernel</td>\n",
              "      <td id=\"T_d1785_row0_col1\" class=\"data row0 col1\" >0.8026</td>\n",
              "      <td id=\"T_d1785_row0_col2\" class=\"data row0 col2\" >0</td>\n",
              "      <td id=\"T_d1785_row0_col3\" class=\"data row0 col3\" >0.8026</td>\n",
              "      <td id=\"T_d1785_row0_col4\" class=\"data row0 col4\" >0.6456</td>\n",
              "      <td id=\"T_d1785_row0_col5\" class=\"data row0 col5\" >0.7156</td>\n",
              "      <td id=\"T_d1785_row0_col6\" class=\"data row0 col6\" >-0.0020</td>\n",
              "      <td id=\"T_d1785_row0_col7\" class=\"data row0 col7\" >-0.0158</td>\n",
              "    </tr>\n",
              "  </tbody>\n",
              "</table>\n"
            ]
          },
          "metadata": {}
        },
        {
          "output_type": "display_data",
          "data": {
            "text/plain": [
              "<pandas.io.formats.style.Styler at 0x7ce73d9b71d0>"
            ],
            "text/html": [
              "<style type=\"text/css\">\n",
              "</style>\n",
              "<table id=\"T_8c45b\" class=\"dataframe\">\n",
              "  <thead>\n",
              "    <tr>\n",
              "      <th class=\"blank level0\" >&nbsp;</th>\n",
              "      <th id=\"T_8c45b_level0_col0\" class=\"col_heading level0 col0\" >Model</th>\n",
              "      <th id=\"T_8c45b_level0_col1\" class=\"col_heading level0 col1\" >Accuracy</th>\n",
              "      <th id=\"T_8c45b_level0_col2\" class=\"col_heading level0 col2\" >AUC</th>\n",
              "      <th id=\"T_8c45b_level0_col3\" class=\"col_heading level0 col3\" >Recall</th>\n",
              "      <th id=\"T_8c45b_level0_col4\" class=\"col_heading level0 col4\" >Prec.</th>\n",
              "      <th id=\"T_8c45b_level0_col5\" class=\"col_heading level0 col5\" >F1</th>\n",
              "      <th id=\"T_8c45b_level0_col6\" class=\"col_heading level0 col6\" >Kappa</th>\n",
              "      <th id=\"T_8c45b_level0_col7\" class=\"col_heading level0 col7\" >MCC</th>\n",
              "    </tr>\n",
              "  </thead>\n",
              "  <tbody>\n",
              "    <tr>\n",
              "      <th id=\"T_8c45b_level0_row0\" class=\"row_heading level0 row0\" >0</th>\n",
              "      <td id=\"T_8c45b_row0_col0\" class=\"data row0 col0\" >SVM - Linear Kernel</td>\n",
              "      <td id=\"T_8c45b_row0_col1\" class=\"data row0 col1\" >0.8026</td>\n",
              "      <td id=\"T_8c45b_row0_col2\" class=\"data row0 col2\" >0</td>\n",
              "      <td id=\"T_8c45b_row0_col3\" class=\"data row0 col3\" >0.8026</td>\n",
              "      <td id=\"T_8c45b_row0_col4\" class=\"data row0 col4\" >0.6456</td>\n",
              "      <td id=\"T_8c45b_row0_col5\" class=\"data row0 col5\" >0.7156</td>\n",
              "      <td id=\"T_8c45b_row0_col6\" class=\"data row0 col6\" >-0.0020</td>\n",
              "      <td id=\"T_8c45b_row0_col7\" class=\"data row0 col7\" >-0.0158</td>\n",
              "    </tr>\n",
              "  </tbody>\n",
              "</table>\n"
            ]
          },
          "metadata": {}
        },
        {
          "output_type": "display_data",
          "data": {
            "text/plain": [
              "<pandas.io.formats.style.Styler at 0x7ce601e16210>"
            ],
            "text/html": [
              "<style type=\"text/css\">\n",
              "</style>\n",
              "<table id=\"T_8c302\" class=\"dataframe\">\n",
              "  <thead>\n",
              "    <tr>\n",
              "      <th class=\"blank level0\" >&nbsp;</th>\n",
              "      <th id=\"T_8c302_level0_col0\" class=\"col_heading level0 col0\" >Model</th>\n",
              "      <th id=\"T_8c302_level0_col1\" class=\"col_heading level0 col1\" >Accuracy</th>\n",
              "      <th id=\"T_8c302_level0_col2\" class=\"col_heading level0 col2\" >AUC</th>\n",
              "      <th id=\"T_8c302_level0_col3\" class=\"col_heading level0 col3\" >Recall</th>\n",
              "      <th id=\"T_8c302_level0_col4\" class=\"col_heading level0 col4\" >Prec.</th>\n",
              "      <th id=\"T_8c302_level0_col5\" class=\"col_heading level0 col5\" >F1</th>\n",
              "      <th id=\"T_8c302_level0_col6\" class=\"col_heading level0 col6\" >Kappa</th>\n",
              "      <th id=\"T_8c302_level0_col7\" class=\"col_heading level0 col7\" >MCC</th>\n",
              "    </tr>\n",
              "  </thead>\n",
              "  <tbody>\n",
              "    <tr>\n",
              "      <th id=\"T_8c302_level0_row0\" class=\"row_heading level0 row0\" >0</th>\n",
              "      <td id=\"T_8c302_row0_col0\" class=\"data row0 col0\" >SVM - Linear Kernel</td>\n",
              "      <td id=\"T_8c302_row0_col1\" class=\"data row0 col1\" >0.8026</td>\n",
              "      <td id=\"T_8c302_row0_col2\" class=\"data row0 col2\" >0</td>\n",
              "      <td id=\"T_8c302_row0_col3\" class=\"data row0 col3\" >0.8026</td>\n",
              "      <td id=\"T_8c302_row0_col4\" class=\"data row0 col4\" >0.6456</td>\n",
              "      <td id=\"T_8c302_row0_col5\" class=\"data row0 col5\" >0.7156</td>\n",
              "      <td id=\"T_8c302_row0_col6\" class=\"data row0 col6\" >-0.0020</td>\n",
              "      <td id=\"T_8c302_row0_col7\" class=\"data row0 col7\" >-0.0158</td>\n",
              "    </tr>\n",
              "  </tbody>\n",
              "</table>\n"
            ]
          },
          "metadata": {}
        },
        {
          "output_type": "display_data",
          "data": {
            "text/plain": [
              "<pandas.io.formats.style.Styler at 0x7ce749e36e10>"
            ],
            "text/html": [
              "<style type=\"text/css\">\n",
              "</style>\n",
              "<table id=\"T_f56f1\" class=\"dataframe\">\n",
              "  <thead>\n",
              "    <tr>\n",
              "      <th class=\"blank level0\" >&nbsp;</th>\n",
              "      <th id=\"T_f56f1_level0_col0\" class=\"col_heading level0 col0\" >Model</th>\n",
              "      <th id=\"T_f56f1_level0_col1\" class=\"col_heading level0 col1\" >Accuracy</th>\n",
              "      <th id=\"T_f56f1_level0_col2\" class=\"col_heading level0 col2\" >AUC</th>\n",
              "      <th id=\"T_f56f1_level0_col3\" class=\"col_heading level0 col3\" >Recall</th>\n",
              "      <th id=\"T_f56f1_level0_col4\" class=\"col_heading level0 col4\" >Prec.</th>\n",
              "      <th id=\"T_f56f1_level0_col5\" class=\"col_heading level0 col5\" >F1</th>\n",
              "      <th id=\"T_f56f1_level0_col6\" class=\"col_heading level0 col6\" >Kappa</th>\n",
              "      <th id=\"T_f56f1_level0_col7\" class=\"col_heading level0 col7\" >MCC</th>\n",
              "    </tr>\n",
              "  </thead>\n",
              "  <tbody>\n",
              "    <tr>\n",
              "      <th id=\"T_f56f1_level0_row0\" class=\"row_heading level0 row0\" >0</th>\n",
              "      <td id=\"T_f56f1_row0_col0\" class=\"data row0 col0\" >SVM - Linear Kernel</td>\n",
              "      <td id=\"T_f56f1_row0_col1\" class=\"data row0 col1\" >0.8026</td>\n",
              "      <td id=\"T_f56f1_row0_col2\" class=\"data row0 col2\" >0</td>\n",
              "      <td id=\"T_f56f1_row0_col3\" class=\"data row0 col3\" >0.8026</td>\n",
              "      <td id=\"T_f56f1_row0_col4\" class=\"data row0 col4\" >0.6456</td>\n",
              "      <td id=\"T_f56f1_row0_col5\" class=\"data row0 col5\" >0.7156</td>\n",
              "      <td id=\"T_f56f1_row0_col6\" class=\"data row0 col6\" >-0.0020</td>\n",
              "      <td id=\"T_f56f1_row0_col7\" class=\"data row0 col7\" >-0.0158</td>\n",
              "    </tr>\n",
              "  </tbody>\n",
              "</table>\n"
            ]
          },
          "metadata": {}
        },
        {
          "output_type": "display_data",
          "data": {
            "text/plain": [
              "<pandas.io.formats.style.Styler at 0x7ce6003b3290>"
            ],
            "text/html": [
              "<style type=\"text/css\">\n",
              "</style>\n",
              "<table id=\"T_3a5f5\" class=\"dataframe\">\n",
              "  <thead>\n",
              "    <tr>\n",
              "      <th class=\"blank level0\" >&nbsp;</th>\n",
              "      <th id=\"T_3a5f5_level0_col0\" class=\"col_heading level0 col0\" >Model</th>\n",
              "      <th id=\"T_3a5f5_level0_col1\" class=\"col_heading level0 col1\" >Accuracy</th>\n",
              "      <th id=\"T_3a5f5_level0_col2\" class=\"col_heading level0 col2\" >AUC</th>\n",
              "      <th id=\"T_3a5f5_level0_col3\" class=\"col_heading level0 col3\" >Recall</th>\n",
              "      <th id=\"T_3a5f5_level0_col4\" class=\"col_heading level0 col4\" >Prec.</th>\n",
              "      <th id=\"T_3a5f5_level0_col5\" class=\"col_heading level0 col5\" >F1</th>\n",
              "      <th id=\"T_3a5f5_level0_col6\" class=\"col_heading level0 col6\" >Kappa</th>\n",
              "      <th id=\"T_3a5f5_level0_col7\" class=\"col_heading level0 col7\" >MCC</th>\n",
              "    </tr>\n",
              "  </thead>\n",
              "  <tbody>\n",
              "    <tr>\n",
              "      <th id=\"T_3a5f5_level0_row0\" class=\"row_heading level0 row0\" >0</th>\n",
              "      <td id=\"T_3a5f5_row0_col0\" class=\"data row0 col0\" >SVM - Linear Kernel</td>\n",
              "      <td id=\"T_3a5f5_row0_col1\" class=\"data row0 col1\" >0.8026</td>\n",
              "      <td id=\"T_3a5f5_row0_col2\" class=\"data row0 col2\" >0</td>\n",
              "      <td id=\"T_3a5f5_row0_col3\" class=\"data row0 col3\" >0.8026</td>\n",
              "      <td id=\"T_3a5f5_row0_col4\" class=\"data row0 col4\" >0.6456</td>\n",
              "      <td id=\"T_3a5f5_row0_col5\" class=\"data row0 col5\" >0.7156</td>\n",
              "      <td id=\"T_3a5f5_row0_col6\" class=\"data row0 col6\" >-0.0020</td>\n",
              "      <td id=\"T_3a5f5_row0_col7\" class=\"data row0 col7\" >-0.0158</td>\n",
              "    </tr>\n",
              "  </tbody>\n",
              "</table>\n"
            ]
          },
          "metadata": {}
        },
        {
          "output_type": "display_data",
          "data": {
            "text/plain": [
              "<pandas.io.formats.style.Styler at 0x7ce74d148890>"
            ],
            "text/html": [
              "<style type=\"text/css\">\n",
              "</style>\n",
              "<table id=\"T_dabff\" class=\"dataframe\">\n",
              "  <thead>\n",
              "    <tr>\n",
              "      <th class=\"blank level0\" >&nbsp;</th>\n",
              "      <th id=\"T_dabff_level0_col0\" class=\"col_heading level0 col0\" >Model</th>\n",
              "      <th id=\"T_dabff_level0_col1\" class=\"col_heading level0 col1\" >Accuracy</th>\n",
              "      <th id=\"T_dabff_level0_col2\" class=\"col_heading level0 col2\" >AUC</th>\n",
              "      <th id=\"T_dabff_level0_col3\" class=\"col_heading level0 col3\" >Recall</th>\n",
              "      <th id=\"T_dabff_level0_col4\" class=\"col_heading level0 col4\" >Prec.</th>\n",
              "      <th id=\"T_dabff_level0_col5\" class=\"col_heading level0 col5\" >F1</th>\n",
              "      <th id=\"T_dabff_level0_col6\" class=\"col_heading level0 col6\" >Kappa</th>\n",
              "      <th id=\"T_dabff_level0_col7\" class=\"col_heading level0 col7\" >MCC</th>\n",
              "    </tr>\n",
              "  </thead>\n",
              "  <tbody>\n",
              "    <tr>\n",
              "      <th id=\"T_dabff_level0_row0\" class=\"row_heading level0 row0\" >0</th>\n",
              "      <td id=\"T_dabff_row0_col0\" class=\"data row0 col0\" >SVM - Linear Kernel</td>\n",
              "      <td id=\"T_dabff_row0_col1\" class=\"data row0 col1\" >0.8026</td>\n",
              "      <td id=\"T_dabff_row0_col2\" class=\"data row0 col2\" >0</td>\n",
              "      <td id=\"T_dabff_row0_col3\" class=\"data row0 col3\" >0.8026</td>\n",
              "      <td id=\"T_dabff_row0_col4\" class=\"data row0 col4\" >0.6456</td>\n",
              "      <td id=\"T_dabff_row0_col5\" class=\"data row0 col5\" >0.7156</td>\n",
              "      <td id=\"T_dabff_row0_col6\" class=\"data row0 col6\" >-0.0020</td>\n",
              "      <td id=\"T_dabff_row0_col7\" class=\"data row0 col7\" >-0.0158</td>\n",
              "    </tr>\n",
              "  </tbody>\n",
              "</table>\n"
            ]
          },
          "metadata": {}
        },
        {
          "output_type": "display_data",
          "data": {
            "text/plain": [
              "<pandas.io.formats.style.Styler at 0x7ce749e372d0>"
            ],
            "text/html": [
              "<style type=\"text/css\">\n",
              "</style>\n",
              "<table id=\"T_1a4a8\" class=\"dataframe\">\n",
              "  <thead>\n",
              "    <tr>\n",
              "      <th class=\"blank level0\" >&nbsp;</th>\n",
              "      <th id=\"T_1a4a8_level0_col0\" class=\"col_heading level0 col0\" >Model</th>\n",
              "      <th id=\"T_1a4a8_level0_col1\" class=\"col_heading level0 col1\" >Accuracy</th>\n",
              "      <th id=\"T_1a4a8_level0_col2\" class=\"col_heading level0 col2\" >AUC</th>\n",
              "      <th id=\"T_1a4a8_level0_col3\" class=\"col_heading level0 col3\" >Recall</th>\n",
              "      <th id=\"T_1a4a8_level0_col4\" class=\"col_heading level0 col4\" >Prec.</th>\n",
              "      <th id=\"T_1a4a8_level0_col5\" class=\"col_heading level0 col5\" >F1</th>\n",
              "      <th id=\"T_1a4a8_level0_col6\" class=\"col_heading level0 col6\" >Kappa</th>\n",
              "      <th id=\"T_1a4a8_level0_col7\" class=\"col_heading level0 col7\" >MCC</th>\n",
              "    </tr>\n",
              "  </thead>\n",
              "  <tbody>\n",
              "    <tr>\n",
              "      <th id=\"T_1a4a8_level0_row0\" class=\"row_heading level0 row0\" >0</th>\n",
              "      <td id=\"T_1a4a8_row0_col0\" class=\"data row0 col0\" >SVM - Linear Kernel</td>\n",
              "      <td id=\"T_1a4a8_row0_col1\" class=\"data row0 col1\" >0.8026</td>\n",
              "      <td id=\"T_1a4a8_row0_col2\" class=\"data row0 col2\" >0</td>\n",
              "      <td id=\"T_1a4a8_row0_col3\" class=\"data row0 col3\" >0.8026</td>\n",
              "      <td id=\"T_1a4a8_row0_col4\" class=\"data row0 col4\" >0.6456</td>\n",
              "      <td id=\"T_1a4a8_row0_col5\" class=\"data row0 col5\" >0.7156</td>\n",
              "      <td id=\"T_1a4a8_row0_col6\" class=\"data row0 col6\" >-0.0020</td>\n",
              "      <td id=\"T_1a4a8_row0_col7\" class=\"data row0 col7\" >-0.0158</td>\n",
              "    </tr>\n",
              "  </tbody>\n",
              "</table>\n"
            ]
          },
          "metadata": {}
        },
        {
          "output_type": "stream",
          "name": "stdout",
          "text": [
            "\n",
            "==================================================\n",
            "Processing Sample #2\n",
            "==================================================\n"
          ]
        },
        {
          "output_type": "display_data",
          "data": {
            "text/plain": [
              "<pandas.io.formats.style.Styler at 0x7ce5ebdd1d10>"
            ],
            "text/html": [
              "<style type=\"text/css\">\n",
              "</style>\n",
              "<table id=\"T_f7240\" class=\"dataframe\">\n",
              "  <thead>\n",
              "    <tr>\n",
              "      <th class=\"blank level0\" >&nbsp;</th>\n",
              "      <th id=\"T_f7240_level0_col0\" class=\"col_heading level0 col0\" >Model</th>\n",
              "      <th id=\"T_f7240_level0_col1\" class=\"col_heading level0 col1\" >Accuracy</th>\n",
              "      <th id=\"T_f7240_level0_col2\" class=\"col_heading level0 col2\" >AUC</th>\n",
              "      <th id=\"T_f7240_level0_col3\" class=\"col_heading level0 col3\" >Recall</th>\n",
              "      <th id=\"T_f7240_level0_col4\" class=\"col_heading level0 col4\" >Prec.</th>\n",
              "      <th id=\"T_f7240_level0_col5\" class=\"col_heading level0 col5\" >F1</th>\n",
              "      <th id=\"T_f7240_level0_col6\" class=\"col_heading level0 col6\" >Kappa</th>\n",
              "      <th id=\"T_f7240_level0_col7\" class=\"col_heading level0 col7\" >MCC</th>\n",
              "    </tr>\n",
              "  </thead>\n",
              "  <tbody>\n",
              "    <tr>\n",
              "      <th id=\"T_f7240_level0_row0\" class=\"row_heading level0 row0\" >0</th>\n",
              "      <td id=\"T_f7240_row0_col0\" class=\"data row0 col0\" >SVM - Linear Kernel</td>\n",
              "      <td id=\"T_f7240_row0_col1\" class=\"data row0 col1\" >0.7897</td>\n",
              "      <td id=\"T_f7240_row0_col2\" class=\"data row0 col2\" >0</td>\n",
              "      <td id=\"T_f7240_row0_col3\" class=\"data row0 col3\" >0.7897</td>\n",
              "      <td id=\"T_f7240_row0_col4\" class=\"data row0 col4\" >0.7706</td>\n",
              "      <td id=\"T_f7240_row0_col5\" class=\"data row0 col5\" >0.7781</td>\n",
              "      <td id=\"T_f7240_row0_col6\" class=\"data row0 col6\" >0.2669</td>\n",
              "      <td id=\"T_f7240_row0_col7\" class=\"data row0 col7\" >0.2706</td>\n",
              "    </tr>\n",
              "  </tbody>\n",
              "</table>\n"
            ]
          },
          "metadata": {}
        },
        {
          "output_type": "display_data",
          "data": {
            "text/plain": [
              "<pandas.io.formats.style.Styler at 0x7ce600558150>"
            ],
            "text/html": [
              "<style type=\"text/css\">\n",
              "</style>\n",
              "<table id=\"T_77140\" class=\"dataframe\">\n",
              "  <thead>\n",
              "    <tr>\n",
              "      <th class=\"blank level0\" >&nbsp;</th>\n",
              "      <th id=\"T_77140_level0_col0\" class=\"col_heading level0 col0\" >Model</th>\n",
              "      <th id=\"T_77140_level0_col1\" class=\"col_heading level0 col1\" >Accuracy</th>\n",
              "      <th id=\"T_77140_level0_col2\" class=\"col_heading level0 col2\" >AUC</th>\n",
              "      <th id=\"T_77140_level0_col3\" class=\"col_heading level0 col3\" >Recall</th>\n",
              "      <th id=\"T_77140_level0_col4\" class=\"col_heading level0 col4\" >Prec.</th>\n",
              "      <th id=\"T_77140_level0_col5\" class=\"col_heading level0 col5\" >F1</th>\n",
              "      <th id=\"T_77140_level0_col6\" class=\"col_heading level0 col6\" >Kappa</th>\n",
              "      <th id=\"T_77140_level0_col7\" class=\"col_heading level0 col7\" >MCC</th>\n",
              "    </tr>\n",
              "  </thead>\n",
              "  <tbody>\n",
              "    <tr>\n",
              "      <th id=\"T_77140_level0_row0\" class=\"row_heading level0 row0\" >0</th>\n",
              "      <td id=\"T_77140_row0_col0\" class=\"data row0 col0\" >SVM - Linear Kernel</td>\n",
              "      <td id=\"T_77140_row0_col1\" class=\"data row0 col1\" >0.7897</td>\n",
              "      <td id=\"T_77140_row0_col2\" class=\"data row0 col2\" >0</td>\n",
              "      <td id=\"T_77140_row0_col3\" class=\"data row0 col3\" >0.7897</td>\n",
              "      <td id=\"T_77140_row0_col4\" class=\"data row0 col4\" >0.7706</td>\n",
              "      <td id=\"T_77140_row0_col5\" class=\"data row0 col5\" >0.7781</td>\n",
              "      <td id=\"T_77140_row0_col6\" class=\"data row0 col6\" >0.2669</td>\n",
              "      <td id=\"T_77140_row0_col7\" class=\"data row0 col7\" >0.2706</td>\n",
              "    </tr>\n",
              "  </tbody>\n",
              "</table>\n"
            ]
          },
          "metadata": {}
        },
        {
          "output_type": "display_data",
          "data": {
            "text/plain": [
              "<pandas.io.formats.style.Styler at 0x7ce749c16c10>"
            ],
            "text/html": [
              "<style type=\"text/css\">\n",
              "</style>\n",
              "<table id=\"T_1c5a8\" class=\"dataframe\">\n",
              "  <thead>\n",
              "    <tr>\n",
              "      <th class=\"blank level0\" >&nbsp;</th>\n",
              "      <th id=\"T_1c5a8_level0_col0\" class=\"col_heading level0 col0\" >Model</th>\n",
              "      <th id=\"T_1c5a8_level0_col1\" class=\"col_heading level0 col1\" >Accuracy</th>\n",
              "      <th id=\"T_1c5a8_level0_col2\" class=\"col_heading level0 col2\" >AUC</th>\n",
              "      <th id=\"T_1c5a8_level0_col3\" class=\"col_heading level0 col3\" >Recall</th>\n",
              "      <th id=\"T_1c5a8_level0_col4\" class=\"col_heading level0 col4\" >Prec.</th>\n",
              "      <th id=\"T_1c5a8_level0_col5\" class=\"col_heading level0 col5\" >F1</th>\n",
              "      <th id=\"T_1c5a8_level0_col6\" class=\"col_heading level0 col6\" >Kappa</th>\n",
              "      <th id=\"T_1c5a8_level0_col7\" class=\"col_heading level0 col7\" >MCC</th>\n",
              "    </tr>\n",
              "  </thead>\n",
              "  <tbody>\n",
              "    <tr>\n",
              "      <th id=\"T_1c5a8_level0_row0\" class=\"row_heading level0 row0\" >0</th>\n",
              "      <td id=\"T_1c5a8_row0_col0\" class=\"data row0 col0\" >SVM - Linear Kernel</td>\n",
              "      <td id=\"T_1c5a8_row0_col1\" class=\"data row0 col1\" >0.7897</td>\n",
              "      <td id=\"T_1c5a8_row0_col2\" class=\"data row0 col2\" >0</td>\n",
              "      <td id=\"T_1c5a8_row0_col3\" class=\"data row0 col3\" >0.7897</td>\n",
              "      <td id=\"T_1c5a8_row0_col4\" class=\"data row0 col4\" >0.7706</td>\n",
              "      <td id=\"T_1c5a8_row0_col5\" class=\"data row0 col5\" >0.7781</td>\n",
              "      <td id=\"T_1c5a8_row0_col6\" class=\"data row0 col6\" >0.2669</td>\n",
              "      <td id=\"T_1c5a8_row0_col7\" class=\"data row0 col7\" >0.2706</td>\n",
              "    </tr>\n",
              "  </tbody>\n",
              "</table>\n"
            ]
          },
          "metadata": {}
        },
        {
          "output_type": "display_data",
          "data": {
            "text/plain": [
              "<pandas.io.formats.style.Styler at 0x7ce601293490>"
            ],
            "text/html": [
              "<style type=\"text/css\">\n",
              "</style>\n",
              "<table id=\"T_369c7\" class=\"dataframe\">\n",
              "  <thead>\n",
              "    <tr>\n",
              "      <th class=\"blank level0\" >&nbsp;</th>\n",
              "      <th id=\"T_369c7_level0_col0\" class=\"col_heading level0 col0\" >Model</th>\n",
              "      <th id=\"T_369c7_level0_col1\" class=\"col_heading level0 col1\" >Accuracy</th>\n",
              "      <th id=\"T_369c7_level0_col2\" class=\"col_heading level0 col2\" >AUC</th>\n",
              "      <th id=\"T_369c7_level0_col3\" class=\"col_heading level0 col3\" >Recall</th>\n",
              "      <th id=\"T_369c7_level0_col4\" class=\"col_heading level0 col4\" >Prec.</th>\n",
              "      <th id=\"T_369c7_level0_col5\" class=\"col_heading level0 col5\" >F1</th>\n",
              "      <th id=\"T_369c7_level0_col6\" class=\"col_heading level0 col6\" >Kappa</th>\n",
              "      <th id=\"T_369c7_level0_col7\" class=\"col_heading level0 col7\" >MCC</th>\n",
              "    </tr>\n",
              "  </thead>\n",
              "  <tbody>\n",
              "    <tr>\n",
              "      <th id=\"T_369c7_level0_row0\" class=\"row_heading level0 row0\" >0</th>\n",
              "      <td id=\"T_369c7_row0_col0\" class=\"data row0 col0\" >SVM - Linear Kernel</td>\n",
              "      <td id=\"T_369c7_row0_col1\" class=\"data row0 col1\" >0.7897</td>\n",
              "      <td id=\"T_369c7_row0_col2\" class=\"data row0 col2\" >0</td>\n",
              "      <td id=\"T_369c7_row0_col3\" class=\"data row0 col3\" >0.7897</td>\n",
              "      <td id=\"T_369c7_row0_col4\" class=\"data row0 col4\" >0.7706</td>\n",
              "      <td id=\"T_369c7_row0_col5\" class=\"data row0 col5\" >0.7781</td>\n",
              "      <td id=\"T_369c7_row0_col6\" class=\"data row0 col6\" >0.2669</td>\n",
              "      <td id=\"T_369c7_row0_col7\" class=\"data row0 col7\" >0.2706</td>\n",
              "    </tr>\n",
              "  </tbody>\n",
              "</table>\n"
            ]
          },
          "metadata": {}
        },
        {
          "output_type": "display_data",
          "data": {
            "text/plain": [
              "<pandas.io.formats.style.Styler at 0x7ce6003b1bd0>"
            ],
            "text/html": [
              "<style type=\"text/css\">\n",
              "</style>\n",
              "<table id=\"T_bc1d6\" class=\"dataframe\">\n",
              "  <thead>\n",
              "    <tr>\n",
              "      <th class=\"blank level0\" >&nbsp;</th>\n",
              "      <th id=\"T_bc1d6_level0_col0\" class=\"col_heading level0 col0\" >Model</th>\n",
              "      <th id=\"T_bc1d6_level0_col1\" class=\"col_heading level0 col1\" >Accuracy</th>\n",
              "      <th id=\"T_bc1d6_level0_col2\" class=\"col_heading level0 col2\" >AUC</th>\n",
              "      <th id=\"T_bc1d6_level0_col3\" class=\"col_heading level0 col3\" >Recall</th>\n",
              "      <th id=\"T_bc1d6_level0_col4\" class=\"col_heading level0 col4\" >Prec.</th>\n",
              "      <th id=\"T_bc1d6_level0_col5\" class=\"col_heading level0 col5\" >F1</th>\n",
              "      <th id=\"T_bc1d6_level0_col6\" class=\"col_heading level0 col6\" >Kappa</th>\n",
              "      <th id=\"T_bc1d6_level0_col7\" class=\"col_heading level0 col7\" >MCC</th>\n",
              "    </tr>\n",
              "  </thead>\n",
              "  <tbody>\n",
              "    <tr>\n",
              "      <th id=\"T_bc1d6_level0_row0\" class=\"row_heading level0 row0\" >0</th>\n",
              "      <td id=\"T_bc1d6_row0_col0\" class=\"data row0 col0\" >SVM - Linear Kernel</td>\n",
              "      <td id=\"T_bc1d6_row0_col1\" class=\"data row0 col1\" >0.7897</td>\n",
              "      <td id=\"T_bc1d6_row0_col2\" class=\"data row0 col2\" >0</td>\n",
              "      <td id=\"T_bc1d6_row0_col3\" class=\"data row0 col3\" >0.7897</td>\n",
              "      <td id=\"T_bc1d6_row0_col4\" class=\"data row0 col4\" >0.7706</td>\n",
              "      <td id=\"T_bc1d6_row0_col5\" class=\"data row0 col5\" >0.7781</td>\n",
              "      <td id=\"T_bc1d6_row0_col6\" class=\"data row0 col6\" >0.2669</td>\n",
              "      <td id=\"T_bc1d6_row0_col7\" class=\"data row0 col7\" >0.2706</td>\n",
              "    </tr>\n",
              "  </tbody>\n",
              "</table>\n"
            ]
          },
          "metadata": {}
        },
        {
          "output_type": "display_data",
          "data": {
            "text/plain": [
              "<pandas.io.formats.style.Styler at 0x7ce601ef8050>"
            ],
            "text/html": [
              "<style type=\"text/css\">\n",
              "</style>\n",
              "<table id=\"T_6f886\" class=\"dataframe\">\n",
              "  <thead>\n",
              "    <tr>\n",
              "      <th class=\"blank level0\" >&nbsp;</th>\n",
              "      <th id=\"T_6f886_level0_col0\" class=\"col_heading level0 col0\" >Model</th>\n",
              "      <th id=\"T_6f886_level0_col1\" class=\"col_heading level0 col1\" >Accuracy</th>\n",
              "      <th id=\"T_6f886_level0_col2\" class=\"col_heading level0 col2\" >AUC</th>\n",
              "      <th id=\"T_6f886_level0_col3\" class=\"col_heading level0 col3\" >Recall</th>\n",
              "      <th id=\"T_6f886_level0_col4\" class=\"col_heading level0 col4\" >Prec.</th>\n",
              "      <th id=\"T_6f886_level0_col5\" class=\"col_heading level0 col5\" >F1</th>\n",
              "      <th id=\"T_6f886_level0_col6\" class=\"col_heading level0 col6\" >Kappa</th>\n",
              "      <th id=\"T_6f886_level0_col7\" class=\"col_heading level0 col7\" >MCC</th>\n",
              "    </tr>\n",
              "  </thead>\n",
              "  <tbody>\n",
              "    <tr>\n",
              "      <th id=\"T_6f886_level0_row0\" class=\"row_heading level0 row0\" >0</th>\n",
              "      <td id=\"T_6f886_row0_col0\" class=\"data row0 col0\" >SVM - Linear Kernel</td>\n",
              "      <td id=\"T_6f886_row0_col1\" class=\"data row0 col1\" >0.7897</td>\n",
              "      <td id=\"T_6f886_row0_col2\" class=\"data row0 col2\" >0</td>\n",
              "      <td id=\"T_6f886_row0_col3\" class=\"data row0 col3\" >0.7897</td>\n",
              "      <td id=\"T_6f886_row0_col4\" class=\"data row0 col4\" >0.7706</td>\n",
              "      <td id=\"T_6f886_row0_col5\" class=\"data row0 col5\" >0.7781</td>\n",
              "      <td id=\"T_6f886_row0_col6\" class=\"data row0 col6\" >0.2669</td>\n",
              "      <td id=\"T_6f886_row0_col7\" class=\"data row0 col7\" >0.2706</td>\n",
              "    </tr>\n",
              "  </tbody>\n",
              "</table>\n"
            ]
          },
          "metadata": {}
        },
        {
          "output_type": "display_data",
          "data": {
            "text/plain": [
              "<pandas.io.formats.style.Styler at 0x7ce749b81a90>"
            ],
            "text/html": [
              "<style type=\"text/css\">\n",
              "</style>\n",
              "<table id=\"T_a8b28\" class=\"dataframe\">\n",
              "  <thead>\n",
              "    <tr>\n",
              "      <th class=\"blank level0\" >&nbsp;</th>\n",
              "      <th id=\"T_a8b28_level0_col0\" class=\"col_heading level0 col0\" >Model</th>\n",
              "      <th id=\"T_a8b28_level0_col1\" class=\"col_heading level0 col1\" >Accuracy</th>\n",
              "      <th id=\"T_a8b28_level0_col2\" class=\"col_heading level0 col2\" >AUC</th>\n",
              "      <th id=\"T_a8b28_level0_col3\" class=\"col_heading level0 col3\" >Recall</th>\n",
              "      <th id=\"T_a8b28_level0_col4\" class=\"col_heading level0 col4\" >Prec.</th>\n",
              "      <th id=\"T_a8b28_level0_col5\" class=\"col_heading level0 col5\" >F1</th>\n",
              "      <th id=\"T_a8b28_level0_col6\" class=\"col_heading level0 col6\" >Kappa</th>\n",
              "      <th id=\"T_a8b28_level0_col7\" class=\"col_heading level0 col7\" >MCC</th>\n",
              "    </tr>\n",
              "  </thead>\n",
              "  <tbody>\n",
              "    <tr>\n",
              "      <th id=\"T_a8b28_level0_row0\" class=\"row_heading level0 row0\" >0</th>\n",
              "      <td id=\"T_a8b28_row0_col0\" class=\"data row0 col0\" >SVM - Linear Kernel</td>\n",
              "      <td id=\"T_a8b28_row0_col1\" class=\"data row0 col1\" >0.7897</td>\n",
              "      <td id=\"T_a8b28_row0_col2\" class=\"data row0 col2\" >0</td>\n",
              "      <td id=\"T_a8b28_row0_col3\" class=\"data row0 col3\" >0.7897</td>\n",
              "      <td id=\"T_a8b28_row0_col4\" class=\"data row0 col4\" >0.7706</td>\n",
              "      <td id=\"T_a8b28_row0_col5\" class=\"data row0 col5\" >0.7781</td>\n",
              "      <td id=\"T_a8b28_row0_col6\" class=\"data row0 col6\" >0.2669</td>\n",
              "      <td id=\"T_a8b28_row0_col7\" class=\"data row0 col7\" >0.2706</td>\n",
              "    </tr>\n",
              "  </tbody>\n",
              "</table>\n"
            ]
          },
          "metadata": {}
        },
        {
          "output_type": "display_data",
          "data": {
            "text/plain": [
              "<pandas.io.formats.style.Styler at 0x7ce601ef8050>"
            ],
            "text/html": [
              "<style type=\"text/css\">\n",
              "</style>\n",
              "<table id=\"T_95fdf\" class=\"dataframe\">\n",
              "  <thead>\n",
              "    <tr>\n",
              "      <th class=\"blank level0\" >&nbsp;</th>\n",
              "      <th id=\"T_95fdf_level0_col0\" class=\"col_heading level0 col0\" >Model</th>\n",
              "      <th id=\"T_95fdf_level0_col1\" class=\"col_heading level0 col1\" >Accuracy</th>\n",
              "      <th id=\"T_95fdf_level0_col2\" class=\"col_heading level0 col2\" >AUC</th>\n",
              "      <th id=\"T_95fdf_level0_col3\" class=\"col_heading level0 col3\" >Recall</th>\n",
              "      <th id=\"T_95fdf_level0_col4\" class=\"col_heading level0 col4\" >Prec.</th>\n",
              "      <th id=\"T_95fdf_level0_col5\" class=\"col_heading level0 col5\" >F1</th>\n",
              "      <th id=\"T_95fdf_level0_col6\" class=\"col_heading level0 col6\" >Kappa</th>\n",
              "      <th id=\"T_95fdf_level0_col7\" class=\"col_heading level0 col7\" >MCC</th>\n",
              "    </tr>\n",
              "  </thead>\n",
              "  <tbody>\n",
              "    <tr>\n",
              "      <th id=\"T_95fdf_level0_row0\" class=\"row_heading level0 row0\" >0</th>\n",
              "      <td id=\"T_95fdf_row0_col0\" class=\"data row0 col0\" >SVM - Linear Kernel</td>\n",
              "      <td id=\"T_95fdf_row0_col1\" class=\"data row0 col1\" >0.7897</td>\n",
              "      <td id=\"T_95fdf_row0_col2\" class=\"data row0 col2\" >0</td>\n",
              "      <td id=\"T_95fdf_row0_col3\" class=\"data row0 col3\" >0.7897</td>\n",
              "      <td id=\"T_95fdf_row0_col4\" class=\"data row0 col4\" >0.7706</td>\n",
              "      <td id=\"T_95fdf_row0_col5\" class=\"data row0 col5\" >0.7781</td>\n",
              "      <td id=\"T_95fdf_row0_col6\" class=\"data row0 col6\" >0.2669</td>\n",
              "      <td id=\"T_95fdf_row0_col7\" class=\"data row0 col7\" >0.2706</td>\n",
              "    </tr>\n",
              "  </tbody>\n",
              "</table>\n"
            ]
          },
          "metadata": {}
        },
        {
          "output_type": "display_data",
          "data": {
            "text/plain": [
              "<pandas.io.formats.style.Styler at 0x7ce60229d290>"
            ],
            "text/html": [
              "<style type=\"text/css\">\n",
              "</style>\n",
              "<table id=\"T_32f4f\" class=\"dataframe\">\n",
              "  <thead>\n",
              "    <tr>\n",
              "      <th class=\"blank level0\" >&nbsp;</th>\n",
              "      <th id=\"T_32f4f_level0_col0\" class=\"col_heading level0 col0\" >Model</th>\n",
              "      <th id=\"T_32f4f_level0_col1\" class=\"col_heading level0 col1\" >Accuracy</th>\n",
              "      <th id=\"T_32f4f_level0_col2\" class=\"col_heading level0 col2\" >AUC</th>\n",
              "      <th id=\"T_32f4f_level0_col3\" class=\"col_heading level0 col3\" >Recall</th>\n",
              "      <th id=\"T_32f4f_level0_col4\" class=\"col_heading level0 col4\" >Prec.</th>\n",
              "      <th id=\"T_32f4f_level0_col5\" class=\"col_heading level0 col5\" >F1</th>\n",
              "      <th id=\"T_32f4f_level0_col6\" class=\"col_heading level0 col6\" >Kappa</th>\n",
              "      <th id=\"T_32f4f_level0_col7\" class=\"col_heading level0 col7\" >MCC</th>\n",
              "    </tr>\n",
              "  </thead>\n",
              "  <tbody>\n",
              "    <tr>\n",
              "      <th id=\"T_32f4f_level0_row0\" class=\"row_heading level0 row0\" >0</th>\n",
              "      <td id=\"T_32f4f_row0_col0\" class=\"data row0 col0\" >SVM - Linear Kernel</td>\n",
              "      <td id=\"T_32f4f_row0_col1\" class=\"data row0 col1\" >0.7897</td>\n",
              "      <td id=\"T_32f4f_row0_col2\" class=\"data row0 col2\" >0</td>\n",
              "      <td id=\"T_32f4f_row0_col3\" class=\"data row0 col3\" >0.7897</td>\n",
              "      <td id=\"T_32f4f_row0_col4\" class=\"data row0 col4\" >0.7706</td>\n",
              "      <td id=\"T_32f4f_row0_col5\" class=\"data row0 col5\" >0.7781</td>\n",
              "      <td id=\"T_32f4f_row0_col6\" class=\"data row0 col6\" >0.2669</td>\n",
              "      <td id=\"T_32f4f_row0_col7\" class=\"data row0 col7\" >0.2706</td>\n",
              "    </tr>\n",
              "  </tbody>\n",
              "</table>\n"
            ]
          },
          "metadata": {}
        },
        {
          "output_type": "display_data",
          "data": {
            "text/plain": [
              "<pandas.io.formats.style.Styler at 0x7ce749c51410>"
            ],
            "text/html": [
              "<style type=\"text/css\">\n",
              "</style>\n",
              "<table id=\"T_4d4f4\" class=\"dataframe\">\n",
              "  <thead>\n",
              "    <tr>\n",
              "      <th class=\"blank level0\" >&nbsp;</th>\n",
              "      <th id=\"T_4d4f4_level0_col0\" class=\"col_heading level0 col0\" >Model</th>\n",
              "      <th id=\"T_4d4f4_level0_col1\" class=\"col_heading level0 col1\" >Accuracy</th>\n",
              "      <th id=\"T_4d4f4_level0_col2\" class=\"col_heading level0 col2\" >AUC</th>\n",
              "      <th id=\"T_4d4f4_level0_col3\" class=\"col_heading level0 col3\" >Recall</th>\n",
              "      <th id=\"T_4d4f4_level0_col4\" class=\"col_heading level0 col4\" >Prec.</th>\n",
              "      <th id=\"T_4d4f4_level0_col5\" class=\"col_heading level0 col5\" >F1</th>\n",
              "      <th id=\"T_4d4f4_level0_col6\" class=\"col_heading level0 col6\" >Kappa</th>\n",
              "      <th id=\"T_4d4f4_level0_col7\" class=\"col_heading level0 col7\" >MCC</th>\n",
              "    </tr>\n",
              "  </thead>\n",
              "  <tbody>\n",
              "    <tr>\n",
              "      <th id=\"T_4d4f4_level0_row0\" class=\"row_heading level0 row0\" >0</th>\n",
              "      <td id=\"T_4d4f4_row0_col0\" class=\"data row0 col0\" >SVM - Linear Kernel</td>\n",
              "      <td id=\"T_4d4f4_row0_col1\" class=\"data row0 col1\" >0.7897</td>\n",
              "      <td id=\"T_4d4f4_row0_col2\" class=\"data row0 col2\" >0</td>\n",
              "      <td id=\"T_4d4f4_row0_col3\" class=\"data row0 col3\" >0.7897</td>\n",
              "      <td id=\"T_4d4f4_row0_col4\" class=\"data row0 col4\" >0.7706</td>\n",
              "      <td id=\"T_4d4f4_row0_col5\" class=\"data row0 col5\" >0.7781</td>\n",
              "      <td id=\"T_4d4f4_row0_col6\" class=\"data row0 col6\" >0.2669</td>\n",
              "      <td id=\"T_4d4f4_row0_col7\" class=\"data row0 col7\" >0.2706</td>\n",
              "    </tr>\n",
              "  </tbody>\n",
              "</table>\n"
            ]
          },
          "metadata": {}
        },
        {
          "output_type": "stream",
          "name": "stdout",
          "text": [
            "\n",
            "==================================================\n",
            "Processing Sample #3\n",
            "==================================================\n"
          ]
        },
        {
          "output_type": "display_data",
          "data": {
            "text/plain": [
              "<pandas.io.formats.style.Styler at 0x7ce5ebdd9990>"
            ],
            "text/html": [
              "<style type=\"text/css\">\n",
              "</style>\n",
              "<table id=\"T_3d4ce\" class=\"dataframe\">\n",
              "  <thead>\n",
              "    <tr>\n",
              "      <th class=\"blank level0\" >&nbsp;</th>\n",
              "      <th id=\"T_3d4ce_level0_col0\" class=\"col_heading level0 col0\" >Model</th>\n",
              "      <th id=\"T_3d4ce_level0_col1\" class=\"col_heading level0 col1\" >Accuracy</th>\n",
              "      <th id=\"T_3d4ce_level0_col2\" class=\"col_heading level0 col2\" >AUC</th>\n",
              "      <th id=\"T_3d4ce_level0_col3\" class=\"col_heading level0 col3\" >Recall</th>\n",
              "      <th id=\"T_3d4ce_level0_col4\" class=\"col_heading level0 col4\" >Prec.</th>\n",
              "      <th id=\"T_3d4ce_level0_col5\" class=\"col_heading level0 col5\" >F1</th>\n",
              "      <th id=\"T_3d4ce_level0_col6\" class=\"col_heading level0 col6\" >Kappa</th>\n",
              "      <th id=\"T_3d4ce_level0_col7\" class=\"col_heading level0 col7\" >MCC</th>\n",
              "    </tr>\n",
              "  </thead>\n",
              "  <tbody>\n",
              "    <tr>\n",
              "      <th id=\"T_3d4ce_level0_row0\" class=\"row_heading level0 row0\" >0</th>\n",
              "      <td id=\"T_3d4ce_row0_col0\" class=\"data row0 col0\" >SVM - Linear Kernel</td>\n",
              "      <td id=\"T_3d4ce_row0_col1\" class=\"data row0 col1\" >0.7985</td>\n",
              "      <td id=\"T_3d4ce_row0_col2\" class=\"data row0 col2\" >0</td>\n",
              "      <td id=\"T_3d4ce_row0_col3\" class=\"data row0 col3\" >0.7985</td>\n",
              "      <td id=\"T_3d4ce_row0_col4\" class=\"data row0 col4\" >0.7273</td>\n",
              "      <td id=\"T_3d4ce_row0_col5\" class=\"data row0 col5\" >0.7299</td>\n",
              "      <td id=\"T_3d4ce_row0_col6\" class=\"data row0 col6\" >0.0465</td>\n",
              "      <td id=\"T_3d4ce_row0_col7\" class=\"data row0 col7\" >0.0798</td>\n",
              "    </tr>\n",
              "  </tbody>\n",
              "</table>\n"
            ]
          },
          "metadata": {}
        },
        {
          "output_type": "display_data",
          "data": {
            "text/plain": [
              "<pandas.io.formats.style.Styler at 0x7ce5ebdd0e90>"
            ],
            "text/html": [
              "<style type=\"text/css\">\n",
              "</style>\n",
              "<table id=\"T_32342\" class=\"dataframe\">\n",
              "  <thead>\n",
              "    <tr>\n",
              "      <th class=\"blank level0\" >&nbsp;</th>\n",
              "      <th id=\"T_32342_level0_col0\" class=\"col_heading level0 col0\" >Model</th>\n",
              "      <th id=\"T_32342_level0_col1\" class=\"col_heading level0 col1\" >Accuracy</th>\n",
              "      <th id=\"T_32342_level0_col2\" class=\"col_heading level0 col2\" >AUC</th>\n",
              "      <th id=\"T_32342_level0_col3\" class=\"col_heading level0 col3\" >Recall</th>\n",
              "      <th id=\"T_32342_level0_col4\" class=\"col_heading level0 col4\" >Prec.</th>\n",
              "      <th id=\"T_32342_level0_col5\" class=\"col_heading level0 col5\" >F1</th>\n",
              "      <th id=\"T_32342_level0_col6\" class=\"col_heading level0 col6\" >Kappa</th>\n",
              "      <th id=\"T_32342_level0_col7\" class=\"col_heading level0 col7\" >MCC</th>\n",
              "    </tr>\n",
              "  </thead>\n",
              "  <tbody>\n",
              "    <tr>\n",
              "      <th id=\"T_32342_level0_row0\" class=\"row_heading level0 row0\" >0</th>\n",
              "      <td id=\"T_32342_row0_col0\" class=\"data row0 col0\" >SVM - Linear Kernel</td>\n",
              "      <td id=\"T_32342_row0_col1\" class=\"data row0 col1\" >0.7985</td>\n",
              "      <td id=\"T_32342_row0_col2\" class=\"data row0 col2\" >0</td>\n",
              "      <td id=\"T_32342_row0_col3\" class=\"data row0 col3\" >0.7985</td>\n",
              "      <td id=\"T_32342_row0_col4\" class=\"data row0 col4\" >0.7273</td>\n",
              "      <td id=\"T_32342_row0_col5\" class=\"data row0 col5\" >0.7299</td>\n",
              "      <td id=\"T_32342_row0_col6\" class=\"data row0 col6\" >0.0465</td>\n",
              "      <td id=\"T_32342_row0_col7\" class=\"data row0 col7\" >0.0798</td>\n",
              "    </tr>\n",
              "  </tbody>\n",
              "</table>\n"
            ]
          },
          "metadata": {}
        },
        {
          "output_type": "display_data",
          "data": {
            "text/plain": [
              "<pandas.io.formats.style.Styler at 0x7ce6006eab90>"
            ],
            "text/html": [
              "<style type=\"text/css\">\n",
              "</style>\n",
              "<table id=\"T_fa2f7\" class=\"dataframe\">\n",
              "  <thead>\n",
              "    <tr>\n",
              "      <th class=\"blank level0\" >&nbsp;</th>\n",
              "      <th id=\"T_fa2f7_level0_col0\" class=\"col_heading level0 col0\" >Model</th>\n",
              "      <th id=\"T_fa2f7_level0_col1\" class=\"col_heading level0 col1\" >Accuracy</th>\n",
              "      <th id=\"T_fa2f7_level0_col2\" class=\"col_heading level0 col2\" >AUC</th>\n",
              "      <th id=\"T_fa2f7_level0_col3\" class=\"col_heading level0 col3\" >Recall</th>\n",
              "      <th id=\"T_fa2f7_level0_col4\" class=\"col_heading level0 col4\" >Prec.</th>\n",
              "      <th id=\"T_fa2f7_level0_col5\" class=\"col_heading level0 col5\" >F1</th>\n",
              "      <th id=\"T_fa2f7_level0_col6\" class=\"col_heading level0 col6\" >Kappa</th>\n",
              "      <th id=\"T_fa2f7_level0_col7\" class=\"col_heading level0 col7\" >MCC</th>\n",
              "    </tr>\n",
              "  </thead>\n",
              "  <tbody>\n",
              "    <tr>\n",
              "      <th id=\"T_fa2f7_level0_row0\" class=\"row_heading level0 row0\" >0</th>\n",
              "      <td id=\"T_fa2f7_row0_col0\" class=\"data row0 col0\" >SVM - Linear Kernel</td>\n",
              "      <td id=\"T_fa2f7_row0_col1\" class=\"data row0 col1\" >0.7985</td>\n",
              "      <td id=\"T_fa2f7_row0_col2\" class=\"data row0 col2\" >0</td>\n",
              "      <td id=\"T_fa2f7_row0_col3\" class=\"data row0 col3\" >0.7985</td>\n",
              "      <td id=\"T_fa2f7_row0_col4\" class=\"data row0 col4\" >0.7273</td>\n",
              "      <td id=\"T_fa2f7_row0_col5\" class=\"data row0 col5\" >0.7299</td>\n",
              "      <td id=\"T_fa2f7_row0_col6\" class=\"data row0 col6\" >0.0465</td>\n",
              "      <td id=\"T_fa2f7_row0_col7\" class=\"data row0 col7\" >0.0798</td>\n",
              "    </tr>\n",
              "  </tbody>\n",
              "</table>\n"
            ]
          },
          "metadata": {}
        },
        {
          "output_type": "display_data",
          "data": {
            "text/plain": [
              "<pandas.io.formats.style.Styler at 0x7ce601f42dd0>"
            ],
            "text/html": [
              "<style type=\"text/css\">\n",
              "</style>\n",
              "<table id=\"T_bbd3b\" class=\"dataframe\">\n",
              "  <thead>\n",
              "    <tr>\n",
              "      <th class=\"blank level0\" >&nbsp;</th>\n",
              "      <th id=\"T_bbd3b_level0_col0\" class=\"col_heading level0 col0\" >Model</th>\n",
              "      <th id=\"T_bbd3b_level0_col1\" class=\"col_heading level0 col1\" >Accuracy</th>\n",
              "      <th id=\"T_bbd3b_level0_col2\" class=\"col_heading level0 col2\" >AUC</th>\n",
              "      <th id=\"T_bbd3b_level0_col3\" class=\"col_heading level0 col3\" >Recall</th>\n",
              "      <th id=\"T_bbd3b_level0_col4\" class=\"col_heading level0 col4\" >Prec.</th>\n",
              "      <th id=\"T_bbd3b_level0_col5\" class=\"col_heading level0 col5\" >F1</th>\n",
              "      <th id=\"T_bbd3b_level0_col6\" class=\"col_heading level0 col6\" >Kappa</th>\n",
              "      <th id=\"T_bbd3b_level0_col7\" class=\"col_heading level0 col7\" >MCC</th>\n",
              "    </tr>\n",
              "  </thead>\n",
              "  <tbody>\n",
              "    <tr>\n",
              "      <th id=\"T_bbd3b_level0_row0\" class=\"row_heading level0 row0\" >0</th>\n",
              "      <td id=\"T_bbd3b_row0_col0\" class=\"data row0 col0\" >SVM - Linear Kernel</td>\n",
              "      <td id=\"T_bbd3b_row0_col1\" class=\"data row0 col1\" >0.7985</td>\n",
              "      <td id=\"T_bbd3b_row0_col2\" class=\"data row0 col2\" >0</td>\n",
              "      <td id=\"T_bbd3b_row0_col3\" class=\"data row0 col3\" >0.7985</td>\n",
              "      <td id=\"T_bbd3b_row0_col4\" class=\"data row0 col4\" >0.7273</td>\n",
              "      <td id=\"T_bbd3b_row0_col5\" class=\"data row0 col5\" >0.7299</td>\n",
              "      <td id=\"T_bbd3b_row0_col6\" class=\"data row0 col6\" >0.0465</td>\n",
              "      <td id=\"T_bbd3b_row0_col7\" class=\"data row0 col7\" >0.0798</td>\n",
              "    </tr>\n",
              "  </tbody>\n",
              "</table>\n"
            ]
          },
          "metadata": {}
        },
        {
          "output_type": "display_data",
          "data": {
            "text/plain": [
              "<pandas.io.formats.style.Styler at 0x7ce601e15d50>"
            ],
            "text/html": [
              "<style type=\"text/css\">\n",
              "</style>\n",
              "<table id=\"T_71ccd\" class=\"dataframe\">\n",
              "  <thead>\n",
              "    <tr>\n",
              "      <th class=\"blank level0\" >&nbsp;</th>\n",
              "      <th id=\"T_71ccd_level0_col0\" class=\"col_heading level0 col0\" >Model</th>\n",
              "      <th id=\"T_71ccd_level0_col1\" class=\"col_heading level0 col1\" >Accuracy</th>\n",
              "      <th id=\"T_71ccd_level0_col2\" class=\"col_heading level0 col2\" >AUC</th>\n",
              "      <th id=\"T_71ccd_level0_col3\" class=\"col_heading level0 col3\" >Recall</th>\n",
              "      <th id=\"T_71ccd_level0_col4\" class=\"col_heading level0 col4\" >Prec.</th>\n",
              "      <th id=\"T_71ccd_level0_col5\" class=\"col_heading level0 col5\" >F1</th>\n",
              "      <th id=\"T_71ccd_level0_col6\" class=\"col_heading level0 col6\" >Kappa</th>\n",
              "      <th id=\"T_71ccd_level0_col7\" class=\"col_heading level0 col7\" >MCC</th>\n",
              "    </tr>\n",
              "  </thead>\n",
              "  <tbody>\n",
              "    <tr>\n",
              "      <th id=\"T_71ccd_level0_row0\" class=\"row_heading level0 row0\" >0</th>\n",
              "      <td id=\"T_71ccd_row0_col0\" class=\"data row0 col0\" >SVM - Linear Kernel</td>\n",
              "      <td id=\"T_71ccd_row0_col1\" class=\"data row0 col1\" >0.7985</td>\n",
              "      <td id=\"T_71ccd_row0_col2\" class=\"data row0 col2\" >0</td>\n",
              "      <td id=\"T_71ccd_row0_col3\" class=\"data row0 col3\" >0.7985</td>\n",
              "      <td id=\"T_71ccd_row0_col4\" class=\"data row0 col4\" >0.7273</td>\n",
              "      <td id=\"T_71ccd_row0_col5\" class=\"data row0 col5\" >0.7299</td>\n",
              "      <td id=\"T_71ccd_row0_col6\" class=\"data row0 col6\" >0.0465</td>\n",
              "      <td id=\"T_71ccd_row0_col7\" class=\"data row0 col7\" >0.0798</td>\n",
              "    </tr>\n",
              "  </tbody>\n",
              "</table>\n"
            ]
          },
          "metadata": {}
        },
        {
          "output_type": "display_data",
          "data": {
            "text/plain": [
              "<pandas.io.formats.style.Styler at 0x7ce6009ad410>"
            ],
            "text/html": [
              "<style type=\"text/css\">\n",
              "</style>\n",
              "<table id=\"T_4afdd\" class=\"dataframe\">\n",
              "  <thead>\n",
              "    <tr>\n",
              "      <th class=\"blank level0\" >&nbsp;</th>\n",
              "      <th id=\"T_4afdd_level0_col0\" class=\"col_heading level0 col0\" >Model</th>\n",
              "      <th id=\"T_4afdd_level0_col1\" class=\"col_heading level0 col1\" >Accuracy</th>\n",
              "      <th id=\"T_4afdd_level0_col2\" class=\"col_heading level0 col2\" >AUC</th>\n",
              "      <th id=\"T_4afdd_level0_col3\" class=\"col_heading level0 col3\" >Recall</th>\n",
              "      <th id=\"T_4afdd_level0_col4\" class=\"col_heading level0 col4\" >Prec.</th>\n",
              "      <th id=\"T_4afdd_level0_col5\" class=\"col_heading level0 col5\" >F1</th>\n",
              "      <th id=\"T_4afdd_level0_col6\" class=\"col_heading level0 col6\" >Kappa</th>\n",
              "      <th id=\"T_4afdd_level0_col7\" class=\"col_heading level0 col7\" >MCC</th>\n",
              "    </tr>\n",
              "  </thead>\n",
              "  <tbody>\n",
              "    <tr>\n",
              "      <th id=\"T_4afdd_level0_row0\" class=\"row_heading level0 row0\" >0</th>\n",
              "      <td id=\"T_4afdd_row0_col0\" class=\"data row0 col0\" >SVM - Linear Kernel</td>\n",
              "      <td id=\"T_4afdd_row0_col1\" class=\"data row0 col1\" >0.7985</td>\n",
              "      <td id=\"T_4afdd_row0_col2\" class=\"data row0 col2\" >0</td>\n",
              "      <td id=\"T_4afdd_row0_col3\" class=\"data row0 col3\" >0.7985</td>\n",
              "      <td id=\"T_4afdd_row0_col4\" class=\"data row0 col4\" >0.7273</td>\n",
              "      <td id=\"T_4afdd_row0_col5\" class=\"data row0 col5\" >0.7299</td>\n",
              "      <td id=\"T_4afdd_row0_col6\" class=\"data row0 col6\" >0.0465</td>\n",
              "      <td id=\"T_4afdd_row0_col7\" class=\"data row0 col7\" >0.0798</td>\n",
              "    </tr>\n",
              "  </tbody>\n",
              "</table>\n"
            ]
          },
          "metadata": {}
        },
        {
          "output_type": "display_data",
          "data": {
            "text/plain": [
              "<pandas.io.formats.style.Styler at 0x7ce6006393d0>"
            ],
            "text/html": [
              "<style type=\"text/css\">\n",
              "</style>\n",
              "<table id=\"T_47b01\" class=\"dataframe\">\n",
              "  <thead>\n",
              "    <tr>\n",
              "      <th class=\"blank level0\" >&nbsp;</th>\n",
              "      <th id=\"T_47b01_level0_col0\" class=\"col_heading level0 col0\" >Model</th>\n",
              "      <th id=\"T_47b01_level0_col1\" class=\"col_heading level0 col1\" >Accuracy</th>\n",
              "      <th id=\"T_47b01_level0_col2\" class=\"col_heading level0 col2\" >AUC</th>\n",
              "      <th id=\"T_47b01_level0_col3\" class=\"col_heading level0 col3\" >Recall</th>\n",
              "      <th id=\"T_47b01_level0_col4\" class=\"col_heading level0 col4\" >Prec.</th>\n",
              "      <th id=\"T_47b01_level0_col5\" class=\"col_heading level0 col5\" >F1</th>\n",
              "      <th id=\"T_47b01_level0_col6\" class=\"col_heading level0 col6\" >Kappa</th>\n",
              "      <th id=\"T_47b01_level0_col7\" class=\"col_heading level0 col7\" >MCC</th>\n",
              "    </tr>\n",
              "  </thead>\n",
              "  <tbody>\n",
              "    <tr>\n",
              "      <th id=\"T_47b01_level0_row0\" class=\"row_heading level0 row0\" >0</th>\n",
              "      <td id=\"T_47b01_row0_col0\" class=\"data row0 col0\" >SVM - Linear Kernel</td>\n",
              "      <td id=\"T_47b01_row0_col1\" class=\"data row0 col1\" >0.7985</td>\n",
              "      <td id=\"T_47b01_row0_col2\" class=\"data row0 col2\" >0</td>\n",
              "      <td id=\"T_47b01_row0_col3\" class=\"data row0 col3\" >0.7985</td>\n",
              "      <td id=\"T_47b01_row0_col4\" class=\"data row0 col4\" >0.7273</td>\n",
              "      <td id=\"T_47b01_row0_col5\" class=\"data row0 col5\" >0.7299</td>\n",
              "      <td id=\"T_47b01_row0_col6\" class=\"data row0 col6\" >0.0465</td>\n",
              "      <td id=\"T_47b01_row0_col7\" class=\"data row0 col7\" >0.0798</td>\n",
              "    </tr>\n",
              "  </tbody>\n",
              "</table>\n"
            ]
          },
          "metadata": {}
        },
        {
          "output_type": "display_data",
          "data": {
            "text/plain": [
              "<pandas.io.formats.style.Styler at 0x7ce749898a90>"
            ],
            "text/html": [
              "<style type=\"text/css\">\n",
              "</style>\n",
              "<table id=\"T_87e93\" class=\"dataframe\">\n",
              "  <thead>\n",
              "    <tr>\n",
              "      <th class=\"blank level0\" >&nbsp;</th>\n",
              "      <th id=\"T_87e93_level0_col0\" class=\"col_heading level0 col0\" >Model</th>\n",
              "      <th id=\"T_87e93_level0_col1\" class=\"col_heading level0 col1\" >Accuracy</th>\n",
              "      <th id=\"T_87e93_level0_col2\" class=\"col_heading level0 col2\" >AUC</th>\n",
              "      <th id=\"T_87e93_level0_col3\" class=\"col_heading level0 col3\" >Recall</th>\n",
              "      <th id=\"T_87e93_level0_col4\" class=\"col_heading level0 col4\" >Prec.</th>\n",
              "      <th id=\"T_87e93_level0_col5\" class=\"col_heading level0 col5\" >F1</th>\n",
              "      <th id=\"T_87e93_level0_col6\" class=\"col_heading level0 col6\" >Kappa</th>\n",
              "      <th id=\"T_87e93_level0_col7\" class=\"col_heading level0 col7\" >MCC</th>\n",
              "    </tr>\n",
              "  </thead>\n",
              "  <tbody>\n",
              "    <tr>\n",
              "      <th id=\"T_87e93_level0_row0\" class=\"row_heading level0 row0\" >0</th>\n",
              "      <td id=\"T_87e93_row0_col0\" class=\"data row0 col0\" >SVM - Linear Kernel</td>\n",
              "      <td id=\"T_87e93_row0_col1\" class=\"data row0 col1\" >0.7985</td>\n",
              "      <td id=\"T_87e93_row0_col2\" class=\"data row0 col2\" >0</td>\n",
              "      <td id=\"T_87e93_row0_col3\" class=\"data row0 col3\" >0.7985</td>\n",
              "      <td id=\"T_87e93_row0_col4\" class=\"data row0 col4\" >0.7273</td>\n",
              "      <td id=\"T_87e93_row0_col5\" class=\"data row0 col5\" >0.7299</td>\n",
              "      <td id=\"T_87e93_row0_col6\" class=\"data row0 col6\" >0.0465</td>\n",
              "      <td id=\"T_87e93_row0_col7\" class=\"data row0 col7\" >0.0798</td>\n",
              "    </tr>\n",
              "  </tbody>\n",
              "</table>\n"
            ]
          },
          "metadata": {}
        },
        {
          "output_type": "display_data",
          "data": {
            "text/plain": [
              "<pandas.io.formats.style.Styler at 0x7ce749c513d0>"
            ],
            "text/html": [
              "<style type=\"text/css\">\n",
              "</style>\n",
              "<table id=\"T_5e89b\" class=\"dataframe\">\n",
              "  <thead>\n",
              "    <tr>\n",
              "      <th class=\"blank level0\" >&nbsp;</th>\n",
              "      <th id=\"T_5e89b_level0_col0\" class=\"col_heading level0 col0\" >Model</th>\n",
              "      <th id=\"T_5e89b_level0_col1\" class=\"col_heading level0 col1\" >Accuracy</th>\n",
              "      <th id=\"T_5e89b_level0_col2\" class=\"col_heading level0 col2\" >AUC</th>\n",
              "      <th id=\"T_5e89b_level0_col3\" class=\"col_heading level0 col3\" >Recall</th>\n",
              "      <th id=\"T_5e89b_level0_col4\" class=\"col_heading level0 col4\" >Prec.</th>\n",
              "      <th id=\"T_5e89b_level0_col5\" class=\"col_heading level0 col5\" >F1</th>\n",
              "      <th id=\"T_5e89b_level0_col6\" class=\"col_heading level0 col6\" >Kappa</th>\n",
              "      <th id=\"T_5e89b_level0_col7\" class=\"col_heading level0 col7\" >MCC</th>\n",
              "    </tr>\n",
              "  </thead>\n",
              "  <tbody>\n",
              "    <tr>\n",
              "      <th id=\"T_5e89b_level0_row0\" class=\"row_heading level0 row0\" >0</th>\n",
              "      <td id=\"T_5e89b_row0_col0\" class=\"data row0 col0\" >SVM - Linear Kernel</td>\n",
              "      <td id=\"T_5e89b_row0_col1\" class=\"data row0 col1\" >0.7985</td>\n",
              "      <td id=\"T_5e89b_row0_col2\" class=\"data row0 col2\" >0</td>\n",
              "      <td id=\"T_5e89b_row0_col3\" class=\"data row0 col3\" >0.7985</td>\n",
              "      <td id=\"T_5e89b_row0_col4\" class=\"data row0 col4\" >0.7273</td>\n",
              "      <td id=\"T_5e89b_row0_col5\" class=\"data row0 col5\" >0.7299</td>\n",
              "      <td id=\"T_5e89b_row0_col6\" class=\"data row0 col6\" >0.0465</td>\n",
              "      <td id=\"T_5e89b_row0_col7\" class=\"data row0 col7\" >0.0798</td>\n",
              "    </tr>\n",
              "  </tbody>\n",
              "</table>\n"
            ]
          },
          "metadata": {}
        },
        {
          "output_type": "display_data",
          "data": {
            "text/plain": [
              "<pandas.io.formats.style.Styler at 0x7ce5ebb7de90>"
            ],
            "text/html": [
              "<style type=\"text/css\">\n",
              "</style>\n",
              "<table id=\"T_edae2\" class=\"dataframe\">\n",
              "  <thead>\n",
              "    <tr>\n",
              "      <th class=\"blank level0\" >&nbsp;</th>\n",
              "      <th id=\"T_edae2_level0_col0\" class=\"col_heading level0 col0\" >Model</th>\n",
              "      <th id=\"T_edae2_level0_col1\" class=\"col_heading level0 col1\" >Accuracy</th>\n",
              "      <th id=\"T_edae2_level0_col2\" class=\"col_heading level0 col2\" >AUC</th>\n",
              "      <th id=\"T_edae2_level0_col3\" class=\"col_heading level0 col3\" >Recall</th>\n",
              "      <th id=\"T_edae2_level0_col4\" class=\"col_heading level0 col4\" >Prec.</th>\n",
              "      <th id=\"T_edae2_level0_col5\" class=\"col_heading level0 col5\" >F1</th>\n",
              "      <th id=\"T_edae2_level0_col6\" class=\"col_heading level0 col6\" >Kappa</th>\n",
              "      <th id=\"T_edae2_level0_col7\" class=\"col_heading level0 col7\" >MCC</th>\n",
              "    </tr>\n",
              "  </thead>\n",
              "  <tbody>\n",
              "    <tr>\n",
              "      <th id=\"T_edae2_level0_row0\" class=\"row_heading level0 row0\" >0</th>\n",
              "      <td id=\"T_edae2_row0_col0\" class=\"data row0 col0\" >SVM - Linear Kernel</td>\n",
              "      <td id=\"T_edae2_row0_col1\" class=\"data row0 col1\" >0.7985</td>\n",
              "      <td id=\"T_edae2_row0_col2\" class=\"data row0 col2\" >0</td>\n",
              "      <td id=\"T_edae2_row0_col3\" class=\"data row0 col3\" >0.7985</td>\n",
              "      <td id=\"T_edae2_row0_col4\" class=\"data row0 col4\" >0.7273</td>\n",
              "      <td id=\"T_edae2_row0_col5\" class=\"data row0 col5\" >0.7299</td>\n",
              "      <td id=\"T_edae2_row0_col6\" class=\"data row0 col6\" >0.0465</td>\n",
              "      <td id=\"T_edae2_row0_col7\" class=\"data row0 col7\" >0.0798</td>\n",
              "    </tr>\n",
              "  </tbody>\n",
              "</table>\n"
            ]
          },
          "metadata": {}
        },
        {
          "output_type": "stream",
          "name": "stdout",
          "text": [
            "\n",
            "==================================================\n",
            "Processing Sample #4\n",
            "==================================================\n"
          ]
        },
        {
          "output_type": "display_data",
          "data": {
            "text/plain": [
              "<pandas.io.formats.style.Styler at 0x7ce5ebb7d290>"
            ],
            "text/html": [
              "<style type=\"text/css\">\n",
              "</style>\n",
              "<table id=\"T_d71d1\" class=\"dataframe\">\n",
              "  <thead>\n",
              "    <tr>\n",
              "      <th class=\"blank level0\" >&nbsp;</th>\n",
              "      <th id=\"T_d71d1_level0_col0\" class=\"col_heading level0 col0\" >Model</th>\n",
              "      <th id=\"T_d71d1_level0_col1\" class=\"col_heading level0 col1\" >Accuracy</th>\n",
              "      <th id=\"T_d71d1_level0_col2\" class=\"col_heading level0 col2\" >AUC</th>\n",
              "      <th id=\"T_d71d1_level0_col3\" class=\"col_heading level0 col3\" >Recall</th>\n",
              "      <th id=\"T_d71d1_level0_col4\" class=\"col_heading level0 col4\" >Prec.</th>\n",
              "      <th id=\"T_d71d1_level0_col5\" class=\"col_heading level0 col5\" >F1</th>\n",
              "      <th id=\"T_d71d1_level0_col6\" class=\"col_heading level0 col6\" >Kappa</th>\n",
              "      <th id=\"T_d71d1_level0_col7\" class=\"col_heading level0 col7\" >MCC</th>\n",
              "    </tr>\n",
              "  </thead>\n",
              "  <tbody>\n",
              "    <tr>\n",
              "      <th id=\"T_d71d1_level0_row0\" class=\"row_heading level0 row0\" >0</th>\n",
              "      <td id=\"T_d71d1_row0_col0\" class=\"data row0 col0\" >SVM - Linear Kernel</td>\n",
              "      <td id=\"T_d71d1_row0_col1\" class=\"data row0 col1\" >0.8031</td>\n",
              "      <td id=\"T_d71d1_row0_col2\" class=\"data row0 col2\" >0</td>\n",
              "      <td id=\"T_d71d1_row0_col3\" class=\"data row0 col3\" >0.8031</td>\n",
              "      <td id=\"T_d71d1_row0_col4\" class=\"data row0 col4\" >0.7532</td>\n",
              "      <td id=\"T_d71d1_row0_col5\" class=\"data row0 col5\" >0.7483</td>\n",
              "      <td id=\"T_d71d1_row0_col6\" class=\"data row0 col6\" >0.1141</td>\n",
              "      <td id=\"T_d71d1_row0_col7\" class=\"data row0 col7\" >0.1580</td>\n",
              "    </tr>\n",
              "  </tbody>\n",
              "</table>\n"
            ]
          },
          "metadata": {}
        },
        {
          "output_type": "display_data",
          "data": {
            "text/plain": [
              "<pandas.io.formats.style.Styler at 0x7ce6006ed350>"
            ],
            "text/html": [
              "<style type=\"text/css\">\n",
              "</style>\n",
              "<table id=\"T_cde6b\" class=\"dataframe\">\n",
              "  <thead>\n",
              "    <tr>\n",
              "      <th class=\"blank level0\" >&nbsp;</th>\n",
              "      <th id=\"T_cde6b_level0_col0\" class=\"col_heading level0 col0\" >Model</th>\n",
              "      <th id=\"T_cde6b_level0_col1\" class=\"col_heading level0 col1\" >Accuracy</th>\n",
              "      <th id=\"T_cde6b_level0_col2\" class=\"col_heading level0 col2\" >AUC</th>\n",
              "      <th id=\"T_cde6b_level0_col3\" class=\"col_heading level0 col3\" >Recall</th>\n",
              "      <th id=\"T_cde6b_level0_col4\" class=\"col_heading level0 col4\" >Prec.</th>\n",
              "      <th id=\"T_cde6b_level0_col5\" class=\"col_heading level0 col5\" >F1</th>\n",
              "      <th id=\"T_cde6b_level0_col6\" class=\"col_heading level0 col6\" >Kappa</th>\n",
              "      <th id=\"T_cde6b_level0_col7\" class=\"col_heading level0 col7\" >MCC</th>\n",
              "    </tr>\n",
              "  </thead>\n",
              "  <tbody>\n",
              "    <tr>\n",
              "      <th id=\"T_cde6b_level0_row0\" class=\"row_heading level0 row0\" >0</th>\n",
              "      <td id=\"T_cde6b_row0_col0\" class=\"data row0 col0\" >SVM - Linear Kernel</td>\n",
              "      <td id=\"T_cde6b_row0_col1\" class=\"data row0 col1\" >0.8031</td>\n",
              "      <td id=\"T_cde6b_row0_col2\" class=\"data row0 col2\" >0</td>\n",
              "      <td id=\"T_cde6b_row0_col3\" class=\"data row0 col3\" >0.8031</td>\n",
              "      <td id=\"T_cde6b_row0_col4\" class=\"data row0 col4\" >0.7532</td>\n",
              "      <td id=\"T_cde6b_row0_col5\" class=\"data row0 col5\" >0.7483</td>\n",
              "      <td id=\"T_cde6b_row0_col6\" class=\"data row0 col6\" >0.1141</td>\n",
              "      <td id=\"T_cde6b_row0_col7\" class=\"data row0 col7\" >0.1580</td>\n",
              "    </tr>\n",
              "  </tbody>\n",
              "</table>\n"
            ]
          },
          "metadata": {}
        },
        {
          "output_type": "display_data",
          "data": {
            "text/plain": [
              "<pandas.io.formats.style.Styler at 0x7ce77f5c0710>"
            ],
            "text/html": [
              "<style type=\"text/css\">\n",
              "</style>\n",
              "<table id=\"T_4e172\" class=\"dataframe\">\n",
              "  <thead>\n",
              "    <tr>\n",
              "      <th class=\"blank level0\" >&nbsp;</th>\n",
              "      <th id=\"T_4e172_level0_col0\" class=\"col_heading level0 col0\" >Model</th>\n",
              "      <th id=\"T_4e172_level0_col1\" class=\"col_heading level0 col1\" >Accuracy</th>\n",
              "      <th id=\"T_4e172_level0_col2\" class=\"col_heading level0 col2\" >AUC</th>\n",
              "      <th id=\"T_4e172_level0_col3\" class=\"col_heading level0 col3\" >Recall</th>\n",
              "      <th id=\"T_4e172_level0_col4\" class=\"col_heading level0 col4\" >Prec.</th>\n",
              "      <th id=\"T_4e172_level0_col5\" class=\"col_heading level0 col5\" >F1</th>\n",
              "      <th id=\"T_4e172_level0_col6\" class=\"col_heading level0 col6\" >Kappa</th>\n",
              "      <th id=\"T_4e172_level0_col7\" class=\"col_heading level0 col7\" >MCC</th>\n",
              "    </tr>\n",
              "  </thead>\n",
              "  <tbody>\n",
              "    <tr>\n",
              "      <th id=\"T_4e172_level0_row0\" class=\"row_heading level0 row0\" >0</th>\n",
              "      <td id=\"T_4e172_row0_col0\" class=\"data row0 col0\" >SVM - Linear Kernel</td>\n",
              "      <td id=\"T_4e172_row0_col1\" class=\"data row0 col1\" >0.8031</td>\n",
              "      <td id=\"T_4e172_row0_col2\" class=\"data row0 col2\" >0</td>\n",
              "      <td id=\"T_4e172_row0_col3\" class=\"data row0 col3\" >0.8031</td>\n",
              "      <td id=\"T_4e172_row0_col4\" class=\"data row0 col4\" >0.7532</td>\n",
              "      <td id=\"T_4e172_row0_col5\" class=\"data row0 col5\" >0.7483</td>\n",
              "      <td id=\"T_4e172_row0_col6\" class=\"data row0 col6\" >0.1141</td>\n",
              "      <td id=\"T_4e172_row0_col7\" class=\"data row0 col7\" >0.1580</td>\n",
              "    </tr>\n",
              "  </tbody>\n",
              "</table>\n"
            ]
          },
          "metadata": {}
        },
        {
          "output_type": "display_data",
          "data": {
            "text/plain": [
              "<pandas.io.formats.style.Styler at 0x7ce749b87d10>"
            ],
            "text/html": [
              "<style type=\"text/css\">\n",
              "</style>\n",
              "<table id=\"T_5cfc5\" class=\"dataframe\">\n",
              "  <thead>\n",
              "    <tr>\n",
              "      <th class=\"blank level0\" >&nbsp;</th>\n",
              "      <th id=\"T_5cfc5_level0_col0\" class=\"col_heading level0 col0\" >Model</th>\n",
              "      <th id=\"T_5cfc5_level0_col1\" class=\"col_heading level0 col1\" >Accuracy</th>\n",
              "      <th id=\"T_5cfc5_level0_col2\" class=\"col_heading level0 col2\" >AUC</th>\n",
              "      <th id=\"T_5cfc5_level0_col3\" class=\"col_heading level0 col3\" >Recall</th>\n",
              "      <th id=\"T_5cfc5_level0_col4\" class=\"col_heading level0 col4\" >Prec.</th>\n",
              "      <th id=\"T_5cfc5_level0_col5\" class=\"col_heading level0 col5\" >F1</th>\n",
              "      <th id=\"T_5cfc5_level0_col6\" class=\"col_heading level0 col6\" >Kappa</th>\n",
              "      <th id=\"T_5cfc5_level0_col7\" class=\"col_heading level0 col7\" >MCC</th>\n",
              "    </tr>\n",
              "  </thead>\n",
              "  <tbody>\n",
              "    <tr>\n",
              "      <th id=\"T_5cfc5_level0_row0\" class=\"row_heading level0 row0\" >0</th>\n",
              "      <td id=\"T_5cfc5_row0_col0\" class=\"data row0 col0\" >SVM - Linear Kernel</td>\n",
              "      <td id=\"T_5cfc5_row0_col1\" class=\"data row0 col1\" >0.8031</td>\n",
              "      <td id=\"T_5cfc5_row0_col2\" class=\"data row0 col2\" >0</td>\n",
              "      <td id=\"T_5cfc5_row0_col3\" class=\"data row0 col3\" >0.8031</td>\n",
              "      <td id=\"T_5cfc5_row0_col4\" class=\"data row0 col4\" >0.7532</td>\n",
              "      <td id=\"T_5cfc5_row0_col5\" class=\"data row0 col5\" >0.7483</td>\n",
              "      <td id=\"T_5cfc5_row0_col6\" class=\"data row0 col6\" >0.1141</td>\n",
              "      <td id=\"T_5cfc5_row0_col7\" class=\"data row0 col7\" >0.1580</td>\n",
              "    </tr>\n",
              "  </tbody>\n",
              "</table>\n"
            ]
          },
          "metadata": {}
        },
        {
          "output_type": "display_data",
          "data": {
            "text/plain": [
              "<pandas.io.formats.style.Styler at 0x7ce600994550>"
            ],
            "text/html": [
              "<style type=\"text/css\">\n",
              "</style>\n",
              "<table id=\"T_60bfb\" class=\"dataframe\">\n",
              "  <thead>\n",
              "    <tr>\n",
              "      <th class=\"blank level0\" >&nbsp;</th>\n",
              "      <th id=\"T_60bfb_level0_col0\" class=\"col_heading level0 col0\" >Model</th>\n",
              "      <th id=\"T_60bfb_level0_col1\" class=\"col_heading level0 col1\" >Accuracy</th>\n",
              "      <th id=\"T_60bfb_level0_col2\" class=\"col_heading level0 col2\" >AUC</th>\n",
              "      <th id=\"T_60bfb_level0_col3\" class=\"col_heading level0 col3\" >Recall</th>\n",
              "      <th id=\"T_60bfb_level0_col4\" class=\"col_heading level0 col4\" >Prec.</th>\n",
              "      <th id=\"T_60bfb_level0_col5\" class=\"col_heading level0 col5\" >F1</th>\n",
              "      <th id=\"T_60bfb_level0_col6\" class=\"col_heading level0 col6\" >Kappa</th>\n",
              "      <th id=\"T_60bfb_level0_col7\" class=\"col_heading level0 col7\" >MCC</th>\n",
              "    </tr>\n",
              "  </thead>\n",
              "  <tbody>\n",
              "    <tr>\n",
              "      <th id=\"T_60bfb_level0_row0\" class=\"row_heading level0 row0\" >0</th>\n",
              "      <td id=\"T_60bfb_row0_col0\" class=\"data row0 col0\" >SVM - Linear Kernel</td>\n",
              "      <td id=\"T_60bfb_row0_col1\" class=\"data row0 col1\" >0.8031</td>\n",
              "      <td id=\"T_60bfb_row0_col2\" class=\"data row0 col2\" >0</td>\n",
              "      <td id=\"T_60bfb_row0_col3\" class=\"data row0 col3\" >0.8031</td>\n",
              "      <td id=\"T_60bfb_row0_col4\" class=\"data row0 col4\" >0.7532</td>\n",
              "      <td id=\"T_60bfb_row0_col5\" class=\"data row0 col5\" >0.7483</td>\n",
              "      <td id=\"T_60bfb_row0_col6\" class=\"data row0 col6\" >0.1141</td>\n",
              "      <td id=\"T_60bfb_row0_col7\" class=\"data row0 col7\" >0.1580</td>\n",
              "    </tr>\n",
              "  </tbody>\n",
              "</table>\n"
            ]
          },
          "metadata": {}
        },
        {
          "output_type": "display_data",
          "data": {
            "text/plain": [
              "<pandas.io.formats.style.Styler at 0x7ce749c46890>"
            ],
            "text/html": [
              "<style type=\"text/css\">\n",
              "</style>\n",
              "<table id=\"T_4366c\" class=\"dataframe\">\n",
              "  <thead>\n",
              "    <tr>\n",
              "      <th class=\"blank level0\" >&nbsp;</th>\n",
              "      <th id=\"T_4366c_level0_col0\" class=\"col_heading level0 col0\" >Model</th>\n",
              "      <th id=\"T_4366c_level0_col1\" class=\"col_heading level0 col1\" >Accuracy</th>\n",
              "      <th id=\"T_4366c_level0_col2\" class=\"col_heading level0 col2\" >AUC</th>\n",
              "      <th id=\"T_4366c_level0_col3\" class=\"col_heading level0 col3\" >Recall</th>\n",
              "      <th id=\"T_4366c_level0_col4\" class=\"col_heading level0 col4\" >Prec.</th>\n",
              "      <th id=\"T_4366c_level0_col5\" class=\"col_heading level0 col5\" >F1</th>\n",
              "      <th id=\"T_4366c_level0_col6\" class=\"col_heading level0 col6\" >Kappa</th>\n",
              "      <th id=\"T_4366c_level0_col7\" class=\"col_heading level0 col7\" >MCC</th>\n",
              "    </tr>\n",
              "  </thead>\n",
              "  <tbody>\n",
              "    <tr>\n",
              "      <th id=\"T_4366c_level0_row0\" class=\"row_heading level0 row0\" >0</th>\n",
              "      <td id=\"T_4366c_row0_col0\" class=\"data row0 col0\" >SVM - Linear Kernel</td>\n",
              "      <td id=\"T_4366c_row0_col1\" class=\"data row0 col1\" >0.8031</td>\n",
              "      <td id=\"T_4366c_row0_col2\" class=\"data row0 col2\" >0</td>\n",
              "      <td id=\"T_4366c_row0_col3\" class=\"data row0 col3\" >0.8031</td>\n",
              "      <td id=\"T_4366c_row0_col4\" class=\"data row0 col4\" >0.7532</td>\n",
              "      <td id=\"T_4366c_row0_col5\" class=\"data row0 col5\" >0.7483</td>\n",
              "      <td id=\"T_4366c_row0_col6\" class=\"data row0 col6\" >0.1141</td>\n",
              "      <td id=\"T_4366c_row0_col7\" class=\"data row0 col7\" >0.1580</td>\n",
              "    </tr>\n",
              "  </tbody>\n",
              "</table>\n"
            ]
          },
          "metadata": {}
        },
        {
          "output_type": "display_data",
          "data": {
            "text/plain": [
              "<pandas.io.formats.style.Styler at 0x7ce601f16890>"
            ],
            "text/html": [
              "<style type=\"text/css\">\n",
              "</style>\n",
              "<table id=\"T_c443a\" class=\"dataframe\">\n",
              "  <thead>\n",
              "    <tr>\n",
              "      <th class=\"blank level0\" >&nbsp;</th>\n",
              "      <th id=\"T_c443a_level0_col0\" class=\"col_heading level0 col0\" >Model</th>\n",
              "      <th id=\"T_c443a_level0_col1\" class=\"col_heading level0 col1\" >Accuracy</th>\n",
              "      <th id=\"T_c443a_level0_col2\" class=\"col_heading level0 col2\" >AUC</th>\n",
              "      <th id=\"T_c443a_level0_col3\" class=\"col_heading level0 col3\" >Recall</th>\n",
              "      <th id=\"T_c443a_level0_col4\" class=\"col_heading level0 col4\" >Prec.</th>\n",
              "      <th id=\"T_c443a_level0_col5\" class=\"col_heading level0 col5\" >F1</th>\n",
              "      <th id=\"T_c443a_level0_col6\" class=\"col_heading level0 col6\" >Kappa</th>\n",
              "      <th id=\"T_c443a_level0_col7\" class=\"col_heading level0 col7\" >MCC</th>\n",
              "    </tr>\n",
              "  </thead>\n",
              "  <tbody>\n",
              "    <tr>\n",
              "      <th id=\"T_c443a_level0_row0\" class=\"row_heading level0 row0\" >0</th>\n",
              "      <td id=\"T_c443a_row0_col0\" class=\"data row0 col0\" >SVM - Linear Kernel</td>\n",
              "      <td id=\"T_c443a_row0_col1\" class=\"data row0 col1\" >0.8031</td>\n",
              "      <td id=\"T_c443a_row0_col2\" class=\"data row0 col2\" >0</td>\n",
              "      <td id=\"T_c443a_row0_col3\" class=\"data row0 col3\" >0.8031</td>\n",
              "      <td id=\"T_c443a_row0_col4\" class=\"data row0 col4\" >0.7532</td>\n",
              "      <td id=\"T_c443a_row0_col5\" class=\"data row0 col5\" >0.7483</td>\n",
              "      <td id=\"T_c443a_row0_col6\" class=\"data row0 col6\" >0.1141</td>\n",
              "      <td id=\"T_c443a_row0_col7\" class=\"data row0 col7\" >0.1580</td>\n",
              "    </tr>\n",
              "  </tbody>\n",
              "</table>\n"
            ]
          },
          "metadata": {}
        },
        {
          "output_type": "display_data",
          "data": {
            "text/plain": [
              "<pandas.io.formats.style.Styler at 0x7ce749c17f10>"
            ],
            "text/html": [
              "<style type=\"text/css\">\n",
              "</style>\n",
              "<table id=\"T_22d8a\" class=\"dataframe\">\n",
              "  <thead>\n",
              "    <tr>\n",
              "      <th class=\"blank level0\" >&nbsp;</th>\n",
              "      <th id=\"T_22d8a_level0_col0\" class=\"col_heading level0 col0\" >Model</th>\n",
              "      <th id=\"T_22d8a_level0_col1\" class=\"col_heading level0 col1\" >Accuracy</th>\n",
              "      <th id=\"T_22d8a_level0_col2\" class=\"col_heading level0 col2\" >AUC</th>\n",
              "      <th id=\"T_22d8a_level0_col3\" class=\"col_heading level0 col3\" >Recall</th>\n",
              "      <th id=\"T_22d8a_level0_col4\" class=\"col_heading level0 col4\" >Prec.</th>\n",
              "      <th id=\"T_22d8a_level0_col5\" class=\"col_heading level0 col5\" >F1</th>\n",
              "      <th id=\"T_22d8a_level0_col6\" class=\"col_heading level0 col6\" >Kappa</th>\n",
              "      <th id=\"T_22d8a_level0_col7\" class=\"col_heading level0 col7\" >MCC</th>\n",
              "    </tr>\n",
              "  </thead>\n",
              "  <tbody>\n",
              "    <tr>\n",
              "      <th id=\"T_22d8a_level0_row0\" class=\"row_heading level0 row0\" >0</th>\n",
              "      <td id=\"T_22d8a_row0_col0\" class=\"data row0 col0\" >SVM - Linear Kernel</td>\n",
              "      <td id=\"T_22d8a_row0_col1\" class=\"data row0 col1\" >0.8031</td>\n",
              "      <td id=\"T_22d8a_row0_col2\" class=\"data row0 col2\" >0</td>\n",
              "      <td id=\"T_22d8a_row0_col3\" class=\"data row0 col3\" >0.8031</td>\n",
              "      <td id=\"T_22d8a_row0_col4\" class=\"data row0 col4\" >0.7532</td>\n",
              "      <td id=\"T_22d8a_row0_col5\" class=\"data row0 col5\" >0.7483</td>\n",
              "      <td id=\"T_22d8a_row0_col6\" class=\"data row0 col6\" >0.1141</td>\n",
              "      <td id=\"T_22d8a_row0_col7\" class=\"data row0 col7\" >0.1580</td>\n",
              "    </tr>\n",
              "  </tbody>\n",
              "</table>\n"
            ]
          },
          "metadata": {}
        },
        {
          "output_type": "display_data",
          "data": {
            "text/plain": [
              "<pandas.io.formats.style.Styler at 0x7ce749c52c90>"
            ],
            "text/html": [
              "<style type=\"text/css\">\n",
              "</style>\n",
              "<table id=\"T_3c489\" class=\"dataframe\">\n",
              "  <thead>\n",
              "    <tr>\n",
              "      <th class=\"blank level0\" >&nbsp;</th>\n",
              "      <th id=\"T_3c489_level0_col0\" class=\"col_heading level0 col0\" >Model</th>\n",
              "      <th id=\"T_3c489_level0_col1\" class=\"col_heading level0 col1\" >Accuracy</th>\n",
              "      <th id=\"T_3c489_level0_col2\" class=\"col_heading level0 col2\" >AUC</th>\n",
              "      <th id=\"T_3c489_level0_col3\" class=\"col_heading level0 col3\" >Recall</th>\n",
              "      <th id=\"T_3c489_level0_col4\" class=\"col_heading level0 col4\" >Prec.</th>\n",
              "      <th id=\"T_3c489_level0_col5\" class=\"col_heading level0 col5\" >F1</th>\n",
              "      <th id=\"T_3c489_level0_col6\" class=\"col_heading level0 col6\" >Kappa</th>\n",
              "      <th id=\"T_3c489_level0_col7\" class=\"col_heading level0 col7\" >MCC</th>\n",
              "    </tr>\n",
              "  </thead>\n",
              "  <tbody>\n",
              "    <tr>\n",
              "      <th id=\"T_3c489_level0_row0\" class=\"row_heading level0 row0\" >0</th>\n",
              "      <td id=\"T_3c489_row0_col0\" class=\"data row0 col0\" >SVM - Linear Kernel</td>\n",
              "      <td id=\"T_3c489_row0_col1\" class=\"data row0 col1\" >0.8031</td>\n",
              "      <td id=\"T_3c489_row0_col2\" class=\"data row0 col2\" >0</td>\n",
              "      <td id=\"T_3c489_row0_col3\" class=\"data row0 col3\" >0.8031</td>\n",
              "      <td id=\"T_3c489_row0_col4\" class=\"data row0 col4\" >0.7532</td>\n",
              "      <td id=\"T_3c489_row0_col5\" class=\"data row0 col5\" >0.7483</td>\n",
              "      <td id=\"T_3c489_row0_col6\" class=\"data row0 col6\" >0.1141</td>\n",
              "      <td id=\"T_3c489_row0_col7\" class=\"data row0 col7\" >0.1580</td>\n",
              "    </tr>\n",
              "  </tbody>\n",
              "</table>\n"
            ]
          },
          "metadata": {}
        },
        {
          "output_type": "display_data",
          "data": {
            "text/plain": [
              "<pandas.io.formats.style.Styler at 0x7ce6008309d0>"
            ],
            "text/html": [
              "<style type=\"text/css\">\n",
              "</style>\n",
              "<table id=\"T_e18d9\" class=\"dataframe\">\n",
              "  <thead>\n",
              "    <tr>\n",
              "      <th class=\"blank level0\" >&nbsp;</th>\n",
              "      <th id=\"T_e18d9_level0_col0\" class=\"col_heading level0 col0\" >Model</th>\n",
              "      <th id=\"T_e18d9_level0_col1\" class=\"col_heading level0 col1\" >Accuracy</th>\n",
              "      <th id=\"T_e18d9_level0_col2\" class=\"col_heading level0 col2\" >AUC</th>\n",
              "      <th id=\"T_e18d9_level0_col3\" class=\"col_heading level0 col3\" >Recall</th>\n",
              "      <th id=\"T_e18d9_level0_col4\" class=\"col_heading level0 col4\" >Prec.</th>\n",
              "      <th id=\"T_e18d9_level0_col5\" class=\"col_heading level0 col5\" >F1</th>\n",
              "      <th id=\"T_e18d9_level0_col6\" class=\"col_heading level0 col6\" >Kappa</th>\n",
              "      <th id=\"T_e18d9_level0_col7\" class=\"col_heading level0 col7\" >MCC</th>\n",
              "    </tr>\n",
              "  </thead>\n",
              "  <tbody>\n",
              "    <tr>\n",
              "      <th id=\"T_e18d9_level0_row0\" class=\"row_heading level0 row0\" >0</th>\n",
              "      <td id=\"T_e18d9_row0_col0\" class=\"data row0 col0\" >SVM - Linear Kernel</td>\n",
              "      <td id=\"T_e18d9_row0_col1\" class=\"data row0 col1\" >0.8031</td>\n",
              "      <td id=\"T_e18d9_row0_col2\" class=\"data row0 col2\" >0</td>\n",
              "      <td id=\"T_e18d9_row0_col3\" class=\"data row0 col3\" >0.8031</td>\n",
              "      <td id=\"T_e18d9_row0_col4\" class=\"data row0 col4\" >0.7532</td>\n",
              "      <td id=\"T_e18d9_row0_col5\" class=\"data row0 col5\" >0.7483</td>\n",
              "      <td id=\"T_e18d9_row0_col6\" class=\"data row0 col6\" >0.1141</td>\n",
              "      <td id=\"T_e18d9_row0_col7\" class=\"data row0 col7\" >0.1580</td>\n",
              "    </tr>\n",
              "  </tbody>\n",
              "</table>\n"
            ]
          },
          "metadata": {}
        },
        {
          "output_type": "stream",
          "name": "stdout",
          "text": [
            "\n",
            "==================================================\n",
            "Processing Sample #5\n",
            "==================================================\n"
          ]
        },
        {
          "output_type": "display_data",
          "data": {
            "text/plain": [
              "<pandas.io.formats.style.Styler at 0x7ce601fd6090>"
            ],
            "text/html": [
              "<style type=\"text/css\">\n",
              "</style>\n",
              "<table id=\"T_44f81\" class=\"dataframe\">\n",
              "  <thead>\n",
              "    <tr>\n",
              "      <th class=\"blank level0\" >&nbsp;</th>\n",
              "      <th id=\"T_44f81_level0_col0\" class=\"col_heading level0 col0\" >Model</th>\n",
              "      <th id=\"T_44f81_level0_col1\" class=\"col_heading level0 col1\" >Accuracy</th>\n",
              "      <th id=\"T_44f81_level0_col2\" class=\"col_heading level0 col2\" >AUC</th>\n",
              "      <th id=\"T_44f81_level0_col3\" class=\"col_heading level0 col3\" >Recall</th>\n",
              "      <th id=\"T_44f81_level0_col4\" class=\"col_heading level0 col4\" >Prec.</th>\n",
              "      <th id=\"T_44f81_level0_col5\" class=\"col_heading level0 col5\" >F1</th>\n",
              "      <th id=\"T_44f81_level0_col6\" class=\"col_heading level0 col6\" >Kappa</th>\n",
              "      <th id=\"T_44f81_level0_col7\" class=\"col_heading level0 col7\" >MCC</th>\n",
              "    </tr>\n",
              "  </thead>\n",
              "  <tbody>\n",
              "    <tr>\n",
              "      <th id=\"T_44f81_level0_row0\" class=\"row_heading level0 row0\" >0</th>\n",
              "      <td id=\"T_44f81_row0_col0\" class=\"data row0 col0\" >SVM - Linear Kernel</td>\n",
              "      <td id=\"T_44f81_row0_col1\" class=\"data row0 col1\" >0.8036</td>\n",
              "      <td id=\"T_44f81_row0_col2\" class=\"data row0 col2\" >0</td>\n",
              "      <td id=\"T_44f81_row0_col3\" class=\"data row0 col3\" >0.8036</td>\n",
              "      <td id=\"T_44f81_row0_col4\" class=\"data row0 col4\" >0.6458</td>\n",
              "      <td id=\"T_44f81_row0_col5\" class=\"data row0 col5\" >0.7161</td>\n",
              "      <td id=\"T_44f81_row0_col6\" class=\"data row0 col6\" >0.0000</td>\n",
              "      <td id=\"T_44f81_row0_col7\" class=\"data row0 col7\" >0.0000</td>\n",
              "    </tr>\n",
              "  </tbody>\n",
              "</table>\n"
            ]
          },
          "metadata": {}
        },
        {
          "output_type": "display_data",
          "data": {
            "text/plain": [
              "<pandas.io.formats.style.Styler at 0x7ce5ebdbd010>"
            ],
            "text/html": [
              "<style type=\"text/css\">\n",
              "</style>\n",
              "<table id=\"T_e8de4\" class=\"dataframe\">\n",
              "  <thead>\n",
              "    <tr>\n",
              "      <th class=\"blank level0\" >&nbsp;</th>\n",
              "      <th id=\"T_e8de4_level0_col0\" class=\"col_heading level0 col0\" >Model</th>\n",
              "      <th id=\"T_e8de4_level0_col1\" class=\"col_heading level0 col1\" >Accuracy</th>\n",
              "      <th id=\"T_e8de4_level0_col2\" class=\"col_heading level0 col2\" >AUC</th>\n",
              "      <th id=\"T_e8de4_level0_col3\" class=\"col_heading level0 col3\" >Recall</th>\n",
              "      <th id=\"T_e8de4_level0_col4\" class=\"col_heading level0 col4\" >Prec.</th>\n",
              "      <th id=\"T_e8de4_level0_col5\" class=\"col_heading level0 col5\" >F1</th>\n",
              "      <th id=\"T_e8de4_level0_col6\" class=\"col_heading level0 col6\" >Kappa</th>\n",
              "      <th id=\"T_e8de4_level0_col7\" class=\"col_heading level0 col7\" >MCC</th>\n",
              "    </tr>\n",
              "  </thead>\n",
              "  <tbody>\n",
              "    <tr>\n",
              "      <th id=\"T_e8de4_level0_row0\" class=\"row_heading level0 row0\" >0</th>\n",
              "      <td id=\"T_e8de4_row0_col0\" class=\"data row0 col0\" >SVM - Linear Kernel</td>\n",
              "      <td id=\"T_e8de4_row0_col1\" class=\"data row0 col1\" >0.8036</td>\n",
              "      <td id=\"T_e8de4_row0_col2\" class=\"data row0 col2\" >0</td>\n",
              "      <td id=\"T_e8de4_row0_col3\" class=\"data row0 col3\" >0.8036</td>\n",
              "      <td id=\"T_e8de4_row0_col4\" class=\"data row0 col4\" >0.6458</td>\n",
              "      <td id=\"T_e8de4_row0_col5\" class=\"data row0 col5\" >0.7161</td>\n",
              "      <td id=\"T_e8de4_row0_col6\" class=\"data row0 col6\" >0.0000</td>\n",
              "      <td id=\"T_e8de4_row0_col7\" class=\"data row0 col7\" >0.0000</td>\n",
              "    </tr>\n",
              "  </tbody>\n",
              "</table>\n"
            ]
          },
          "metadata": {}
        },
        {
          "output_type": "display_data",
          "data": {
            "text/plain": [
              "<pandas.io.formats.style.Styler at 0x7ce601f42dd0>"
            ],
            "text/html": [
              "<style type=\"text/css\">\n",
              "</style>\n",
              "<table id=\"T_860fc\" class=\"dataframe\">\n",
              "  <thead>\n",
              "    <tr>\n",
              "      <th class=\"blank level0\" >&nbsp;</th>\n",
              "      <th id=\"T_860fc_level0_col0\" class=\"col_heading level0 col0\" >Model</th>\n",
              "      <th id=\"T_860fc_level0_col1\" class=\"col_heading level0 col1\" >Accuracy</th>\n",
              "      <th id=\"T_860fc_level0_col2\" class=\"col_heading level0 col2\" >AUC</th>\n",
              "      <th id=\"T_860fc_level0_col3\" class=\"col_heading level0 col3\" >Recall</th>\n",
              "      <th id=\"T_860fc_level0_col4\" class=\"col_heading level0 col4\" >Prec.</th>\n",
              "      <th id=\"T_860fc_level0_col5\" class=\"col_heading level0 col5\" >F1</th>\n",
              "      <th id=\"T_860fc_level0_col6\" class=\"col_heading level0 col6\" >Kappa</th>\n",
              "      <th id=\"T_860fc_level0_col7\" class=\"col_heading level0 col7\" >MCC</th>\n",
              "    </tr>\n",
              "  </thead>\n",
              "  <tbody>\n",
              "    <tr>\n",
              "      <th id=\"T_860fc_level0_row0\" class=\"row_heading level0 row0\" >0</th>\n",
              "      <td id=\"T_860fc_row0_col0\" class=\"data row0 col0\" >SVM - Linear Kernel</td>\n",
              "      <td id=\"T_860fc_row0_col1\" class=\"data row0 col1\" >0.8036</td>\n",
              "      <td id=\"T_860fc_row0_col2\" class=\"data row0 col2\" >0</td>\n",
              "      <td id=\"T_860fc_row0_col3\" class=\"data row0 col3\" >0.8036</td>\n",
              "      <td id=\"T_860fc_row0_col4\" class=\"data row0 col4\" >0.6458</td>\n",
              "      <td id=\"T_860fc_row0_col5\" class=\"data row0 col5\" >0.7161</td>\n",
              "      <td id=\"T_860fc_row0_col6\" class=\"data row0 col6\" >0.0000</td>\n",
              "      <td id=\"T_860fc_row0_col7\" class=\"data row0 col7\" >0.0000</td>\n",
              "    </tr>\n",
              "  </tbody>\n",
              "</table>\n"
            ]
          },
          "metadata": {}
        },
        {
          "output_type": "display_data",
          "data": {
            "text/plain": [
              "<pandas.io.formats.style.Styler at 0x7ce601f08cd0>"
            ],
            "text/html": [
              "<style type=\"text/css\">\n",
              "</style>\n",
              "<table id=\"T_a7b05\" class=\"dataframe\">\n",
              "  <thead>\n",
              "    <tr>\n",
              "      <th class=\"blank level0\" >&nbsp;</th>\n",
              "      <th id=\"T_a7b05_level0_col0\" class=\"col_heading level0 col0\" >Model</th>\n",
              "      <th id=\"T_a7b05_level0_col1\" class=\"col_heading level0 col1\" >Accuracy</th>\n",
              "      <th id=\"T_a7b05_level0_col2\" class=\"col_heading level0 col2\" >AUC</th>\n",
              "      <th id=\"T_a7b05_level0_col3\" class=\"col_heading level0 col3\" >Recall</th>\n",
              "      <th id=\"T_a7b05_level0_col4\" class=\"col_heading level0 col4\" >Prec.</th>\n",
              "      <th id=\"T_a7b05_level0_col5\" class=\"col_heading level0 col5\" >F1</th>\n",
              "      <th id=\"T_a7b05_level0_col6\" class=\"col_heading level0 col6\" >Kappa</th>\n",
              "      <th id=\"T_a7b05_level0_col7\" class=\"col_heading level0 col7\" >MCC</th>\n",
              "    </tr>\n",
              "  </thead>\n",
              "  <tbody>\n",
              "    <tr>\n",
              "      <th id=\"T_a7b05_level0_row0\" class=\"row_heading level0 row0\" >0</th>\n",
              "      <td id=\"T_a7b05_row0_col0\" class=\"data row0 col0\" >SVM - Linear Kernel</td>\n",
              "      <td id=\"T_a7b05_row0_col1\" class=\"data row0 col1\" >0.8036</td>\n",
              "      <td id=\"T_a7b05_row0_col2\" class=\"data row0 col2\" >0</td>\n",
              "      <td id=\"T_a7b05_row0_col3\" class=\"data row0 col3\" >0.8036</td>\n",
              "      <td id=\"T_a7b05_row0_col4\" class=\"data row0 col4\" >0.6458</td>\n",
              "      <td id=\"T_a7b05_row0_col5\" class=\"data row0 col5\" >0.7161</td>\n",
              "      <td id=\"T_a7b05_row0_col6\" class=\"data row0 col6\" >0.0000</td>\n",
              "      <td id=\"T_a7b05_row0_col7\" class=\"data row0 col7\" >0.0000</td>\n",
              "    </tr>\n",
              "  </tbody>\n",
              "</table>\n"
            ]
          },
          "metadata": {}
        },
        {
          "output_type": "display_data",
          "data": {
            "text/plain": [
              "<pandas.io.formats.style.Styler at 0x7ce7498c7fd0>"
            ],
            "text/html": [
              "<style type=\"text/css\">\n",
              "</style>\n",
              "<table id=\"T_9bbd6\" class=\"dataframe\">\n",
              "  <thead>\n",
              "    <tr>\n",
              "      <th class=\"blank level0\" >&nbsp;</th>\n",
              "      <th id=\"T_9bbd6_level0_col0\" class=\"col_heading level0 col0\" >Model</th>\n",
              "      <th id=\"T_9bbd6_level0_col1\" class=\"col_heading level0 col1\" >Accuracy</th>\n",
              "      <th id=\"T_9bbd6_level0_col2\" class=\"col_heading level0 col2\" >AUC</th>\n",
              "      <th id=\"T_9bbd6_level0_col3\" class=\"col_heading level0 col3\" >Recall</th>\n",
              "      <th id=\"T_9bbd6_level0_col4\" class=\"col_heading level0 col4\" >Prec.</th>\n",
              "      <th id=\"T_9bbd6_level0_col5\" class=\"col_heading level0 col5\" >F1</th>\n",
              "      <th id=\"T_9bbd6_level0_col6\" class=\"col_heading level0 col6\" >Kappa</th>\n",
              "      <th id=\"T_9bbd6_level0_col7\" class=\"col_heading level0 col7\" >MCC</th>\n",
              "    </tr>\n",
              "  </thead>\n",
              "  <tbody>\n",
              "    <tr>\n",
              "      <th id=\"T_9bbd6_level0_row0\" class=\"row_heading level0 row0\" >0</th>\n",
              "      <td id=\"T_9bbd6_row0_col0\" class=\"data row0 col0\" >SVM - Linear Kernel</td>\n",
              "      <td id=\"T_9bbd6_row0_col1\" class=\"data row0 col1\" >0.8036</td>\n",
              "      <td id=\"T_9bbd6_row0_col2\" class=\"data row0 col2\" >0</td>\n",
              "      <td id=\"T_9bbd6_row0_col3\" class=\"data row0 col3\" >0.8036</td>\n",
              "      <td id=\"T_9bbd6_row0_col4\" class=\"data row0 col4\" >0.6458</td>\n",
              "      <td id=\"T_9bbd6_row0_col5\" class=\"data row0 col5\" >0.7161</td>\n",
              "      <td id=\"T_9bbd6_row0_col6\" class=\"data row0 col6\" >0.0000</td>\n",
              "      <td id=\"T_9bbd6_row0_col7\" class=\"data row0 col7\" >0.0000</td>\n",
              "    </tr>\n",
              "  </tbody>\n",
              "</table>\n"
            ]
          },
          "metadata": {}
        },
        {
          "output_type": "display_data",
          "data": {
            "text/plain": [
              "<pandas.io.formats.style.Styler at 0x7ce5ebcf7e10>"
            ],
            "text/html": [
              "<style type=\"text/css\">\n",
              "</style>\n",
              "<table id=\"T_7c859\" class=\"dataframe\">\n",
              "  <thead>\n",
              "    <tr>\n",
              "      <th class=\"blank level0\" >&nbsp;</th>\n",
              "      <th id=\"T_7c859_level0_col0\" class=\"col_heading level0 col0\" >Model</th>\n",
              "      <th id=\"T_7c859_level0_col1\" class=\"col_heading level0 col1\" >Accuracy</th>\n",
              "      <th id=\"T_7c859_level0_col2\" class=\"col_heading level0 col2\" >AUC</th>\n",
              "      <th id=\"T_7c859_level0_col3\" class=\"col_heading level0 col3\" >Recall</th>\n",
              "      <th id=\"T_7c859_level0_col4\" class=\"col_heading level0 col4\" >Prec.</th>\n",
              "      <th id=\"T_7c859_level0_col5\" class=\"col_heading level0 col5\" >F1</th>\n",
              "      <th id=\"T_7c859_level0_col6\" class=\"col_heading level0 col6\" >Kappa</th>\n",
              "      <th id=\"T_7c859_level0_col7\" class=\"col_heading level0 col7\" >MCC</th>\n",
              "    </tr>\n",
              "  </thead>\n",
              "  <tbody>\n",
              "    <tr>\n",
              "      <th id=\"T_7c859_level0_row0\" class=\"row_heading level0 row0\" >0</th>\n",
              "      <td id=\"T_7c859_row0_col0\" class=\"data row0 col0\" >SVM - Linear Kernel</td>\n",
              "      <td id=\"T_7c859_row0_col1\" class=\"data row0 col1\" >0.8036</td>\n",
              "      <td id=\"T_7c859_row0_col2\" class=\"data row0 col2\" >0</td>\n",
              "      <td id=\"T_7c859_row0_col3\" class=\"data row0 col3\" >0.8036</td>\n",
              "      <td id=\"T_7c859_row0_col4\" class=\"data row0 col4\" >0.6458</td>\n",
              "      <td id=\"T_7c859_row0_col5\" class=\"data row0 col5\" >0.7161</td>\n",
              "      <td id=\"T_7c859_row0_col6\" class=\"data row0 col6\" >0.0000</td>\n",
              "      <td id=\"T_7c859_row0_col7\" class=\"data row0 col7\" >0.0000</td>\n",
              "    </tr>\n",
              "  </tbody>\n",
              "</table>\n"
            ]
          },
          "metadata": {}
        },
        {
          "output_type": "display_data",
          "data": {
            "text/plain": [
              "<pandas.io.formats.style.Styler at 0x7ce749b837d0>"
            ],
            "text/html": [
              "<style type=\"text/css\">\n",
              "</style>\n",
              "<table id=\"T_33524\" class=\"dataframe\">\n",
              "  <thead>\n",
              "    <tr>\n",
              "      <th class=\"blank level0\" >&nbsp;</th>\n",
              "      <th id=\"T_33524_level0_col0\" class=\"col_heading level0 col0\" >Model</th>\n",
              "      <th id=\"T_33524_level0_col1\" class=\"col_heading level0 col1\" >Accuracy</th>\n",
              "      <th id=\"T_33524_level0_col2\" class=\"col_heading level0 col2\" >AUC</th>\n",
              "      <th id=\"T_33524_level0_col3\" class=\"col_heading level0 col3\" >Recall</th>\n",
              "      <th id=\"T_33524_level0_col4\" class=\"col_heading level0 col4\" >Prec.</th>\n",
              "      <th id=\"T_33524_level0_col5\" class=\"col_heading level0 col5\" >F1</th>\n",
              "      <th id=\"T_33524_level0_col6\" class=\"col_heading level0 col6\" >Kappa</th>\n",
              "      <th id=\"T_33524_level0_col7\" class=\"col_heading level0 col7\" >MCC</th>\n",
              "    </tr>\n",
              "  </thead>\n",
              "  <tbody>\n",
              "    <tr>\n",
              "      <th id=\"T_33524_level0_row0\" class=\"row_heading level0 row0\" >0</th>\n",
              "      <td id=\"T_33524_row0_col0\" class=\"data row0 col0\" >SVM - Linear Kernel</td>\n",
              "      <td id=\"T_33524_row0_col1\" class=\"data row0 col1\" >0.8036</td>\n",
              "      <td id=\"T_33524_row0_col2\" class=\"data row0 col2\" >0</td>\n",
              "      <td id=\"T_33524_row0_col3\" class=\"data row0 col3\" >0.8036</td>\n",
              "      <td id=\"T_33524_row0_col4\" class=\"data row0 col4\" >0.6458</td>\n",
              "      <td id=\"T_33524_row0_col5\" class=\"data row0 col5\" >0.7161</td>\n",
              "      <td id=\"T_33524_row0_col6\" class=\"data row0 col6\" >0.0000</td>\n",
              "      <td id=\"T_33524_row0_col7\" class=\"data row0 col7\" >0.0000</td>\n",
              "    </tr>\n",
              "  </tbody>\n",
              "</table>\n"
            ]
          },
          "metadata": {}
        },
        {
          "output_type": "display_data",
          "data": {
            "text/plain": [
              "<pandas.io.formats.style.Styler at 0x7ce600361110>"
            ],
            "text/html": [
              "<style type=\"text/css\">\n",
              "</style>\n",
              "<table id=\"T_fd893\" class=\"dataframe\">\n",
              "  <thead>\n",
              "    <tr>\n",
              "      <th class=\"blank level0\" >&nbsp;</th>\n",
              "      <th id=\"T_fd893_level0_col0\" class=\"col_heading level0 col0\" >Model</th>\n",
              "      <th id=\"T_fd893_level0_col1\" class=\"col_heading level0 col1\" >Accuracy</th>\n",
              "      <th id=\"T_fd893_level0_col2\" class=\"col_heading level0 col2\" >AUC</th>\n",
              "      <th id=\"T_fd893_level0_col3\" class=\"col_heading level0 col3\" >Recall</th>\n",
              "      <th id=\"T_fd893_level0_col4\" class=\"col_heading level0 col4\" >Prec.</th>\n",
              "      <th id=\"T_fd893_level0_col5\" class=\"col_heading level0 col5\" >F1</th>\n",
              "      <th id=\"T_fd893_level0_col6\" class=\"col_heading level0 col6\" >Kappa</th>\n",
              "      <th id=\"T_fd893_level0_col7\" class=\"col_heading level0 col7\" >MCC</th>\n",
              "    </tr>\n",
              "  </thead>\n",
              "  <tbody>\n",
              "    <tr>\n",
              "      <th id=\"T_fd893_level0_row0\" class=\"row_heading level0 row0\" >0</th>\n",
              "      <td id=\"T_fd893_row0_col0\" class=\"data row0 col0\" >SVM - Linear Kernel</td>\n",
              "      <td id=\"T_fd893_row0_col1\" class=\"data row0 col1\" >0.8036</td>\n",
              "      <td id=\"T_fd893_row0_col2\" class=\"data row0 col2\" >0</td>\n",
              "      <td id=\"T_fd893_row0_col3\" class=\"data row0 col3\" >0.8036</td>\n",
              "      <td id=\"T_fd893_row0_col4\" class=\"data row0 col4\" >0.6458</td>\n",
              "      <td id=\"T_fd893_row0_col5\" class=\"data row0 col5\" >0.7161</td>\n",
              "      <td id=\"T_fd893_row0_col6\" class=\"data row0 col6\" >0.0000</td>\n",
              "      <td id=\"T_fd893_row0_col7\" class=\"data row0 col7\" >0.0000</td>\n",
              "    </tr>\n",
              "  </tbody>\n",
              "</table>\n"
            ]
          },
          "metadata": {}
        },
        {
          "output_type": "display_data",
          "data": {
            "text/plain": [
              "<pandas.io.formats.style.Styler at 0x7ce601f42dd0>"
            ],
            "text/html": [
              "<style type=\"text/css\">\n",
              "</style>\n",
              "<table id=\"T_780b4\" class=\"dataframe\">\n",
              "  <thead>\n",
              "    <tr>\n",
              "      <th class=\"blank level0\" >&nbsp;</th>\n",
              "      <th id=\"T_780b4_level0_col0\" class=\"col_heading level0 col0\" >Model</th>\n",
              "      <th id=\"T_780b4_level0_col1\" class=\"col_heading level0 col1\" >Accuracy</th>\n",
              "      <th id=\"T_780b4_level0_col2\" class=\"col_heading level0 col2\" >AUC</th>\n",
              "      <th id=\"T_780b4_level0_col3\" class=\"col_heading level0 col3\" >Recall</th>\n",
              "      <th id=\"T_780b4_level0_col4\" class=\"col_heading level0 col4\" >Prec.</th>\n",
              "      <th id=\"T_780b4_level0_col5\" class=\"col_heading level0 col5\" >F1</th>\n",
              "      <th id=\"T_780b4_level0_col6\" class=\"col_heading level0 col6\" >Kappa</th>\n",
              "      <th id=\"T_780b4_level0_col7\" class=\"col_heading level0 col7\" >MCC</th>\n",
              "    </tr>\n",
              "  </thead>\n",
              "  <tbody>\n",
              "    <tr>\n",
              "      <th id=\"T_780b4_level0_row0\" class=\"row_heading level0 row0\" >0</th>\n",
              "      <td id=\"T_780b4_row0_col0\" class=\"data row0 col0\" >SVM - Linear Kernel</td>\n",
              "      <td id=\"T_780b4_row0_col1\" class=\"data row0 col1\" >0.8036</td>\n",
              "      <td id=\"T_780b4_row0_col2\" class=\"data row0 col2\" >0</td>\n",
              "      <td id=\"T_780b4_row0_col3\" class=\"data row0 col3\" >0.8036</td>\n",
              "      <td id=\"T_780b4_row0_col4\" class=\"data row0 col4\" >0.6458</td>\n",
              "      <td id=\"T_780b4_row0_col5\" class=\"data row0 col5\" >0.7161</td>\n",
              "      <td id=\"T_780b4_row0_col6\" class=\"data row0 col6\" >0.0000</td>\n",
              "      <td id=\"T_780b4_row0_col7\" class=\"data row0 col7\" >0.0000</td>\n",
              "    </tr>\n",
              "  </tbody>\n",
              "</table>\n"
            ]
          },
          "metadata": {}
        },
        {
          "output_type": "display_data",
          "data": {
            "text/plain": [
              "<pandas.io.formats.style.Styler at 0x7ce749b81c50>"
            ],
            "text/html": [
              "<style type=\"text/css\">\n",
              "</style>\n",
              "<table id=\"T_94b53\" class=\"dataframe\">\n",
              "  <thead>\n",
              "    <tr>\n",
              "      <th class=\"blank level0\" >&nbsp;</th>\n",
              "      <th id=\"T_94b53_level0_col0\" class=\"col_heading level0 col0\" >Model</th>\n",
              "      <th id=\"T_94b53_level0_col1\" class=\"col_heading level0 col1\" >Accuracy</th>\n",
              "      <th id=\"T_94b53_level0_col2\" class=\"col_heading level0 col2\" >AUC</th>\n",
              "      <th id=\"T_94b53_level0_col3\" class=\"col_heading level0 col3\" >Recall</th>\n",
              "      <th id=\"T_94b53_level0_col4\" class=\"col_heading level0 col4\" >Prec.</th>\n",
              "      <th id=\"T_94b53_level0_col5\" class=\"col_heading level0 col5\" >F1</th>\n",
              "      <th id=\"T_94b53_level0_col6\" class=\"col_heading level0 col6\" >Kappa</th>\n",
              "      <th id=\"T_94b53_level0_col7\" class=\"col_heading level0 col7\" >MCC</th>\n",
              "    </tr>\n",
              "  </thead>\n",
              "  <tbody>\n",
              "    <tr>\n",
              "      <th id=\"T_94b53_level0_row0\" class=\"row_heading level0 row0\" >0</th>\n",
              "      <td id=\"T_94b53_row0_col0\" class=\"data row0 col0\" >SVM - Linear Kernel</td>\n",
              "      <td id=\"T_94b53_row0_col1\" class=\"data row0 col1\" >0.8036</td>\n",
              "      <td id=\"T_94b53_row0_col2\" class=\"data row0 col2\" >0</td>\n",
              "      <td id=\"T_94b53_row0_col3\" class=\"data row0 col3\" >0.8036</td>\n",
              "      <td id=\"T_94b53_row0_col4\" class=\"data row0 col4\" >0.6458</td>\n",
              "      <td id=\"T_94b53_row0_col5\" class=\"data row0 col5\" >0.7161</td>\n",
              "      <td id=\"T_94b53_row0_col6\" class=\"data row0 col6\" >0.0000</td>\n",
              "      <td id=\"T_94b53_row0_col7\" class=\"data row0 col7\" >0.0000</td>\n",
              "    </tr>\n",
              "  </tbody>\n",
              "</table>\n"
            ]
          },
          "metadata": {}
        },
        {
          "output_type": "stream",
          "name": "stdout",
          "text": [
            "\n",
            "==================================================\n",
            "Processing Sample #6\n",
            "==================================================\n"
          ]
        },
        {
          "output_type": "display_data",
          "data": {
            "text/plain": [
              "<pandas.io.formats.style.Styler at 0x7ce601f08d90>"
            ],
            "text/html": [
              "<style type=\"text/css\">\n",
              "</style>\n",
              "<table id=\"T_fd7c2\" class=\"dataframe\">\n",
              "  <thead>\n",
              "    <tr>\n",
              "      <th class=\"blank level0\" >&nbsp;</th>\n",
              "      <th id=\"T_fd7c2_level0_col0\" class=\"col_heading level0 col0\" >Model</th>\n",
              "      <th id=\"T_fd7c2_level0_col1\" class=\"col_heading level0 col1\" >Accuracy</th>\n",
              "      <th id=\"T_fd7c2_level0_col2\" class=\"col_heading level0 col2\" >AUC</th>\n",
              "      <th id=\"T_fd7c2_level0_col3\" class=\"col_heading level0 col3\" >Recall</th>\n",
              "      <th id=\"T_fd7c2_level0_col4\" class=\"col_heading level0 col4\" >Prec.</th>\n",
              "      <th id=\"T_fd7c2_level0_col5\" class=\"col_heading level0 col5\" >F1</th>\n",
              "      <th id=\"T_fd7c2_level0_col6\" class=\"col_heading level0 col6\" >Kappa</th>\n",
              "      <th id=\"T_fd7c2_level0_col7\" class=\"col_heading level0 col7\" >MCC</th>\n",
              "    </tr>\n",
              "  </thead>\n",
              "  <tbody>\n",
              "    <tr>\n",
              "      <th id=\"T_fd7c2_level0_row0\" class=\"row_heading level0 row0\" >0</th>\n",
              "      <td id=\"T_fd7c2_row0_col0\" class=\"data row0 col0\" >SVM - Linear Kernel</td>\n",
              "      <td id=\"T_fd7c2_row0_col1\" class=\"data row0 col1\" >0.6672</td>\n",
              "      <td id=\"T_fd7c2_row0_col2\" class=\"data row0 col2\" >0</td>\n",
              "      <td id=\"T_fd7c2_row0_col3\" class=\"data row0 col3\" >0.6672</td>\n",
              "      <td id=\"T_fd7c2_row0_col4\" class=\"data row0 col4\" >0.8058</td>\n",
              "      <td id=\"T_fd7c2_row0_col5\" class=\"data row0 col5\" >0.7009</td>\n",
              "      <td id=\"T_fd7c2_row0_col6\" class=\"data row0 col6\" >0.2805</td>\n",
              "      <td id=\"T_fd7c2_row0_col7\" class=\"data row0 col7\" >0.3290</td>\n",
              "    </tr>\n",
              "  </tbody>\n",
              "</table>\n"
            ]
          },
          "metadata": {}
        },
        {
          "output_type": "display_data",
          "data": {
            "text/plain": [
              "<pandas.io.formats.style.Styler at 0x7ce749ce0850>"
            ],
            "text/html": [
              "<style type=\"text/css\">\n",
              "</style>\n",
              "<table id=\"T_50c75\" class=\"dataframe\">\n",
              "  <thead>\n",
              "    <tr>\n",
              "      <th class=\"blank level0\" >&nbsp;</th>\n",
              "      <th id=\"T_50c75_level0_col0\" class=\"col_heading level0 col0\" >Model</th>\n",
              "      <th id=\"T_50c75_level0_col1\" class=\"col_heading level0 col1\" >Accuracy</th>\n",
              "      <th id=\"T_50c75_level0_col2\" class=\"col_heading level0 col2\" >AUC</th>\n",
              "      <th id=\"T_50c75_level0_col3\" class=\"col_heading level0 col3\" >Recall</th>\n",
              "      <th id=\"T_50c75_level0_col4\" class=\"col_heading level0 col4\" >Prec.</th>\n",
              "      <th id=\"T_50c75_level0_col5\" class=\"col_heading level0 col5\" >F1</th>\n",
              "      <th id=\"T_50c75_level0_col6\" class=\"col_heading level0 col6\" >Kappa</th>\n",
              "      <th id=\"T_50c75_level0_col7\" class=\"col_heading level0 col7\" >MCC</th>\n",
              "    </tr>\n",
              "  </thead>\n",
              "  <tbody>\n",
              "    <tr>\n",
              "      <th id=\"T_50c75_level0_row0\" class=\"row_heading level0 row0\" >0</th>\n",
              "      <td id=\"T_50c75_row0_col0\" class=\"data row0 col0\" >SVM - Linear Kernel</td>\n",
              "      <td id=\"T_50c75_row0_col1\" class=\"data row0 col1\" >0.6672</td>\n",
              "      <td id=\"T_50c75_row0_col2\" class=\"data row0 col2\" >0</td>\n",
              "      <td id=\"T_50c75_row0_col3\" class=\"data row0 col3\" >0.6672</td>\n",
              "      <td id=\"T_50c75_row0_col4\" class=\"data row0 col4\" >0.8058</td>\n",
              "      <td id=\"T_50c75_row0_col5\" class=\"data row0 col5\" >0.7009</td>\n",
              "      <td id=\"T_50c75_row0_col6\" class=\"data row0 col6\" >0.2805</td>\n",
              "      <td id=\"T_50c75_row0_col7\" class=\"data row0 col7\" >0.3290</td>\n",
              "    </tr>\n",
              "  </tbody>\n",
              "</table>\n"
            ]
          },
          "metadata": {}
        },
        {
          "output_type": "display_data",
          "data": {
            "text/plain": [
              "<pandas.io.formats.style.Styler at 0x7ce749b790d0>"
            ],
            "text/html": [
              "<style type=\"text/css\">\n",
              "</style>\n",
              "<table id=\"T_70ea1\" class=\"dataframe\">\n",
              "  <thead>\n",
              "    <tr>\n",
              "      <th class=\"blank level0\" >&nbsp;</th>\n",
              "      <th id=\"T_70ea1_level0_col0\" class=\"col_heading level0 col0\" >Model</th>\n",
              "      <th id=\"T_70ea1_level0_col1\" class=\"col_heading level0 col1\" >Accuracy</th>\n",
              "      <th id=\"T_70ea1_level0_col2\" class=\"col_heading level0 col2\" >AUC</th>\n",
              "      <th id=\"T_70ea1_level0_col3\" class=\"col_heading level0 col3\" >Recall</th>\n",
              "      <th id=\"T_70ea1_level0_col4\" class=\"col_heading level0 col4\" >Prec.</th>\n",
              "      <th id=\"T_70ea1_level0_col5\" class=\"col_heading level0 col5\" >F1</th>\n",
              "      <th id=\"T_70ea1_level0_col6\" class=\"col_heading level0 col6\" >Kappa</th>\n",
              "      <th id=\"T_70ea1_level0_col7\" class=\"col_heading level0 col7\" >MCC</th>\n",
              "    </tr>\n",
              "  </thead>\n",
              "  <tbody>\n",
              "    <tr>\n",
              "      <th id=\"T_70ea1_level0_row0\" class=\"row_heading level0 row0\" >0</th>\n",
              "      <td id=\"T_70ea1_row0_col0\" class=\"data row0 col0\" >SVM - Linear Kernel</td>\n",
              "      <td id=\"T_70ea1_row0_col1\" class=\"data row0 col1\" >0.6672</td>\n",
              "      <td id=\"T_70ea1_row0_col2\" class=\"data row0 col2\" >0</td>\n",
              "      <td id=\"T_70ea1_row0_col3\" class=\"data row0 col3\" >0.6672</td>\n",
              "      <td id=\"T_70ea1_row0_col4\" class=\"data row0 col4\" >0.8058</td>\n",
              "      <td id=\"T_70ea1_row0_col5\" class=\"data row0 col5\" >0.7009</td>\n",
              "      <td id=\"T_70ea1_row0_col6\" class=\"data row0 col6\" >0.2805</td>\n",
              "      <td id=\"T_70ea1_row0_col7\" class=\"data row0 col7\" >0.3290</td>\n",
              "    </tr>\n",
              "  </tbody>\n",
              "</table>\n"
            ]
          },
          "metadata": {}
        },
        {
          "output_type": "display_data",
          "data": {
            "text/plain": [
              "<pandas.io.formats.style.Styler at 0x7ce6009ad690>"
            ],
            "text/html": [
              "<style type=\"text/css\">\n",
              "</style>\n",
              "<table id=\"T_c960f\" class=\"dataframe\">\n",
              "  <thead>\n",
              "    <tr>\n",
              "      <th class=\"blank level0\" >&nbsp;</th>\n",
              "      <th id=\"T_c960f_level0_col0\" class=\"col_heading level0 col0\" >Model</th>\n",
              "      <th id=\"T_c960f_level0_col1\" class=\"col_heading level0 col1\" >Accuracy</th>\n",
              "      <th id=\"T_c960f_level0_col2\" class=\"col_heading level0 col2\" >AUC</th>\n",
              "      <th id=\"T_c960f_level0_col3\" class=\"col_heading level0 col3\" >Recall</th>\n",
              "      <th id=\"T_c960f_level0_col4\" class=\"col_heading level0 col4\" >Prec.</th>\n",
              "      <th id=\"T_c960f_level0_col5\" class=\"col_heading level0 col5\" >F1</th>\n",
              "      <th id=\"T_c960f_level0_col6\" class=\"col_heading level0 col6\" >Kappa</th>\n",
              "      <th id=\"T_c960f_level0_col7\" class=\"col_heading level0 col7\" >MCC</th>\n",
              "    </tr>\n",
              "  </thead>\n",
              "  <tbody>\n",
              "    <tr>\n",
              "      <th id=\"T_c960f_level0_row0\" class=\"row_heading level0 row0\" >0</th>\n",
              "      <td id=\"T_c960f_row0_col0\" class=\"data row0 col0\" >SVM - Linear Kernel</td>\n",
              "      <td id=\"T_c960f_row0_col1\" class=\"data row0 col1\" >0.6672</td>\n",
              "      <td id=\"T_c960f_row0_col2\" class=\"data row0 col2\" >0</td>\n",
              "      <td id=\"T_c960f_row0_col3\" class=\"data row0 col3\" >0.6672</td>\n",
              "      <td id=\"T_c960f_row0_col4\" class=\"data row0 col4\" >0.8058</td>\n",
              "      <td id=\"T_c960f_row0_col5\" class=\"data row0 col5\" >0.7009</td>\n",
              "      <td id=\"T_c960f_row0_col6\" class=\"data row0 col6\" >0.2805</td>\n",
              "      <td id=\"T_c960f_row0_col7\" class=\"data row0 col7\" >0.3290</td>\n",
              "    </tr>\n",
              "  </tbody>\n",
              "</table>\n"
            ]
          },
          "metadata": {}
        },
        {
          "output_type": "display_data",
          "data": {
            "text/plain": [
              "<pandas.io.formats.style.Styler at 0x7ce749b84250>"
            ],
            "text/html": [
              "<style type=\"text/css\">\n",
              "</style>\n",
              "<table id=\"T_fcc82\" class=\"dataframe\">\n",
              "  <thead>\n",
              "    <tr>\n",
              "      <th class=\"blank level0\" >&nbsp;</th>\n",
              "      <th id=\"T_fcc82_level0_col0\" class=\"col_heading level0 col0\" >Model</th>\n",
              "      <th id=\"T_fcc82_level0_col1\" class=\"col_heading level0 col1\" >Accuracy</th>\n",
              "      <th id=\"T_fcc82_level0_col2\" class=\"col_heading level0 col2\" >AUC</th>\n",
              "      <th id=\"T_fcc82_level0_col3\" class=\"col_heading level0 col3\" >Recall</th>\n",
              "      <th id=\"T_fcc82_level0_col4\" class=\"col_heading level0 col4\" >Prec.</th>\n",
              "      <th id=\"T_fcc82_level0_col5\" class=\"col_heading level0 col5\" >F1</th>\n",
              "      <th id=\"T_fcc82_level0_col6\" class=\"col_heading level0 col6\" >Kappa</th>\n",
              "      <th id=\"T_fcc82_level0_col7\" class=\"col_heading level0 col7\" >MCC</th>\n",
              "    </tr>\n",
              "  </thead>\n",
              "  <tbody>\n",
              "    <tr>\n",
              "      <th id=\"T_fcc82_level0_row0\" class=\"row_heading level0 row0\" >0</th>\n",
              "      <td id=\"T_fcc82_row0_col0\" class=\"data row0 col0\" >SVM - Linear Kernel</td>\n",
              "      <td id=\"T_fcc82_row0_col1\" class=\"data row0 col1\" >0.6672</td>\n",
              "      <td id=\"T_fcc82_row0_col2\" class=\"data row0 col2\" >0</td>\n",
              "      <td id=\"T_fcc82_row0_col3\" class=\"data row0 col3\" >0.6672</td>\n",
              "      <td id=\"T_fcc82_row0_col4\" class=\"data row0 col4\" >0.8058</td>\n",
              "      <td id=\"T_fcc82_row0_col5\" class=\"data row0 col5\" >0.7009</td>\n",
              "      <td id=\"T_fcc82_row0_col6\" class=\"data row0 col6\" >0.2805</td>\n",
              "      <td id=\"T_fcc82_row0_col7\" class=\"data row0 col7\" >0.3290</td>\n",
              "    </tr>\n",
              "  </tbody>\n",
              "</table>\n"
            ]
          },
          "metadata": {}
        },
        {
          "output_type": "display_data",
          "data": {
            "text/plain": [
              "<pandas.io.formats.style.Styler at 0x7ce60063b210>"
            ],
            "text/html": [
              "<style type=\"text/css\">\n",
              "</style>\n",
              "<table id=\"T_afc93\" class=\"dataframe\">\n",
              "  <thead>\n",
              "    <tr>\n",
              "      <th class=\"blank level0\" >&nbsp;</th>\n",
              "      <th id=\"T_afc93_level0_col0\" class=\"col_heading level0 col0\" >Model</th>\n",
              "      <th id=\"T_afc93_level0_col1\" class=\"col_heading level0 col1\" >Accuracy</th>\n",
              "      <th id=\"T_afc93_level0_col2\" class=\"col_heading level0 col2\" >AUC</th>\n",
              "      <th id=\"T_afc93_level0_col3\" class=\"col_heading level0 col3\" >Recall</th>\n",
              "      <th id=\"T_afc93_level0_col4\" class=\"col_heading level0 col4\" >Prec.</th>\n",
              "      <th id=\"T_afc93_level0_col5\" class=\"col_heading level0 col5\" >F1</th>\n",
              "      <th id=\"T_afc93_level0_col6\" class=\"col_heading level0 col6\" >Kappa</th>\n",
              "      <th id=\"T_afc93_level0_col7\" class=\"col_heading level0 col7\" >MCC</th>\n",
              "    </tr>\n",
              "  </thead>\n",
              "  <tbody>\n",
              "    <tr>\n",
              "      <th id=\"T_afc93_level0_row0\" class=\"row_heading level0 row0\" >0</th>\n",
              "      <td id=\"T_afc93_row0_col0\" class=\"data row0 col0\" >SVM - Linear Kernel</td>\n",
              "      <td id=\"T_afc93_row0_col1\" class=\"data row0 col1\" >0.6672</td>\n",
              "      <td id=\"T_afc93_row0_col2\" class=\"data row0 col2\" >0</td>\n",
              "      <td id=\"T_afc93_row0_col3\" class=\"data row0 col3\" >0.6672</td>\n",
              "      <td id=\"T_afc93_row0_col4\" class=\"data row0 col4\" >0.8058</td>\n",
              "      <td id=\"T_afc93_row0_col5\" class=\"data row0 col5\" >0.7009</td>\n",
              "      <td id=\"T_afc93_row0_col6\" class=\"data row0 col6\" >0.2805</td>\n",
              "      <td id=\"T_afc93_row0_col7\" class=\"data row0 col7\" >0.3290</td>\n",
              "    </tr>\n",
              "  </tbody>\n",
              "</table>\n"
            ]
          },
          "metadata": {}
        },
        {
          "output_type": "display_data",
          "data": {
            "text/plain": [
              "<pandas.io.formats.style.Styler at 0x7ce5ebd73b10>"
            ],
            "text/html": [
              "<style type=\"text/css\">\n",
              "</style>\n",
              "<table id=\"T_7eab5\" class=\"dataframe\">\n",
              "  <thead>\n",
              "    <tr>\n",
              "      <th class=\"blank level0\" >&nbsp;</th>\n",
              "      <th id=\"T_7eab5_level0_col0\" class=\"col_heading level0 col0\" >Model</th>\n",
              "      <th id=\"T_7eab5_level0_col1\" class=\"col_heading level0 col1\" >Accuracy</th>\n",
              "      <th id=\"T_7eab5_level0_col2\" class=\"col_heading level0 col2\" >AUC</th>\n",
              "      <th id=\"T_7eab5_level0_col3\" class=\"col_heading level0 col3\" >Recall</th>\n",
              "      <th id=\"T_7eab5_level0_col4\" class=\"col_heading level0 col4\" >Prec.</th>\n",
              "      <th id=\"T_7eab5_level0_col5\" class=\"col_heading level0 col5\" >F1</th>\n",
              "      <th id=\"T_7eab5_level0_col6\" class=\"col_heading level0 col6\" >Kappa</th>\n",
              "      <th id=\"T_7eab5_level0_col7\" class=\"col_heading level0 col7\" >MCC</th>\n",
              "    </tr>\n",
              "  </thead>\n",
              "  <tbody>\n",
              "    <tr>\n",
              "      <th id=\"T_7eab5_level0_row0\" class=\"row_heading level0 row0\" >0</th>\n",
              "      <td id=\"T_7eab5_row0_col0\" class=\"data row0 col0\" >SVM - Linear Kernel</td>\n",
              "      <td id=\"T_7eab5_row0_col1\" class=\"data row0 col1\" >0.6672</td>\n",
              "      <td id=\"T_7eab5_row0_col2\" class=\"data row0 col2\" >0</td>\n",
              "      <td id=\"T_7eab5_row0_col3\" class=\"data row0 col3\" >0.6672</td>\n",
              "      <td id=\"T_7eab5_row0_col4\" class=\"data row0 col4\" >0.8058</td>\n",
              "      <td id=\"T_7eab5_row0_col5\" class=\"data row0 col5\" >0.7009</td>\n",
              "      <td id=\"T_7eab5_row0_col6\" class=\"data row0 col6\" >0.2805</td>\n",
              "      <td id=\"T_7eab5_row0_col7\" class=\"data row0 col7\" >0.3290</td>\n",
              "    </tr>\n",
              "  </tbody>\n",
              "</table>\n"
            ]
          },
          "metadata": {}
        },
        {
          "output_type": "display_data",
          "data": {
            "text/plain": [
              "<pandas.io.formats.style.Styler at 0x7ce749b79b90>"
            ],
            "text/html": [
              "<style type=\"text/css\">\n",
              "</style>\n",
              "<table id=\"T_162d2\" class=\"dataframe\">\n",
              "  <thead>\n",
              "    <tr>\n",
              "      <th class=\"blank level0\" >&nbsp;</th>\n",
              "      <th id=\"T_162d2_level0_col0\" class=\"col_heading level0 col0\" >Model</th>\n",
              "      <th id=\"T_162d2_level0_col1\" class=\"col_heading level0 col1\" >Accuracy</th>\n",
              "      <th id=\"T_162d2_level0_col2\" class=\"col_heading level0 col2\" >AUC</th>\n",
              "      <th id=\"T_162d2_level0_col3\" class=\"col_heading level0 col3\" >Recall</th>\n",
              "      <th id=\"T_162d2_level0_col4\" class=\"col_heading level0 col4\" >Prec.</th>\n",
              "      <th id=\"T_162d2_level0_col5\" class=\"col_heading level0 col5\" >F1</th>\n",
              "      <th id=\"T_162d2_level0_col6\" class=\"col_heading level0 col6\" >Kappa</th>\n",
              "      <th id=\"T_162d2_level0_col7\" class=\"col_heading level0 col7\" >MCC</th>\n",
              "    </tr>\n",
              "  </thead>\n",
              "  <tbody>\n",
              "    <tr>\n",
              "      <th id=\"T_162d2_level0_row0\" class=\"row_heading level0 row0\" >0</th>\n",
              "      <td id=\"T_162d2_row0_col0\" class=\"data row0 col0\" >SVM - Linear Kernel</td>\n",
              "      <td id=\"T_162d2_row0_col1\" class=\"data row0 col1\" >0.6672</td>\n",
              "      <td id=\"T_162d2_row0_col2\" class=\"data row0 col2\" >0</td>\n",
              "      <td id=\"T_162d2_row0_col3\" class=\"data row0 col3\" >0.6672</td>\n",
              "      <td id=\"T_162d2_row0_col4\" class=\"data row0 col4\" >0.8058</td>\n",
              "      <td id=\"T_162d2_row0_col5\" class=\"data row0 col5\" >0.7009</td>\n",
              "      <td id=\"T_162d2_row0_col6\" class=\"data row0 col6\" >0.2805</td>\n",
              "      <td id=\"T_162d2_row0_col7\" class=\"data row0 col7\" >0.3290</td>\n",
              "    </tr>\n",
              "  </tbody>\n",
              "</table>\n"
            ]
          },
          "metadata": {}
        },
        {
          "output_type": "display_data",
          "data": {
            "text/plain": [
              "<pandas.io.formats.style.Styler at 0x7ce5ebd73b10>"
            ],
            "text/html": [
              "<style type=\"text/css\">\n",
              "</style>\n",
              "<table id=\"T_5765a\" class=\"dataframe\">\n",
              "  <thead>\n",
              "    <tr>\n",
              "      <th class=\"blank level0\" >&nbsp;</th>\n",
              "      <th id=\"T_5765a_level0_col0\" class=\"col_heading level0 col0\" >Model</th>\n",
              "      <th id=\"T_5765a_level0_col1\" class=\"col_heading level0 col1\" >Accuracy</th>\n",
              "      <th id=\"T_5765a_level0_col2\" class=\"col_heading level0 col2\" >AUC</th>\n",
              "      <th id=\"T_5765a_level0_col3\" class=\"col_heading level0 col3\" >Recall</th>\n",
              "      <th id=\"T_5765a_level0_col4\" class=\"col_heading level0 col4\" >Prec.</th>\n",
              "      <th id=\"T_5765a_level0_col5\" class=\"col_heading level0 col5\" >F1</th>\n",
              "      <th id=\"T_5765a_level0_col6\" class=\"col_heading level0 col6\" >Kappa</th>\n",
              "      <th id=\"T_5765a_level0_col7\" class=\"col_heading level0 col7\" >MCC</th>\n",
              "    </tr>\n",
              "  </thead>\n",
              "  <tbody>\n",
              "    <tr>\n",
              "      <th id=\"T_5765a_level0_row0\" class=\"row_heading level0 row0\" >0</th>\n",
              "      <td id=\"T_5765a_row0_col0\" class=\"data row0 col0\" >SVM - Linear Kernel</td>\n",
              "      <td id=\"T_5765a_row0_col1\" class=\"data row0 col1\" >0.6672</td>\n",
              "      <td id=\"T_5765a_row0_col2\" class=\"data row0 col2\" >0</td>\n",
              "      <td id=\"T_5765a_row0_col3\" class=\"data row0 col3\" >0.6672</td>\n",
              "      <td id=\"T_5765a_row0_col4\" class=\"data row0 col4\" >0.8058</td>\n",
              "      <td id=\"T_5765a_row0_col5\" class=\"data row0 col5\" >0.7009</td>\n",
              "      <td id=\"T_5765a_row0_col6\" class=\"data row0 col6\" >0.2805</td>\n",
              "      <td id=\"T_5765a_row0_col7\" class=\"data row0 col7\" >0.3290</td>\n",
              "    </tr>\n",
              "  </tbody>\n",
              "</table>\n"
            ]
          },
          "metadata": {}
        },
        {
          "output_type": "display_data",
          "data": {
            "text/plain": [
              "<pandas.io.formats.style.Styler at 0x7ce7498c1690>"
            ],
            "text/html": [
              "<style type=\"text/css\">\n",
              "</style>\n",
              "<table id=\"T_e0d98\" class=\"dataframe\">\n",
              "  <thead>\n",
              "    <tr>\n",
              "      <th class=\"blank level0\" >&nbsp;</th>\n",
              "      <th id=\"T_e0d98_level0_col0\" class=\"col_heading level0 col0\" >Model</th>\n",
              "      <th id=\"T_e0d98_level0_col1\" class=\"col_heading level0 col1\" >Accuracy</th>\n",
              "      <th id=\"T_e0d98_level0_col2\" class=\"col_heading level0 col2\" >AUC</th>\n",
              "      <th id=\"T_e0d98_level0_col3\" class=\"col_heading level0 col3\" >Recall</th>\n",
              "      <th id=\"T_e0d98_level0_col4\" class=\"col_heading level0 col4\" >Prec.</th>\n",
              "      <th id=\"T_e0d98_level0_col5\" class=\"col_heading level0 col5\" >F1</th>\n",
              "      <th id=\"T_e0d98_level0_col6\" class=\"col_heading level0 col6\" >Kappa</th>\n",
              "      <th id=\"T_e0d98_level0_col7\" class=\"col_heading level0 col7\" >MCC</th>\n",
              "    </tr>\n",
              "  </thead>\n",
              "  <tbody>\n",
              "    <tr>\n",
              "      <th id=\"T_e0d98_level0_row0\" class=\"row_heading level0 row0\" >0</th>\n",
              "      <td id=\"T_e0d98_row0_col0\" class=\"data row0 col0\" >SVM - Linear Kernel</td>\n",
              "      <td id=\"T_e0d98_row0_col1\" class=\"data row0 col1\" >0.6672</td>\n",
              "      <td id=\"T_e0d98_row0_col2\" class=\"data row0 col2\" >0</td>\n",
              "      <td id=\"T_e0d98_row0_col3\" class=\"data row0 col3\" >0.6672</td>\n",
              "      <td id=\"T_e0d98_row0_col4\" class=\"data row0 col4\" >0.8058</td>\n",
              "      <td id=\"T_e0d98_row0_col5\" class=\"data row0 col5\" >0.7009</td>\n",
              "      <td id=\"T_e0d98_row0_col6\" class=\"data row0 col6\" >0.2805</td>\n",
              "      <td id=\"T_e0d98_row0_col7\" class=\"data row0 col7\" >0.3290</td>\n",
              "    </tr>\n",
              "  </tbody>\n",
              "</table>\n"
            ]
          },
          "metadata": {}
        },
        {
          "output_type": "stream",
          "name": "stdout",
          "text": [
            "\n",
            "==================================================\n",
            "Processing Sample #7\n",
            "==================================================\n"
          ]
        },
        {
          "output_type": "display_data",
          "data": {
            "text/plain": [
              "<pandas.io.formats.style.Styler at 0x7ce5ebd73b10>"
            ],
            "text/html": [
              "<style type=\"text/css\">\n",
              "</style>\n",
              "<table id=\"T_4791e\" class=\"dataframe\">\n",
              "  <thead>\n",
              "    <tr>\n",
              "      <th class=\"blank level0\" >&nbsp;</th>\n",
              "      <th id=\"T_4791e_level0_col0\" class=\"col_heading level0 col0\" >Model</th>\n",
              "      <th id=\"T_4791e_level0_col1\" class=\"col_heading level0 col1\" >Accuracy</th>\n",
              "      <th id=\"T_4791e_level0_col2\" class=\"col_heading level0 col2\" >AUC</th>\n",
              "      <th id=\"T_4791e_level0_col3\" class=\"col_heading level0 col3\" >Recall</th>\n",
              "      <th id=\"T_4791e_level0_col4\" class=\"col_heading level0 col4\" >Prec.</th>\n",
              "      <th id=\"T_4791e_level0_col5\" class=\"col_heading level0 col5\" >F1</th>\n",
              "      <th id=\"T_4791e_level0_col6\" class=\"col_heading level0 col6\" >Kappa</th>\n",
              "      <th id=\"T_4791e_level0_col7\" class=\"col_heading level0 col7\" >MCC</th>\n",
              "    </tr>\n",
              "  </thead>\n",
              "  <tbody>\n",
              "    <tr>\n",
              "      <th id=\"T_4791e_level0_row0\" class=\"row_heading level0 row0\" >0</th>\n",
              "      <td id=\"T_4791e_row0_col0\" class=\"data row0 col0\" >SVM - Linear Kernel</td>\n",
              "      <td id=\"T_4791e_row0_col1\" class=\"data row0 col1\" >0.8036</td>\n",
              "      <td id=\"T_4791e_row0_col2\" class=\"data row0 col2\" >0</td>\n",
              "      <td id=\"T_4791e_row0_col3\" class=\"data row0 col3\" >0.8036</td>\n",
              "      <td id=\"T_4791e_row0_col4\" class=\"data row0 col4\" >0.6458</td>\n",
              "      <td id=\"T_4791e_row0_col5\" class=\"data row0 col5\" >0.7161</td>\n",
              "      <td id=\"T_4791e_row0_col6\" class=\"data row0 col6\" >0.0000</td>\n",
              "      <td id=\"T_4791e_row0_col7\" class=\"data row0 col7\" >0.0000</td>\n",
              "    </tr>\n",
              "  </tbody>\n",
              "</table>\n"
            ]
          },
          "metadata": {}
        },
        {
          "output_type": "display_data",
          "data": {
            "text/plain": [
              "<pandas.io.formats.style.Styler at 0x7ce7498c07d0>"
            ],
            "text/html": [
              "<style type=\"text/css\">\n",
              "</style>\n",
              "<table id=\"T_01d40\" class=\"dataframe\">\n",
              "  <thead>\n",
              "    <tr>\n",
              "      <th class=\"blank level0\" >&nbsp;</th>\n",
              "      <th id=\"T_01d40_level0_col0\" class=\"col_heading level0 col0\" >Model</th>\n",
              "      <th id=\"T_01d40_level0_col1\" class=\"col_heading level0 col1\" >Accuracy</th>\n",
              "      <th id=\"T_01d40_level0_col2\" class=\"col_heading level0 col2\" >AUC</th>\n",
              "      <th id=\"T_01d40_level0_col3\" class=\"col_heading level0 col3\" >Recall</th>\n",
              "      <th id=\"T_01d40_level0_col4\" class=\"col_heading level0 col4\" >Prec.</th>\n",
              "      <th id=\"T_01d40_level0_col5\" class=\"col_heading level0 col5\" >F1</th>\n",
              "      <th id=\"T_01d40_level0_col6\" class=\"col_heading level0 col6\" >Kappa</th>\n",
              "      <th id=\"T_01d40_level0_col7\" class=\"col_heading level0 col7\" >MCC</th>\n",
              "    </tr>\n",
              "  </thead>\n",
              "  <tbody>\n",
              "    <tr>\n",
              "      <th id=\"T_01d40_level0_row0\" class=\"row_heading level0 row0\" >0</th>\n",
              "      <td id=\"T_01d40_row0_col0\" class=\"data row0 col0\" >SVM - Linear Kernel</td>\n",
              "      <td id=\"T_01d40_row0_col1\" class=\"data row0 col1\" >0.8036</td>\n",
              "      <td id=\"T_01d40_row0_col2\" class=\"data row0 col2\" >0</td>\n",
              "      <td id=\"T_01d40_row0_col3\" class=\"data row0 col3\" >0.8036</td>\n",
              "      <td id=\"T_01d40_row0_col4\" class=\"data row0 col4\" >0.6458</td>\n",
              "      <td id=\"T_01d40_row0_col5\" class=\"data row0 col5\" >0.7161</td>\n",
              "      <td id=\"T_01d40_row0_col6\" class=\"data row0 col6\" >0.0000</td>\n",
              "      <td id=\"T_01d40_row0_col7\" class=\"data row0 col7\" >0.0000</td>\n",
              "    </tr>\n",
              "  </tbody>\n",
              "</table>\n"
            ]
          },
          "metadata": {}
        },
        {
          "output_type": "display_data",
          "data": {
            "text/plain": [
              "<pandas.io.formats.style.Styler at 0x7ce749c197d0>"
            ],
            "text/html": [
              "<style type=\"text/css\">\n",
              "</style>\n",
              "<table id=\"T_39364\" class=\"dataframe\">\n",
              "  <thead>\n",
              "    <tr>\n",
              "      <th class=\"blank level0\" >&nbsp;</th>\n",
              "      <th id=\"T_39364_level0_col0\" class=\"col_heading level0 col0\" >Model</th>\n",
              "      <th id=\"T_39364_level0_col1\" class=\"col_heading level0 col1\" >Accuracy</th>\n",
              "      <th id=\"T_39364_level0_col2\" class=\"col_heading level0 col2\" >AUC</th>\n",
              "      <th id=\"T_39364_level0_col3\" class=\"col_heading level0 col3\" >Recall</th>\n",
              "      <th id=\"T_39364_level0_col4\" class=\"col_heading level0 col4\" >Prec.</th>\n",
              "      <th id=\"T_39364_level0_col5\" class=\"col_heading level0 col5\" >F1</th>\n",
              "      <th id=\"T_39364_level0_col6\" class=\"col_heading level0 col6\" >Kappa</th>\n",
              "      <th id=\"T_39364_level0_col7\" class=\"col_heading level0 col7\" >MCC</th>\n",
              "    </tr>\n",
              "  </thead>\n",
              "  <tbody>\n",
              "    <tr>\n",
              "      <th id=\"T_39364_level0_row0\" class=\"row_heading level0 row0\" >0</th>\n",
              "      <td id=\"T_39364_row0_col0\" class=\"data row0 col0\" >SVM - Linear Kernel</td>\n",
              "      <td id=\"T_39364_row0_col1\" class=\"data row0 col1\" >0.8036</td>\n",
              "      <td id=\"T_39364_row0_col2\" class=\"data row0 col2\" >0</td>\n",
              "      <td id=\"T_39364_row0_col3\" class=\"data row0 col3\" >0.8036</td>\n",
              "      <td id=\"T_39364_row0_col4\" class=\"data row0 col4\" >0.6458</td>\n",
              "      <td id=\"T_39364_row0_col5\" class=\"data row0 col5\" >0.7161</td>\n",
              "      <td id=\"T_39364_row0_col6\" class=\"data row0 col6\" >0.0000</td>\n",
              "      <td id=\"T_39364_row0_col7\" class=\"data row0 col7\" >0.0000</td>\n",
              "    </tr>\n",
              "  </tbody>\n",
              "</table>\n"
            ]
          },
          "metadata": {}
        },
        {
          "output_type": "display_data",
          "data": {
            "text/plain": [
              "<pandas.io.formats.style.Styler at 0x7ce5ebcf5d50>"
            ],
            "text/html": [
              "<style type=\"text/css\">\n",
              "</style>\n",
              "<table id=\"T_d3ba9\" class=\"dataframe\">\n",
              "  <thead>\n",
              "    <tr>\n",
              "      <th class=\"blank level0\" >&nbsp;</th>\n",
              "      <th id=\"T_d3ba9_level0_col0\" class=\"col_heading level0 col0\" >Model</th>\n",
              "      <th id=\"T_d3ba9_level0_col1\" class=\"col_heading level0 col1\" >Accuracy</th>\n",
              "      <th id=\"T_d3ba9_level0_col2\" class=\"col_heading level0 col2\" >AUC</th>\n",
              "      <th id=\"T_d3ba9_level0_col3\" class=\"col_heading level0 col3\" >Recall</th>\n",
              "      <th id=\"T_d3ba9_level0_col4\" class=\"col_heading level0 col4\" >Prec.</th>\n",
              "      <th id=\"T_d3ba9_level0_col5\" class=\"col_heading level0 col5\" >F1</th>\n",
              "      <th id=\"T_d3ba9_level0_col6\" class=\"col_heading level0 col6\" >Kappa</th>\n",
              "      <th id=\"T_d3ba9_level0_col7\" class=\"col_heading level0 col7\" >MCC</th>\n",
              "    </tr>\n",
              "  </thead>\n",
              "  <tbody>\n",
              "    <tr>\n",
              "      <th id=\"T_d3ba9_level0_row0\" class=\"row_heading level0 row0\" >0</th>\n",
              "      <td id=\"T_d3ba9_row0_col0\" class=\"data row0 col0\" >SVM - Linear Kernel</td>\n",
              "      <td id=\"T_d3ba9_row0_col1\" class=\"data row0 col1\" >0.8036</td>\n",
              "      <td id=\"T_d3ba9_row0_col2\" class=\"data row0 col2\" >0</td>\n",
              "      <td id=\"T_d3ba9_row0_col3\" class=\"data row0 col3\" >0.8036</td>\n",
              "      <td id=\"T_d3ba9_row0_col4\" class=\"data row0 col4\" >0.6458</td>\n",
              "      <td id=\"T_d3ba9_row0_col5\" class=\"data row0 col5\" >0.7161</td>\n",
              "      <td id=\"T_d3ba9_row0_col6\" class=\"data row0 col6\" >0.0000</td>\n",
              "      <td id=\"T_d3ba9_row0_col7\" class=\"data row0 col7\" >0.0000</td>\n",
              "    </tr>\n",
              "  </tbody>\n",
              "</table>\n"
            ]
          },
          "metadata": {}
        },
        {
          "output_type": "display_data",
          "data": {
            "text/plain": [
              "<pandas.io.formats.style.Styler at 0x7ce749fd5050>"
            ],
            "text/html": [
              "<style type=\"text/css\">\n",
              "</style>\n",
              "<table id=\"T_fe612\" class=\"dataframe\">\n",
              "  <thead>\n",
              "    <tr>\n",
              "      <th class=\"blank level0\" >&nbsp;</th>\n",
              "      <th id=\"T_fe612_level0_col0\" class=\"col_heading level0 col0\" >Model</th>\n",
              "      <th id=\"T_fe612_level0_col1\" class=\"col_heading level0 col1\" >Accuracy</th>\n",
              "      <th id=\"T_fe612_level0_col2\" class=\"col_heading level0 col2\" >AUC</th>\n",
              "      <th id=\"T_fe612_level0_col3\" class=\"col_heading level0 col3\" >Recall</th>\n",
              "      <th id=\"T_fe612_level0_col4\" class=\"col_heading level0 col4\" >Prec.</th>\n",
              "      <th id=\"T_fe612_level0_col5\" class=\"col_heading level0 col5\" >F1</th>\n",
              "      <th id=\"T_fe612_level0_col6\" class=\"col_heading level0 col6\" >Kappa</th>\n",
              "      <th id=\"T_fe612_level0_col7\" class=\"col_heading level0 col7\" >MCC</th>\n",
              "    </tr>\n",
              "  </thead>\n",
              "  <tbody>\n",
              "    <tr>\n",
              "      <th id=\"T_fe612_level0_row0\" class=\"row_heading level0 row0\" >0</th>\n",
              "      <td id=\"T_fe612_row0_col0\" class=\"data row0 col0\" >SVM - Linear Kernel</td>\n",
              "      <td id=\"T_fe612_row0_col1\" class=\"data row0 col1\" >0.8036</td>\n",
              "      <td id=\"T_fe612_row0_col2\" class=\"data row0 col2\" >0</td>\n",
              "      <td id=\"T_fe612_row0_col3\" class=\"data row0 col3\" >0.8036</td>\n",
              "      <td id=\"T_fe612_row0_col4\" class=\"data row0 col4\" >0.6458</td>\n",
              "      <td id=\"T_fe612_row0_col5\" class=\"data row0 col5\" >0.7161</td>\n",
              "      <td id=\"T_fe612_row0_col6\" class=\"data row0 col6\" >0.0000</td>\n",
              "      <td id=\"T_fe612_row0_col7\" class=\"data row0 col7\" >0.0000</td>\n",
              "    </tr>\n",
              "  </tbody>\n",
              "</table>\n"
            ]
          },
          "metadata": {}
        },
        {
          "output_type": "display_data",
          "data": {
            "text/plain": [
              "<pandas.io.formats.style.Styler at 0x7ce601f0a790>"
            ],
            "text/html": [
              "<style type=\"text/css\">\n",
              "</style>\n",
              "<table id=\"T_5b39b\" class=\"dataframe\">\n",
              "  <thead>\n",
              "    <tr>\n",
              "      <th class=\"blank level0\" >&nbsp;</th>\n",
              "      <th id=\"T_5b39b_level0_col0\" class=\"col_heading level0 col0\" >Model</th>\n",
              "      <th id=\"T_5b39b_level0_col1\" class=\"col_heading level0 col1\" >Accuracy</th>\n",
              "      <th id=\"T_5b39b_level0_col2\" class=\"col_heading level0 col2\" >AUC</th>\n",
              "      <th id=\"T_5b39b_level0_col3\" class=\"col_heading level0 col3\" >Recall</th>\n",
              "      <th id=\"T_5b39b_level0_col4\" class=\"col_heading level0 col4\" >Prec.</th>\n",
              "      <th id=\"T_5b39b_level0_col5\" class=\"col_heading level0 col5\" >F1</th>\n",
              "      <th id=\"T_5b39b_level0_col6\" class=\"col_heading level0 col6\" >Kappa</th>\n",
              "      <th id=\"T_5b39b_level0_col7\" class=\"col_heading level0 col7\" >MCC</th>\n",
              "    </tr>\n",
              "  </thead>\n",
              "  <tbody>\n",
              "    <tr>\n",
              "      <th id=\"T_5b39b_level0_row0\" class=\"row_heading level0 row0\" >0</th>\n",
              "      <td id=\"T_5b39b_row0_col0\" class=\"data row0 col0\" >SVM - Linear Kernel</td>\n",
              "      <td id=\"T_5b39b_row0_col1\" class=\"data row0 col1\" >0.8036</td>\n",
              "      <td id=\"T_5b39b_row0_col2\" class=\"data row0 col2\" >0</td>\n",
              "      <td id=\"T_5b39b_row0_col3\" class=\"data row0 col3\" >0.8036</td>\n",
              "      <td id=\"T_5b39b_row0_col4\" class=\"data row0 col4\" >0.6458</td>\n",
              "      <td id=\"T_5b39b_row0_col5\" class=\"data row0 col5\" >0.7161</td>\n",
              "      <td id=\"T_5b39b_row0_col6\" class=\"data row0 col6\" >0.0000</td>\n",
              "      <td id=\"T_5b39b_row0_col7\" class=\"data row0 col7\" >0.0000</td>\n",
              "    </tr>\n",
              "  </tbody>\n",
              "</table>\n"
            ]
          },
          "metadata": {}
        },
        {
          "output_type": "display_data",
          "data": {
            "text/plain": [
              "<pandas.io.formats.style.Styler at 0x7ce6003f4ad0>"
            ],
            "text/html": [
              "<style type=\"text/css\">\n",
              "</style>\n",
              "<table id=\"T_e7a26\" class=\"dataframe\">\n",
              "  <thead>\n",
              "    <tr>\n",
              "      <th class=\"blank level0\" >&nbsp;</th>\n",
              "      <th id=\"T_e7a26_level0_col0\" class=\"col_heading level0 col0\" >Model</th>\n",
              "      <th id=\"T_e7a26_level0_col1\" class=\"col_heading level0 col1\" >Accuracy</th>\n",
              "      <th id=\"T_e7a26_level0_col2\" class=\"col_heading level0 col2\" >AUC</th>\n",
              "      <th id=\"T_e7a26_level0_col3\" class=\"col_heading level0 col3\" >Recall</th>\n",
              "      <th id=\"T_e7a26_level0_col4\" class=\"col_heading level0 col4\" >Prec.</th>\n",
              "      <th id=\"T_e7a26_level0_col5\" class=\"col_heading level0 col5\" >F1</th>\n",
              "      <th id=\"T_e7a26_level0_col6\" class=\"col_heading level0 col6\" >Kappa</th>\n",
              "      <th id=\"T_e7a26_level0_col7\" class=\"col_heading level0 col7\" >MCC</th>\n",
              "    </tr>\n",
              "  </thead>\n",
              "  <tbody>\n",
              "    <tr>\n",
              "      <th id=\"T_e7a26_level0_row0\" class=\"row_heading level0 row0\" >0</th>\n",
              "      <td id=\"T_e7a26_row0_col0\" class=\"data row0 col0\" >SVM - Linear Kernel</td>\n",
              "      <td id=\"T_e7a26_row0_col1\" class=\"data row0 col1\" >0.8036</td>\n",
              "      <td id=\"T_e7a26_row0_col2\" class=\"data row0 col2\" >0</td>\n",
              "      <td id=\"T_e7a26_row0_col3\" class=\"data row0 col3\" >0.8036</td>\n",
              "      <td id=\"T_e7a26_row0_col4\" class=\"data row0 col4\" >0.6458</td>\n",
              "      <td id=\"T_e7a26_row0_col5\" class=\"data row0 col5\" >0.7161</td>\n",
              "      <td id=\"T_e7a26_row0_col6\" class=\"data row0 col6\" >0.0000</td>\n",
              "      <td id=\"T_e7a26_row0_col7\" class=\"data row0 col7\" >0.0000</td>\n",
              "    </tr>\n",
              "  </tbody>\n",
              "</table>\n"
            ]
          },
          "metadata": {}
        },
        {
          "output_type": "display_data",
          "data": {
            "text/plain": [
              "<pandas.io.formats.style.Styler at 0x7ce601f3be90>"
            ],
            "text/html": [
              "<style type=\"text/css\">\n",
              "</style>\n",
              "<table id=\"T_6c529\" class=\"dataframe\">\n",
              "  <thead>\n",
              "    <tr>\n",
              "      <th class=\"blank level0\" >&nbsp;</th>\n",
              "      <th id=\"T_6c529_level0_col0\" class=\"col_heading level0 col0\" >Model</th>\n",
              "      <th id=\"T_6c529_level0_col1\" class=\"col_heading level0 col1\" >Accuracy</th>\n",
              "      <th id=\"T_6c529_level0_col2\" class=\"col_heading level0 col2\" >AUC</th>\n",
              "      <th id=\"T_6c529_level0_col3\" class=\"col_heading level0 col3\" >Recall</th>\n",
              "      <th id=\"T_6c529_level0_col4\" class=\"col_heading level0 col4\" >Prec.</th>\n",
              "      <th id=\"T_6c529_level0_col5\" class=\"col_heading level0 col5\" >F1</th>\n",
              "      <th id=\"T_6c529_level0_col6\" class=\"col_heading level0 col6\" >Kappa</th>\n",
              "      <th id=\"T_6c529_level0_col7\" class=\"col_heading level0 col7\" >MCC</th>\n",
              "    </tr>\n",
              "  </thead>\n",
              "  <tbody>\n",
              "    <tr>\n",
              "      <th id=\"T_6c529_level0_row0\" class=\"row_heading level0 row0\" >0</th>\n",
              "      <td id=\"T_6c529_row0_col0\" class=\"data row0 col0\" >SVM - Linear Kernel</td>\n",
              "      <td id=\"T_6c529_row0_col1\" class=\"data row0 col1\" >0.8036</td>\n",
              "      <td id=\"T_6c529_row0_col2\" class=\"data row0 col2\" >0</td>\n",
              "      <td id=\"T_6c529_row0_col3\" class=\"data row0 col3\" >0.8036</td>\n",
              "      <td id=\"T_6c529_row0_col4\" class=\"data row0 col4\" >0.6458</td>\n",
              "      <td id=\"T_6c529_row0_col5\" class=\"data row0 col5\" >0.7161</td>\n",
              "      <td id=\"T_6c529_row0_col6\" class=\"data row0 col6\" >0.0000</td>\n",
              "      <td id=\"T_6c529_row0_col7\" class=\"data row0 col7\" >0.0000</td>\n",
              "    </tr>\n",
              "  </tbody>\n",
              "</table>\n"
            ]
          },
          "metadata": {}
        },
        {
          "output_type": "display_data",
          "data": {
            "text/plain": [
              "<pandas.io.formats.style.Styler at 0x7ce6000726d0>"
            ],
            "text/html": [
              "<style type=\"text/css\">\n",
              "</style>\n",
              "<table id=\"T_6932e\" class=\"dataframe\">\n",
              "  <thead>\n",
              "    <tr>\n",
              "      <th class=\"blank level0\" >&nbsp;</th>\n",
              "      <th id=\"T_6932e_level0_col0\" class=\"col_heading level0 col0\" >Model</th>\n",
              "      <th id=\"T_6932e_level0_col1\" class=\"col_heading level0 col1\" >Accuracy</th>\n",
              "      <th id=\"T_6932e_level0_col2\" class=\"col_heading level0 col2\" >AUC</th>\n",
              "      <th id=\"T_6932e_level0_col3\" class=\"col_heading level0 col3\" >Recall</th>\n",
              "      <th id=\"T_6932e_level0_col4\" class=\"col_heading level0 col4\" >Prec.</th>\n",
              "      <th id=\"T_6932e_level0_col5\" class=\"col_heading level0 col5\" >F1</th>\n",
              "      <th id=\"T_6932e_level0_col6\" class=\"col_heading level0 col6\" >Kappa</th>\n",
              "      <th id=\"T_6932e_level0_col7\" class=\"col_heading level0 col7\" >MCC</th>\n",
              "    </tr>\n",
              "  </thead>\n",
              "  <tbody>\n",
              "    <tr>\n",
              "      <th id=\"T_6932e_level0_row0\" class=\"row_heading level0 row0\" >0</th>\n",
              "      <td id=\"T_6932e_row0_col0\" class=\"data row0 col0\" >SVM - Linear Kernel</td>\n",
              "      <td id=\"T_6932e_row0_col1\" class=\"data row0 col1\" >0.8036</td>\n",
              "      <td id=\"T_6932e_row0_col2\" class=\"data row0 col2\" >0</td>\n",
              "      <td id=\"T_6932e_row0_col3\" class=\"data row0 col3\" >0.8036</td>\n",
              "      <td id=\"T_6932e_row0_col4\" class=\"data row0 col4\" >0.6458</td>\n",
              "      <td id=\"T_6932e_row0_col5\" class=\"data row0 col5\" >0.7161</td>\n",
              "      <td id=\"T_6932e_row0_col6\" class=\"data row0 col6\" >0.0000</td>\n",
              "      <td id=\"T_6932e_row0_col7\" class=\"data row0 col7\" >0.0000</td>\n",
              "    </tr>\n",
              "  </tbody>\n",
              "</table>\n"
            ]
          },
          "metadata": {}
        },
        {
          "output_type": "display_data",
          "data": {
            "text/plain": [
              "<pandas.io.formats.style.Styler at 0x7ce749fd6890>"
            ],
            "text/html": [
              "<style type=\"text/css\">\n",
              "</style>\n",
              "<table id=\"T_f858c\" class=\"dataframe\">\n",
              "  <thead>\n",
              "    <tr>\n",
              "      <th class=\"blank level0\" >&nbsp;</th>\n",
              "      <th id=\"T_f858c_level0_col0\" class=\"col_heading level0 col0\" >Model</th>\n",
              "      <th id=\"T_f858c_level0_col1\" class=\"col_heading level0 col1\" >Accuracy</th>\n",
              "      <th id=\"T_f858c_level0_col2\" class=\"col_heading level0 col2\" >AUC</th>\n",
              "      <th id=\"T_f858c_level0_col3\" class=\"col_heading level0 col3\" >Recall</th>\n",
              "      <th id=\"T_f858c_level0_col4\" class=\"col_heading level0 col4\" >Prec.</th>\n",
              "      <th id=\"T_f858c_level0_col5\" class=\"col_heading level0 col5\" >F1</th>\n",
              "      <th id=\"T_f858c_level0_col6\" class=\"col_heading level0 col6\" >Kappa</th>\n",
              "      <th id=\"T_f858c_level0_col7\" class=\"col_heading level0 col7\" >MCC</th>\n",
              "    </tr>\n",
              "  </thead>\n",
              "  <tbody>\n",
              "    <tr>\n",
              "      <th id=\"T_f858c_level0_row0\" class=\"row_heading level0 row0\" >0</th>\n",
              "      <td id=\"T_f858c_row0_col0\" class=\"data row0 col0\" >SVM - Linear Kernel</td>\n",
              "      <td id=\"T_f858c_row0_col1\" class=\"data row0 col1\" >0.8036</td>\n",
              "      <td id=\"T_f858c_row0_col2\" class=\"data row0 col2\" >0</td>\n",
              "      <td id=\"T_f858c_row0_col3\" class=\"data row0 col3\" >0.8036</td>\n",
              "      <td id=\"T_f858c_row0_col4\" class=\"data row0 col4\" >0.6458</td>\n",
              "      <td id=\"T_f858c_row0_col5\" class=\"data row0 col5\" >0.7161</td>\n",
              "      <td id=\"T_f858c_row0_col6\" class=\"data row0 col6\" >0.0000</td>\n",
              "      <td id=\"T_f858c_row0_col7\" class=\"data row0 col7\" >0.0000</td>\n",
              "    </tr>\n",
              "  </tbody>\n",
              "</table>\n"
            ]
          },
          "metadata": {}
        },
        {
          "output_type": "stream",
          "name": "stdout",
          "text": [
            "\n",
            "==================================================\n",
            "Processing Sample #8\n",
            "==================================================\n"
          ]
        },
        {
          "output_type": "display_data",
          "data": {
            "text/plain": [
              "<pandas.io.formats.style.Styler at 0x7ce6009aee10>"
            ],
            "text/html": [
              "<style type=\"text/css\">\n",
              "</style>\n",
              "<table id=\"T_b34ee\" class=\"dataframe\">\n",
              "  <thead>\n",
              "    <tr>\n",
              "      <th class=\"blank level0\" >&nbsp;</th>\n",
              "      <th id=\"T_b34ee_level0_col0\" class=\"col_heading level0 col0\" >Model</th>\n",
              "      <th id=\"T_b34ee_level0_col1\" class=\"col_heading level0 col1\" >Accuracy</th>\n",
              "      <th id=\"T_b34ee_level0_col2\" class=\"col_heading level0 col2\" >AUC</th>\n",
              "      <th id=\"T_b34ee_level0_col3\" class=\"col_heading level0 col3\" >Recall</th>\n",
              "      <th id=\"T_b34ee_level0_col4\" class=\"col_heading level0 col4\" >Prec.</th>\n",
              "      <th id=\"T_b34ee_level0_col5\" class=\"col_heading level0 col5\" >F1</th>\n",
              "      <th id=\"T_b34ee_level0_col6\" class=\"col_heading level0 col6\" >Kappa</th>\n",
              "      <th id=\"T_b34ee_level0_col7\" class=\"col_heading level0 col7\" >MCC</th>\n",
              "    </tr>\n",
              "  </thead>\n",
              "  <tbody>\n",
              "    <tr>\n",
              "      <th id=\"T_b34ee_level0_row0\" class=\"row_heading level0 row0\" >0</th>\n",
              "      <td id=\"T_b34ee_row0_col0\" class=\"data row0 col0\" >SVM - Linear Kernel</td>\n",
              "      <td id=\"T_b34ee_row0_col1\" class=\"data row0 col1\" >0.8021</td>\n",
              "      <td id=\"T_b34ee_row0_col2\" class=\"data row0 col2\" >0</td>\n",
              "      <td id=\"T_b34ee_row0_col3\" class=\"data row0 col3\" >0.8021</td>\n",
              "      <td id=\"T_b34ee_row0_col4\" class=\"data row0 col4\" >0.7772</td>\n",
              "      <td id=\"T_b34ee_row0_col5\" class=\"data row0 col5\" >0.7847</td>\n",
              "      <td id=\"T_b34ee_row0_col6\" class=\"data row0 col6\" >0.2759</td>\n",
              "      <td id=\"T_b34ee_row0_col7\" class=\"data row0 col7\" >0.2854</td>\n",
              "    </tr>\n",
              "  </tbody>\n",
              "</table>\n"
            ]
          },
          "metadata": {}
        },
        {
          "output_type": "display_data",
          "data": {
            "text/plain": [
              "<pandas.io.formats.style.Styler at 0x7ce5ebcf5e10>"
            ],
            "text/html": [
              "<style type=\"text/css\">\n",
              "</style>\n",
              "<table id=\"T_5b45a\" class=\"dataframe\">\n",
              "  <thead>\n",
              "    <tr>\n",
              "      <th class=\"blank level0\" >&nbsp;</th>\n",
              "      <th id=\"T_5b45a_level0_col0\" class=\"col_heading level0 col0\" >Model</th>\n",
              "      <th id=\"T_5b45a_level0_col1\" class=\"col_heading level0 col1\" >Accuracy</th>\n",
              "      <th id=\"T_5b45a_level0_col2\" class=\"col_heading level0 col2\" >AUC</th>\n",
              "      <th id=\"T_5b45a_level0_col3\" class=\"col_heading level0 col3\" >Recall</th>\n",
              "      <th id=\"T_5b45a_level0_col4\" class=\"col_heading level0 col4\" >Prec.</th>\n",
              "      <th id=\"T_5b45a_level0_col5\" class=\"col_heading level0 col5\" >F1</th>\n",
              "      <th id=\"T_5b45a_level0_col6\" class=\"col_heading level0 col6\" >Kappa</th>\n",
              "      <th id=\"T_5b45a_level0_col7\" class=\"col_heading level0 col7\" >MCC</th>\n",
              "    </tr>\n",
              "  </thead>\n",
              "  <tbody>\n",
              "    <tr>\n",
              "      <th id=\"T_5b45a_level0_row0\" class=\"row_heading level0 row0\" >0</th>\n",
              "      <td id=\"T_5b45a_row0_col0\" class=\"data row0 col0\" >SVM - Linear Kernel</td>\n",
              "      <td id=\"T_5b45a_row0_col1\" class=\"data row0 col1\" >0.8021</td>\n",
              "      <td id=\"T_5b45a_row0_col2\" class=\"data row0 col2\" >0</td>\n",
              "      <td id=\"T_5b45a_row0_col3\" class=\"data row0 col3\" >0.8021</td>\n",
              "      <td id=\"T_5b45a_row0_col4\" class=\"data row0 col4\" >0.7772</td>\n",
              "      <td id=\"T_5b45a_row0_col5\" class=\"data row0 col5\" >0.7847</td>\n",
              "      <td id=\"T_5b45a_row0_col6\" class=\"data row0 col6\" >0.2759</td>\n",
              "      <td id=\"T_5b45a_row0_col7\" class=\"data row0 col7\" >0.2854</td>\n",
              "    </tr>\n",
              "  </tbody>\n",
              "</table>\n"
            ]
          },
          "metadata": {}
        },
        {
          "output_type": "display_data",
          "data": {
            "text/plain": [
              "<pandas.io.formats.style.Styler at 0x7ce5ebdbc8d0>"
            ],
            "text/html": [
              "<style type=\"text/css\">\n",
              "</style>\n",
              "<table id=\"T_bdcba\" class=\"dataframe\">\n",
              "  <thead>\n",
              "    <tr>\n",
              "      <th class=\"blank level0\" >&nbsp;</th>\n",
              "      <th id=\"T_bdcba_level0_col0\" class=\"col_heading level0 col0\" >Model</th>\n",
              "      <th id=\"T_bdcba_level0_col1\" class=\"col_heading level0 col1\" >Accuracy</th>\n",
              "      <th id=\"T_bdcba_level0_col2\" class=\"col_heading level0 col2\" >AUC</th>\n",
              "      <th id=\"T_bdcba_level0_col3\" class=\"col_heading level0 col3\" >Recall</th>\n",
              "      <th id=\"T_bdcba_level0_col4\" class=\"col_heading level0 col4\" >Prec.</th>\n",
              "      <th id=\"T_bdcba_level0_col5\" class=\"col_heading level0 col5\" >F1</th>\n",
              "      <th id=\"T_bdcba_level0_col6\" class=\"col_heading level0 col6\" >Kappa</th>\n",
              "      <th id=\"T_bdcba_level0_col7\" class=\"col_heading level0 col7\" >MCC</th>\n",
              "    </tr>\n",
              "  </thead>\n",
              "  <tbody>\n",
              "    <tr>\n",
              "      <th id=\"T_bdcba_level0_row0\" class=\"row_heading level0 row0\" >0</th>\n",
              "      <td id=\"T_bdcba_row0_col0\" class=\"data row0 col0\" >SVM - Linear Kernel</td>\n",
              "      <td id=\"T_bdcba_row0_col1\" class=\"data row0 col1\" >0.8021</td>\n",
              "      <td id=\"T_bdcba_row0_col2\" class=\"data row0 col2\" >0</td>\n",
              "      <td id=\"T_bdcba_row0_col3\" class=\"data row0 col3\" >0.8021</td>\n",
              "      <td id=\"T_bdcba_row0_col4\" class=\"data row0 col4\" >0.7772</td>\n",
              "      <td id=\"T_bdcba_row0_col5\" class=\"data row0 col5\" >0.7847</td>\n",
              "      <td id=\"T_bdcba_row0_col6\" class=\"data row0 col6\" >0.2759</td>\n",
              "      <td id=\"T_bdcba_row0_col7\" class=\"data row0 col7\" >0.2854</td>\n",
              "    </tr>\n",
              "  </tbody>\n",
              "</table>\n"
            ]
          },
          "metadata": {}
        },
        {
          "output_type": "display_data",
          "data": {
            "text/plain": [
              "<pandas.io.formats.style.Styler at 0x7ce5ebaf9c10>"
            ],
            "text/html": [
              "<style type=\"text/css\">\n",
              "</style>\n",
              "<table id=\"T_dca47\" class=\"dataframe\">\n",
              "  <thead>\n",
              "    <tr>\n",
              "      <th class=\"blank level0\" >&nbsp;</th>\n",
              "      <th id=\"T_dca47_level0_col0\" class=\"col_heading level0 col0\" >Model</th>\n",
              "      <th id=\"T_dca47_level0_col1\" class=\"col_heading level0 col1\" >Accuracy</th>\n",
              "      <th id=\"T_dca47_level0_col2\" class=\"col_heading level0 col2\" >AUC</th>\n",
              "      <th id=\"T_dca47_level0_col3\" class=\"col_heading level0 col3\" >Recall</th>\n",
              "      <th id=\"T_dca47_level0_col4\" class=\"col_heading level0 col4\" >Prec.</th>\n",
              "      <th id=\"T_dca47_level0_col5\" class=\"col_heading level0 col5\" >F1</th>\n",
              "      <th id=\"T_dca47_level0_col6\" class=\"col_heading level0 col6\" >Kappa</th>\n",
              "      <th id=\"T_dca47_level0_col7\" class=\"col_heading level0 col7\" >MCC</th>\n",
              "    </tr>\n",
              "  </thead>\n",
              "  <tbody>\n",
              "    <tr>\n",
              "      <th id=\"T_dca47_level0_row0\" class=\"row_heading level0 row0\" >0</th>\n",
              "      <td id=\"T_dca47_row0_col0\" class=\"data row0 col0\" >SVM - Linear Kernel</td>\n",
              "      <td id=\"T_dca47_row0_col1\" class=\"data row0 col1\" >0.8021</td>\n",
              "      <td id=\"T_dca47_row0_col2\" class=\"data row0 col2\" >0</td>\n",
              "      <td id=\"T_dca47_row0_col3\" class=\"data row0 col3\" >0.8021</td>\n",
              "      <td id=\"T_dca47_row0_col4\" class=\"data row0 col4\" >0.7772</td>\n",
              "      <td id=\"T_dca47_row0_col5\" class=\"data row0 col5\" >0.7847</td>\n",
              "      <td id=\"T_dca47_row0_col6\" class=\"data row0 col6\" >0.2759</td>\n",
              "      <td id=\"T_dca47_row0_col7\" class=\"data row0 col7\" >0.2854</td>\n",
              "    </tr>\n",
              "  </tbody>\n",
              "</table>\n"
            ]
          },
          "metadata": {}
        },
        {
          "output_type": "display_data",
          "data": {
            "text/plain": [
              "<pandas.io.formats.style.Styler at 0x7ce749c6dc50>"
            ],
            "text/html": [
              "<style type=\"text/css\">\n",
              "</style>\n",
              "<table id=\"T_9aae1\" class=\"dataframe\">\n",
              "  <thead>\n",
              "    <tr>\n",
              "      <th class=\"blank level0\" >&nbsp;</th>\n",
              "      <th id=\"T_9aae1_level0_col0\" class=\"col_heading level0 col0\" >Model</th>\n",
              "      <th id=\"T_9aae1_level0_col1\" class=\"col_heading level0 col1\" >Accuracy</th>\n",
              "      <th id=\"T_9aae1_level0_col2\" class=\"col_heading level0 col2\" >AUC</th>\n",
              "      <th id=\"T_9aae1_level0_col3\" class=\"col_heading level0 col3\" >Recall</th>\n",
              "      <th id=\"T_9aae1_level0_col4\" class=\"col_heading level0 col4\" >Prec.</th>\n",
              "      <th id=\"T_9aae1_level0_col5\" class=\"col_heading level0 col5\" >F1</th>\n",
              "      <th id=\"T_9aae1_level0_col6\" class=\"col_heading level0 col6\" >Kappa</th>\n",
              "      <th id=\"T_9aae1_level0_col7\" class=\"col_heading level0 col7\" >MCC</th>\n",
              "    </tr>\n",
              "  </thead>\n",
              "  <tbody>\n",
              "    <tr>\n",
              "      <th id=\"T_9aae1_level0_row0\" class=\"row_heading level0 row0\" >0</th>\n",
              "      <td id=\"T_9aae1_row0_col0\" class=\"data row0 col0\" >SVM - Linear Kernel</td>\n",
              "      <td id=\"T_9aae1_row0_col1\" class=\"data row0 col1\" >0.8021</td>\n",
              "      <td id=\"T_9aae1_row0_col2\" class=\"data row0 col2\" >0</td>\n",
              "      <td id=\"T_9aae1_row0_col3\" class=\"data row0 col3\" >0.8021</td>\n",
              "      <td id=\"T_9aae1_row0_col4\" class=\"data row0 col4\" >0.7772</td>\n",
              "      <td id=\"T_9aae1_row0_col5\" class=\"data row0 col5\" >0.7847</td>\n",
              "      <td id=\"T_9aae1_row0_col6\" class=\"data row0 col6\" >0.2759</td>\n",
              "      <td id=\"T_9aae1_row0_col7\" class=\"data row0 col7\" >0.2854</td>\n",
              "    </tr>\n",
              "  </tbody>\n",
              "</table>\n"
            ]
          },
          "metadata": {}
        },
        {
          "output_type": "display_data",
          "data": {
            "text/plain": [
              "<pandas.io.formats.style.Styler at 0x7ce60063dbd0>"
            ],
            "text/html": [
              "<style type=\"text/css\">\n",
              "</style>\n",
              "<table id=\"T_d1d22\" class=\"dataframe\">\n",
              "  <thead>\n",
              "    <tr>\n",
              "      <th class=\"blank level0\" >&nbsp;</th>\n",
              "      <th id=\"T_d1d22_level0_col0\" class=\"col_heading level0 col0\" >Model</th>\n",
              "      <th id=\"T_d1d22_level0_col1\" class=\"col_heading level0 col1\" >Accuracy</th>\n",
              "      <th id=\"T_d1d22_level0_col2\" class=\"col_heading level0 col2\" >AUC</th>\n",
              "      <th id=\"T_d1d22_level0_col3\" class=\"col_heading level0 col3\" >Recall</th>\n",
              "      <th id=\"T_d1d22_level0_col4\" class=\"col_heading level0 col4\" >Prec.</th>\n",
              "      <th id=\"T_d1d22_level0_col5\" class=\"col_heading level0 col5\" >F1</th>\n",
              "      <th id=\"T_d1d22_level0_col6\" class=\"col_heading level0 col6\" >Kappa</th>\n",
              "      <th id=\"T_d1d22_level0_col7\" class=\"col_heading level0 col7\" >MCC</th>\n",
              "    </tr>\n",
              "  </thead>\n",
              "  <tbody>\n",
              "    <tr>\n",
              "      <th id=\"T_d1d22_level0_row0\" class=\"row_heading level0 row0\" >0</th>\n",
              "      <td id=\"T_d1d22_row0_col0\" class=\"data row0 col0\" >SVM - Linear Kernel</td>\n",
              "      <td id=\"T_d1d22_row0_col1\" class=\"data row0 col1\" >0.8021</td>\n",
              "      <td id=\"T_d1d22_row0_col2\" class=\"data row0 col2\" >0</td>\n",
              "      <td id=\"T_d1d22_row0_col3\" class=\"data row0 col3\" >0.8021</td>\n",
              "      <td id=\"T_d1d22_row0_col4\" class=\"data row0 col4\" >0.7772</td>\n",
              "      <td id=\"T_d1d22_row0_col5\" class=\"data row0 col5\" >0.7847</td>\n",
              "      <td id=\"T_d1d22_row0_col6\" class=\"data row0 col6\" >0.2759</td>\n",
              "      <td id=\"T_d1d22_row0_col7\" class=\"data row0 col7\" >0.2854</td>\n",
              "    </tr>\n",
              "  </tbody>\n",
              "</table>\n"
            ]
          },
          "metadata": {}
        },
        {
          "output_type": "display_data",
          "data": {
            "text/plain": [
              "<pandas.io.formats.style.Styler at 0x7ce5ebdbc8d0>"
            ],
            "text/html": [
              "<style type=\"text/css\">\n",
              "</style>\n",
              "<table id=\"T_3e93b\" class=\"dataframe\">\n",
              "  <thead>\n",
              "    <tr>\n",
              "      <th class=\"blank level0\" >&nbsp;</th>\n",
              "      <th id=\"T_3e93b_level0_col0\" class=\"col_heading level0 col0\" >Model</th>\n",
              "      <th id=\"T_3e93b_level0_col1\" class=\"col_heading level0 col1\" >Accuracy</th>\n",
              "      <th id=\"T_3e93b_level0_col2\" class=\"col_heading level0 col2\" >AUC</th>\n",
              "      <th id=\"T_3e93b_level0_col3\" class=\"col_heading level0 col3\" >Recall</th>\n",
              "      <th id=\"T_3e93b_level0_col4\" class=\"col_heading level0 col4\" >Prec.</th>\n",
              "      <th id=\"T_3e93b_level0_col5\" class=\"col_heading level0 col5\" >F1</th>\n",
              "      <th id=\"T_3e93b_level0_col6\" class=\"col_heading level0 col6\" >Kappa</th>\n",
              "      <th id=\"T_3e93b_level0_col7\" class=\"col_heading level0 col7\" >MCC</th>\n",
              "    </tr>\n",
              "  </thead>\n",
              "  <tbody>\n",
              "    <tr>\n",
              "      <th id=\"T_3e93b_level0_row0\" class=\"row_heading level0 row0\" >0</th>\n",
              "      <td id=\"T_3e93b_row0_col0\" class=\"data row0 col0\" >SVM - Linear Kernel</td>\n",
              "      <td id=\"T_3e93b_row0_col1\" class=\"data row0 col1\" >0.8021</td>\n",
              "      <td id=\"T_3e93b_row0_col2\" class=\"data row0 col2\" >0</td>\n",
              "      <td id=\"T_3e93b_row0_col3\" class=\"data row0 col3\" >0.8021</td>\n",
              "      <td id=\"T_3e93b_row0_col4\" class=\"data row0 col4\" >0.7772</td>\n",
              "      <td id=\"T_3e93b_row0_col5\" class=\"data row0 col5\" >0.7847</td>\n",
              "      <td id=\"T_3e93b_row0_col6\" class=\"data row0 col6\" >0.2759</td>\n",
              "      <td id=\"T_3e93b_row0_col7\" class=\"data row0 col7\" >0.2854</td>\n",
              "    </tr>\n",
              "  </tbody>\n",
              "</table>\n"
            ]
          },
          "metadata": {}
        },
        {
          "output_type": "display_data",
          "data": {
            "text/plain": [
              "<pandas.io.formats.style.Styler at 0x7ce600347590>"
            ],
            "text/html": [
              "<style type=\"text/css\">\n",
              "</style>\n",
              "<table id=\"T_95f26\" class=\"dataframe\">\n",
              "  <thead>\n",
              "    <tr>\n",
              "      <th class=\"blank level0\" >&nbsp;</th>\n",
              "      <th id=\"T_95f26_level0_col0\" class=\"col_heading level0 col0\" >Model</th>\n",
              "      <th id=\"T_95f26_level0_col1\" class=\"col_heading level0 col1\" >Accuracy</th>\n",
              "      <th id=\"T_95f26_level0_col2\" class=\"col_heading level0 col2\" >AUC</th>\n",
              "      <th id=\"T_95f26_level0_col3\" class=\"col_heading level0 col3\" >Recall</th>\n",
              "      <th id=\"T_95f26_level0_col4\" class=\"col_heading level0 col4\" >Prec.</th>\n",
              "      <th id=\"T_95f26_level0_col5\" class=\"col_heading level0 col5\" >F1</th>\n",
              "      <th id=\"T_95f26_level0_col6\" class=\"col_heading level0 col6\" >Kappa</th>\n",
              "      <th id=\"T_95f26_level0_col7\" class=\"col_heading level0 col7\" >MCC</th>\n",
              "    </tr>\n",
              "  </thead>\n",
              "  <tbody>\n",
              "    <tr>\n",
              "      <th id=\"T_95f26_level0_row0\" class=\"row_heading level0 row0\" >0</th>\n",
              "      <td id=\"T_95f26_row0_col0\" class=\"data row0 col0\" >SVM - Linear Kernel</td>\n",
              "      <td id=\"T_95f26_row0_col1\" class=\"data row0 col1\" >0.8021</td>\n",
              "      <td id=\"T_95f26_row0_col2\" class=\"data row0 col2\" >0</td>\n",
              "      <td id=\"T_95f26_row0_col3\" class=\"data row0 col3\" >0.8021</td>\n",
              "      <td id=\"T_95f26_row0_col4\" class=\"data row0 col4\" >0.7772</td>\n",
              "      <td id=\"T_95f26_row0_col5\" class=\"data row0 col5\" >0.7847</td>\n",
              "      <td id=\"T_95f26_row0_col6\" class=\"data row0 col6\" >0.2759</td>\n",
              "      <td id=\"T_95f26_row0_col7\" class=\"data row0 col7\" >0.2854</td>\n",
              "    </tr>\n",
              "  </tbody>\n",
              "</table>\n"
            ]
          },
          "metadata": {}
        },
        {
          "output_type": "display_data",
          "data": {
            "text/plain": [
              "<pandas.io.formats.style.Styler at 0x7ce5eb9ce690>"
            ],
            "text/html": [
              "<style type=\"text/css\">\n",
              "</style>\n",
              "<table id=\"T_7f8a8\" class=\"dataframe\">\n",
              "  <thead>\n",
              "    <tr>\n",
              "      <th class=\"blank level0\" >&nbsp;</th>\n",
              "      <th id=\"T_7f8a8_level0_col0\" class=\"col_heading level0 col0\" >Model</th>\n",
              "      <th id=\"T_7f8a8_level0_col1\" class=\"col_heading level0 col1\" >Accuracy</th>\n",
              "      <th id=\"T_7f8a8_level0_col2\" class=\"col_heading level0 col2\" >AUC</th>\n",
              "      <th id=\"T_7f8a8_level0_col3\" class=\"col_heading level0 col3\" >Recall</th>\n",
              "      <th id=\"T_7f8a8_level0_col4\" class=\"col_heading level0 col4\" >Prec.</th>\n",
              "      <th id=\"T_7f8a8_level0_col5\" class=\"col_heading level0 col5\" >F1</th>\n",
              "      <th id=\"T_7f8a8_level0_col6\" class=\"col_heading level0 col6\" >Kappa</th>\n",
              "      <th id=\"T_7f8a8_level0_col7\" class=\"col_heading level0 col7\" >MCC</th>\n",
              "    </tr>\n",
              "  </thead>\n",
              "  <tbody>\n",
              "    <tr>\n",
              "      <th id=\"T_7f8a8_level0_row0\" class=\"row_heading level0 row0\" >0</th>\n",
              "      <td id=\"T_7f8a8_row0_col0\" class=\"data row0 col0\" >SVM - Linear Kernel</td>\n",
              "      <td id=\"T_7f8a8_row0_col1\" class=\"data row0 col1\" >0.8021</td>\n",
              "      <td id=\"T_7f8a8_row0_col2\" class=\"data row0 col2\" >0</td>\n",
              "      <td id=\"T_7f8a8_row0_col3\" class=\"data row0 col3\" >0.8021</td>\n",
              "      <td id=\"T_7f8a8_row0_col4\" class=\"data row0 col4\" >0.7772</td>\n",
              "      <td id=\"T_7f8a8_row0_col5\" class=\"data row0 col5\" >0.7847</td>\n",
              "      <td id=\"T_7f8a8_row0_col6\" class=\"data row0 col6\" >0.2759</td>\n",
              "      <td id=\"T_7f8a8_row0_col7\" class=\"data row0 col7\" >0.2854</td>\n",
              "    </tr>\n",
              "  </tbody>\n",
              "</table>\n"
            ]
          },
          "metadata": {}
        },
        {
          "output_type": "display_data",
          "data": {
            "text/plain": [
              "<pandas.io.formats.style.Styler at 0x7ce5ebc6de10>"
            ],
            "text/html": [
              "<style type=\"text/css\">\n",
              "</style>\n",
              "<table id=\"T_ee8f0\" class=\"dataframe\">\n",
              "  <thead>\n",
              "    <tr>\n",
              "      <th class=\"blank level0\" >&nbsp;</th>\n",
              "      <th id=\"T_ee8f0_level0_col0\" class=\"col_heading level0 col0\" >Model</th>\n",
              "      <th id=\"T_ee8f0_level0_col1\" class=\"col_heading level0 col1\" >Accuracy</th>\n",
              "      <th id=\"T_ee8f0_level0_col2\" class=\"col_heading level0 col2\" >AUC</th>\n",
              "      <th id=\"T_ee8f0_level0_col3\" class=\"col_heading level0 col3\" >Recall</th>\n",
              "      <th id=\"T_ee8f0_level0_col4\" class=\"col_heading level0 col4\" >Prec.</th>\n",
              "      <th id=\"T_ee8f0_level0_col5\" class=\"col_heading level0 col5\" >F1</th>\n",
              "      <th id=\"T_ee8f0_level0_col6\" class=\"col_heading level0 col6\" >Kappa</th>\n",
              "      <th id=\"T_ee8f0_level0_col7\" class=\"col_heading level0 col7\" >MCC</th>\n",
              "    </tr>\n",
              "  </thead>\n",
              "  <tbody>\n",
              "    <tr>\n",
              "      <th id=\"T_ee8f0_level0_row0\" class=\"row_heading level0 row0\" >0</th>\n",
              "      <td id=\"T_ee8f0_row0_col0\" class=\"data row0 col0\" >SVM - Linear Kernel</td>\n",
              "      <td id=\"T_ee8f0_row0_col1\" class=\"data row0 col1\" >0.8021</td>\n",
              "      <td id=\"T_ee8f0_row0_col2\" class=\"data row0 col2\" >0</td>\n",
              "      <td id=\"T_ee8f0_row0_col3\" class=\"data row0 col3\" >0.8021</td>\n",
              "      <td id=\"T_ee8f0_row0_col4\" class=\"data row0 col4\" >0.7772</td>\n",
              "      <td id=\"T_ee8f0_row0_col5\" class=\"data row0 col5\" >0.7847</td>\n",
              "      <td id=\"T_ee8f0_row0_col6\" class=\"data row0 col6\" >0.2759</td>\n",
              "      <td id=\"T_ee8f0_row0_col7\" class=\"data row0 col7\" >0.2854</td>\n",
              "    </tr>\n",
              "  </tbody>\n",
              "</table>\n"
            ]
          },
          "metadata": {}
        },
        {
          "output_type": "stream",
          "name": "stdout",
          "text": [
            "\n",
            "==================================================\n",
            "Processing Sample #9\n",
            "==================================================\n"
          ]
        },
        {
          "output_type": "display_data",
          "data": {
            "text/plain": [
              "<pandas.io.formats.style.Styler at 0x7ce600217190>"
            ],
            "text/html": [
              "<style type=\"text/css\">\n",
              "</style>\n",
              "<table id=\"T_73769\" class=\"dataframe\">\n",
              "  <thead>\n",
              "    <tr>\n",
              "      <th class=\"blank level0\" >&nbsp;</th>\n",
              "      <th id=\"T_73769_level0_col0\" class=\"col_heading level0 col0\" >Model</th>\n",
              "      <th id=\"T_73769_level0_col1\" class=\"col_heading level0 col1\" >Accuracy</th>\n",
              "      <th id=\"T_73769_level0_col2\" class=\"col_heading level0 col2\" >AUC</th>\n",
              "      <th id=\"T_73769_level0_col3\" class=\"col_heading level0 col3\" >Recall</th>\n",
              "      <th id=\"T_73769_level0_col4\" class=\"col_heading level0 col4\" >Prec.</th>\n",
              "      <th id=\"T_73769_level0_col5\" class=\"col_heading level0 col5\" >F1</th>\n",
              "      <th id=\"T_73769_level0_col6\" class=\"col_heading level0 col6\" >Kappa</th>\n",
              "      <th id=\"T_73769_level0_col7\" class=\"col_heading level0 col7\" >MCC</th>\n",
              "    </tr>\n",
              "  </thead>\n",
              "  <tbody>\n",
              "    <tr>\n",
              "      <th id=\"T_73769_level0_row0\" class=\"row_heading level0 row0\" >0</th>\n",
              "      <td id=\"T_73769_row0_col0\" class=\"data row0 col0\" >SVM - Linear Kernel</td>\n",
              "      <td id=\"T_73769_row0_col1\" class=\"data row0 col1\" >0.8036</td>\n",
              "      <td id=\"T_73769_row0_col2\" class=\"data row0 col2\" >0</td>\n",
              "      <td id=\"T_73769_row0_col3\" class=\"data row0 col3\" >0.8036</td>\n",
              "      <td id=\"T_73769_row0_col4\" class=\"data row0 col4\" >0.6458</td>\n",
              "      <td id=\"T_73769_row0_col5\" class=\"data row0 col5\" >0.7161</td>\n",
              "      <td id=\"T_73769_row0_col6\" class=\"data row0 col6\" >0.0000</td>\n",
              "      <td id=\"T_73769_row0_col7\" class=\"data row0 col7\" >0.0000</td>\n",
              "    </tr>\n",
              "  </tbody>\n",
              "</table>\n"
            ]
          },
          "metadata": {}
        },
        {
          "output_type": "display_data",
          "data": {
            "text/plain": [
              "<pandas.io.formats.style.Styler at 0x7ce749b80790>"
            ],
            "text/html": [
              "<style type=\"text/css\">\n",
              "</style>\n",
              "<table id=\"T_975ce\" class=\"dataframe\">\n",
              "  <thead>\n",
              "    <tr>\n",
              "      <th class=\"blank level0\" >&nbsp;</th>\n",
              "      <th id=\"T_975ce_level0_col0\" class=\"col_heading level0 col0\" >Model</th>\n",
              "      <th id=\"T_975ce_level0_col1\" class=\"col_heading level0 col1\" >Accuracy</th>\n",
              "      <th id=\"T_975ce_level0_col2\" class=\"col_heading level0 col2\" >AUC</th>\n",
              "      <th id=\"T_975ce_level0_col3\" class=\"col_heading level0 col3\" >Recall</th>\n",
              "      <th id=\"T_975ce_level0_col4\" class=\"col_heading level0 col4\" >Prec.</th>\n",
              "      <th id=\"T_975ce_level0_col5\" class=\"col_heading level0 col5\" >F1</th>\n",
              "      <th id=\"T_975ce_level0_col6\" class=\"col_heading level0 col6\" >Kappa</th>\n",
              "      <th id=\"T_975ce_level0_col7\" class=\"col_heading level0 col7\" >MCC</th>\n",
              "    </tr>\n",
              "  </thead>\n",
              "  <tbody>\n",
              "    <tr>\n",
              "      <th id=\"T_975ce_level0_row0\" class=\"row_heading level0 row0\" >0</th>\n",
              "      <td id=\"T_975ce_row0_col0\" class=\"data row0 col0\" >SVM - Linear Kernel</td>\n",
              "      <td id=\"T_975ce_row0_col1\" class=\"data row0 col1\" >0.8036</td>\n",
              "      <td id=\"T_975ce_row0_col2\" class=\"data row0 col2\" >0</td>\n",
              "      <td id=\"T_975ce_row0_col3\" class=\"data row0 col3\" >0.8036</td>\n",
              "      <td id=\"T_975ce_row0_col4\" class=\"data row0 col4\" >0.6458</td>\n",
              "      <td id=\"T_975ce_row0_col5\" class=\"data row0 col5\" >0.7161</td>\n",
              "      <td id=\"T_975ce_row0_col6\" class=\"data row0 col6\" >0.0000</td>\n",
              "      <td id=\"T_975ce_row0_col7\" class=\"data row0 col7\" >0.0000</td>\n",
              "    </tr>\n",
              "  </tbody>\n",
              "</table>\n"
            ]
          },
          "metadata": {}
        },
        {
          "output_type": "display_data",
          "data": {
            "text/plain": [
              "<pandas.io.formats.style.Styler at 0x7ce6003b1810>"
            ],
            "text/html": [
              "<style type=\"text/css\">\n",
              "</style>\n",
              "<table id=\"T_5a493\" class=\"dataframe\">\n",
              "  <thead>\n",
              "    <tr>\n",
              "      <th class=\"blank level0\" >&nbsp;</th>\n",
              "      <th id=\"T_5a493_level0_col0\" class=\"col_heading level0 col0\" >Model</th>\n",
              "      <th id=\"T_5a493_level0_col1\" class=\"col_heading level0 col1\" >Accuracy</th>\n",
              "      <th id=\"T_5a493_level0_col2\" class=\"col_heading level0 col2\" >AUC</th>\n",
              "      <th id=\"T_5a493_level0_col3\" class=\"col_heading level0 col3\" >Recall</th>\n",
              "      <th id=\"T_5a493_level0_col4\" class=\"col_heading level0 col4\" >Prec.</th>\n",
              "      <th id=\"T_5a493_level0_col5\" class=\"col_heading level0 col5\" >F1</th>\n",
              "      <th id=\"T_5a493_level0_col6\" class=\"col_heading level0 col6\" >Kappa</th>\n",
              "      <th id=\"T_5a493_level0_col7\" class=\"col_heading level0 col7\" >MCC</th>\n",
              "    </tr>\n",
              "  </thead>\n",
              "  <tbody>\n",
              "    <tr>\n",
              "      <th id=\"T_5a493_level0_row0\" class=\"row_heading level0 row0\" >0</th>\n",
              "      <td id=\"T_5a493_row0_col0\" class=\"data row0 col0\" >SVM - Linear Kernel</td>\n",
              "      <td id=\"T_5a493_row0_col1\" class=\"data row0 col1\" >0.8036</td>\n",
              "      <td id=\"T_5a493_row0_col2\" class=\"data row0 col2\" >0</td>\n",
              "      <td id=\"T_5a493_row0_col3\" class=\"data row0 col3\" >0.8036</td>\n",
              "      <td id=\"T_5a493_row0_col4\" class=\"data row0 col4\" >0.6458</td>\n",
              "      <td id=\"T_5a493_row0_col5\" class=\"data row0 col5\" >0.7161</td>\n",
              "      <td id=\"T_5a493_row0_col6\" class=\"data row0 col6\" >0.0000</td>\n",
              "      <td id=\"T_5a493_row0_col7\" class=\"data row0 col7\" >0.0000</td>\n",
              "    </tr>\n",
              "  </tbody>\n",
              "</table>\n"
            ]
          },
          "metadata": {}
        },
        {
          "output_type": "display_data",
          "data": {
            "text/plain": [
              "<pandas.io.formats.style.Styler at 0x7ce749c63b90>"
            ],
            "text/html": [
              "<style type=\"text/css\">\n",
              "</style>\n",
              "<table id=\"T_3f52e\" class=\"dataframe\">\n",
              "  <thead>\n",
              "    <tr>\n",
              "      <th class=\"blank level0\" >&nbsp;</th>\n",
              "      <th id=\"T_3f52e_level0_col0\" class=\"col_heading level0 col0\" >Model</th>\n",
              "      <th id=\"T_3f52e_level0_col1\" class=\"col_heading level0 col1\" >Accuracy</th>\n",
              "      <th id=\"T_3f52e_level0_col2\" class=\"col_heading level0 col2\" >AUC</th>\n",
              "      <th id=\"T_3f52e_level0_col3\" class=\"col_heading level0 col3\" >Recall</th>\n",
              "      <th id=\"T_3f52e_level0_col4\" class=\"col_heading level0 col4\" >Prec.</th>\n",
              "      <th id=\"T_3f52e_level0_col5\" class=\"col_heading level0 col5\" >F1</th>\n",
              "      <th id=\"T_3f52e_level0_col6\" class=\"col_heading level0 col6\" >Kappa</th>\n",
              "      <th id=\"T_3f52e_level0_col7\" class=\"col_heading level0 col7\" >MCC</th>\n",
              "    </tr>\n",
              "  </thead>\n",
              "  <tbody>\n",
              "    <tr>\n",
              "      <th id=\"T_3f52e_level0_row0\" class=\"row_heading level0 row0\" >0</th>\n",
              "      <td id=\"T_3f52e_row0_col0\" class=\"data row0 col0\" >SVM - Linear Kernel</td>\n",
              "      <td id=\"T_3f52e_row0_col1\" class=\"data row0 col1\" >0.8036</td>\n",
              "      <td id=\"T_3f52e_row0_col2\" class=\"data row0 col2\" >0</td>\n",
              "      <td id=\"T_3f52e_row0_col3\" class=\"data row0 col3\" >0.8036</td>\n",
              "      <td id=\"T_3f52e_row0_col4\" class=\"data row0 col4\" >0.6458</td>\n",
              "      <td id=\"T_3f52e_row0_col5\" class=\"data row0 col5\" >0.7161</td>\n",
              "      <td id=\"T_3f52e_row0_col6\" class=\"data row0 col6\" >0.0000</td>\n",
              "      <td id=\"T_3f52e_row0_col7\" class=\"data row0 col7\" >0.0000</td>\n",
              "    </tr>\n",
              "  </tbody>\n",
              "</table>\n"
            ]
          },
          "metadata": {}
        },
        {
          "output_type": "display_data",
          "data": {
            "text/plain": [
              "<pandas.io.formats.style.Styler at 0x7ce600225210>"
            ],
            "text/html": [
              "<style type=\"text/css\">\n",
              "</style>\n",
              "<table id=\"T_569e9\" class=\"dataframe\">\n",
              "  <thead>\n",
              "    <tr>\n",
              "      <th class=\"blank level0\" >&nbsp;</th>\n",
              "      <th id=\"T_569e9_level0_col0\" class=\"col_heading level0 col0\" >Model</th>\n",
              "      <th id=\"T_569e9_level0_col1\" class=\"col_heading level0 col1\" >Accuracy</th>\n",
              "      <th id=\"T_569e9_level0_col2\" class=\"col_heading level0 col2\" >AUC</th>\n",
              "      <th id=\"T_569e9_level0_col3\" class=\"col_heading level0 col3\" >Recall</th>\n",
              "      <th id=\"T_569e9_level0_col4\" class=\"col_heading level0 col4\" >Prec.</th>\n",
              "      <th id=\"T_569e9_level0_col5\" class=\"col_heading level0 col5\" >F1</th>\n",
              "      <th id=\"T_569e9_level0_col6\" class=\"col_heading level0 col6\" >Kappa</th>\n",
              "      <th id=\"T_569e9_level0_col7\" class=\"col_heading level0 col7\" >MCC</th>\n",
              "    </tr>\n",
              "  </thead>\n",
              "  <tbody>\n",
              "    <tr>\n",
              "      <th id=\"T_569e9_level0_row0\" class=\"row_heading level0 row0\" >0</th>\n",
              "      <td id=\"T_569e9_row0_col0\" class=\"data row0 col0\" >SVM - Linear Kernel</td>\n",
              "      <td id=\"T_569e9_row0_col1\" class=\"data row0 col1\" >0.8036</td>\n",
              "      <td id=\"T_569e9_row0_col2\" class=\"data row0 col2\" >0</td>\n",
              "      <td id=\"T_569e9_row0_col3\" class=\"data row0 col3\" >0.8036</td>\n",
              "      <td id=\"T_569e9_row0_col4\" class=\"data row0 col4\" >0.6458</td>\n",
              "      <td id=\"T_569e9_row0_col5\" class=\"data row0 col5\" >0.7161</td>\n",
              "      <td id=\"T_569e9_row0_col6\" class=\"data row0 col6\" >0.0000</td>\n",
              "      <td id=\"T_569e9_row0_col7\" class=\"data row0 col7\" >0.0000</td>\n",
              "    </tr>\n",
              "  </tbody>\n",
              "</table>\n"
            ]
          },
          "metadata": {}
        },
        {
          "output_type": "display_data",
          "data": {
            "text/plain": [
              "<pandas.io.formats.style.Styler at 0x7ce749e1b150>"
            ],
            "text/html": [
              "<style type=\"text/css\">\n",
              "</style>\n",
              "<table id=\"T_0ddd0\" class=\"dataframe\">\n",
              "  <thead>\n",
              "    <tr>\n",
              "      <th class=\"blank level0\" >&nbsp;</th>\n",
              "      <th id=\"T_0ddd0_level0_col0\" class=\"col_heading level0 col0\" >Model</th>\n",
              "      <th id=\"T_0ddd0_level0_col1\" class=\"col_heading level0 col1\" >Accuracy</th>\n",
              "      <th id=\"T_0ddd0_level0_col2\" class=\"col_heading level0 col2\" >AUC</th>\n",
              "      <th id=\"T_0ddd0_level0_col3\" class=\"col_heading level0 col3\" >Recall</th>\n",
              "      <th id=\"T_0ddd0_level0_col4\" class=\"col_heading level0 col4\" >Prec.</th>\n",
              "      <th id=\"T_0ddd0_level0_col5\" class=\"col_heading level0 col5\" >F1</th>\n",
              "      <th id=\"T_0ddd0_level0_col6\" class=\"col_heading level0 col6\" >Kappa</th>\n",
              "      <th id=\"T_0ddd0_level0_col7\" class=\"col_heading level0 col7\" >MCC</th>\n",
              "    </tr>\n",
              "  </thead>\n",
              "  <tbody>\n",
              "    <tr>\n",
              "      <th id=\"T_0ddd0_level0_row0\" class=\"row_heading level0 row0\" >0</th>\n",
              "      <td id=\"T_0ddd0_row0_col0\" class=\"data row0 col0\" >SVM - Linear Kernel</td>\n",
              "      <td id=\"T_0ddd0_row0_col1\" class=\"data row0 col1\" >0.8036</td>\n",
              "      <td id=\"T_0ddd0_row0_col2\" class=\"data row0 col2\" >0</td>\n",
              "      <td id=\"T_0ddd0_row0_col3\" class=\"data row0 col3\" >0.8036</td>\n",
              "      <td id=\"T_0ddd0_row0_col4\" class=\"data row0 col4\" >0.6458</td>\n",
              "      <td id=\"T_0ddd0_row0_col5\" class=\"data row0 col5\" >0.7161</td>\n",
              "      <td id=\"T_0ddd0_row0_col6\" class=\"data row0 col6\" >0.0000</td>\n",
              "      <td id=\"T_0ddd0_row0_col7\" class=\"data row0 col7\" >0.0000</td>\n",
              "    </tr>\n",
              "  </tbody>\n",
              "</table>\n"
            ]
          },
          "metadata": {}
        },
        {
          "output_type": "display_data",
          "data": {
            "text/plain": [
              "<pandas.io.formats.style.Styler at 0x7ce749fd69d0>"
            ],
            "text/html": [
              "<style type=\"text/css\">\n",
              "</style>\n",
              "<table id=\"T_d6f2b\" class=\"dataframe\">\n",
              "  <thead>\n",
              "    <tr>\n",
              "      <th class=\"blank level0\" >&nbsp;</th>\n",
              "      <th id=\"T_d6f2b_level0_col0\" class=\"col_heading level0 col0\" >Model</th>\n",
              "      <th id=\"T_d6f2b_level0_col1\" class=\"col_heading level0 col1\" >Accuracy</th>\n",
              "      <th id=\"T_d6f2b_level0_col2\" class=\"col_heading level0 col2\" >AUC</th>\n",
              "      <th id=\"T_d6f2b_level0_col3\" class=\"col_heading level0 col3\" >Recall</th>\n",
              "      <th id=\"T_d6f2b_level0_col4\" class=\"col_heading level0 col4\" >Prec.</th>\n",
              "      <th id=\"T_d6f2b_level0_col5\" class=\"col_heading level0 col5\" >F1</th>\n",
              "      <th id=\"T_d6f2b_level0_col6\" class=\"col_heading level0 col6\" >Kappa</th>\n",
              "      <th id=\"T_d6f2b_level0_col7\" class=\"col_heading level0 col7\" >MCC</th>\n",
              "    </tr>\n",
              "  </thead>\n",
              "  <tbody>\n",
              "    <tr>\n",
              "      <th id=\"T_d6f2b_level0_row0\" class=\"row_heading level0 row0\" >0</th>\n",
              "      <td id=\"T_d6f2b_row0_col0\" class=\"data row0 col0\" >SVM - Linear Kernel</td>\n",
              "      <td id=\"T_d6f2b_row0_col1\" class=\"data row0 col1\" >0.8036</td>\n",
              "      <td id=\"T_d6f2b_row0_col2\" class=\"data row0 col2\" >0</td>\n",
              "      <td id=\"T_d6f2b_row0_col3\" class=\"data row0 col3\" >0.8036</td>\n",
              "      <td id=\"T_d6f2b_row0_col4\" class=\"data row0 col4\" >0.6458</td>\n",
              "      <td id=\"T_d6f2b_row0_col5\" class=\"data row0 col5\" >0.7161</td>\n",
              "      <td id=\"T_d6f2b_row0_col6\" class=\"data row0 col6\" >0.0000</td>\n",
              "      <td id=\"T_d6f2b_row0_col7\" class=\"data row0 col7\" >0.0000</td>\n",
              "    </tr>\n",
              "  </tbody>\n",
              "</table>\n"
            ]
          },
          "metadata": {}
        },
        {
          "output_type": "display_data",
          "data": {
            "text/plain": [
              "<pandas.io.formats.style.Styler at 0x7ce749c16c50>"
            ],
            "text/html": [
              "<style type=\"text/css\">\n",
              "</style>\n",
              "<table id=\"T_09c8f\" class=\"dataframe\">\n",
              "  <thead>\n",
              "    <tr>\n",
              "      <th class=\"blank level0\" >&nbsp;</th>\n",
              "      <th id=\"T_09c8f_level0_col0\" class=\"col_heading level0 col0\" >Model</th>\n",
              "      <th id=\"T_09c8f_level0_col1\" class=\"col_heading level0 col1\" >Accuracy</th>\n",
              "      <th id=\"T_09c8f_level0_col2\" class=\"col_heading level0 col2\" >AUC</th>\n",
              "      <th id=\"T_09c8f_level0_col3\" class=\"col_heading level0 col3\" >Recall</th>\n",
              "      <th id=\"T_09c8f_level0_col4\" class=\"col_heading level0 col4\" >Prec.</th>\n",
              "      <th id=\"T_09c8f_level0_col5\" class=\"col_heading level0 col5\" >F1</th>\n",
              "      <th id=\"T_09c8f_level0_col6\" class=\"col_heading level0 col6\" >Kappa</th>\n",
              "      <th id=\"T_09c8f_level0_col7\" class=\"col_heading level0 col7\" >MCC</th>\n",
              "    </tr>\n",
              "  </thead>\n",
              "  <tbody>\n",
              "    <tr>\n",
              "      <th id=\"T_09c8f_level0_row0\" class=\"row_heading level0 row0\" >0</th>\n",
              "      <td id=\"T_09c8f_row0_col0\" class=\"data row0 col0\" >SVM - Linear Kernel</td>\n",
              "      <td id=\"T_09c8f_row0_col1\" class=\"data row0 col1\" >0.8036</td>\n",
              "      <td id=\"T_09c8f_row0_col2\" class=\"data row0 col2\" >0</td>\n",
              "      <td id=\"T_09c8f_row0_col3\" class=\"data row0 col3\" >0.8036</td>\n",
              "      <td id=\"T_09c8f_row0_col4\" class=\"data row0 col4\" >0.6458</td>\n",
              "      <td id=\"T_09c8f_row0_col5\" class=\"data row0 col5\" >0.7161</td>\n",
              "      <td id=\"T_09c8f_row0_col6\" class=\"data row0 col6\" >0.0000</td>\n",
              "      <td id=\"T_09c8f_row0_col7\" class=\"data row0 col7\" >0.0000</td>\n",
              "    </tr>\n",
              "  </tbody>\n",
              "</table>\n"
            ]
          },
          "metadata": {}
        },
        {
          "output_type": "display_data",
          "data": {
            "text/plain": [
              "<pandas.io.formats.style.Styler at 0x7ce749ce0a10>"
            ],
            "text/html": [
              "<style type=\"text/css\">\n",
              "</style>\n",
              "<table id=\"T_3c624\" class=\"dataframe\">\n",
              "  <thead>\n",
              "    <tr>\n",
              "      <th class=\"blank level0\" >&nbsp;</th>\n",
              "      <th id=\"T_3c624_level0_col0\" class=\"col_heading level0 col0\" >Model</th>\n",
              "      <th id=\"T_3c624_level0_col1\" class=\"col_heading level0 col1\" >Accuracy</th>\n",
              "      <th id=\"T_3c624_level0_col2\" class=\"col_heading level0 col2\" >AUC</th>\n",
              "      <th id=\"T_3c624_level0_col3\" class=\"col_heading level0 col3\" >Recall</th>\n",
              "      <th id=\"T_3c624_level0_col4\" class=\"col_heading level0 col4\" >Prec.</th>\n",
              "      <th id=\"T_3c624_level0_col5\" class=\"col_heading level0 col5\" >F1</th>\n",
              "      <th id=\"T_3c624_level0_col6\" class=\"col_heading level0 col6\" >Kappa</th>\n",
              "      <th id=\"T_3c624_level0_col7\" class=\"col_heading level0 col7\" >MCC</th>\n",
              "    </tr>\n",
              "  </thead>\n",
              "  <tbody>\n",
              "    <tr>\n",
              "      <th id=\"T_3c624_level0_row0\" class=\"row_heading level0 row0\" >0</th>\n",
              "      <td id=\"T_3c624_row0_col0\" class=\"data row0 col0\" >SVM - Linear Kernel</td>\n",
              "      <td id=\"T_3c624_row0_col1\" class=\"data row0 col1\" >0.8036</td>\n",
              "      <td id=\"T_3c624_row0_col2\" class=\"data row0 col2\" >0</td>\n",
              "      <td id=\"T_3c624_row0_col3\" class=\"data row0 col3\" >0.8036</td>\n",
              "      <td id=\"T_3c624_row0_col4\" class=\"data row0 col4\" >0.6458</td>\n",
              "      <td id=\"T_3c624_row0_col5\" class=\"data row0 col5\" >0.7161</td>\n",
              "      <td id=\"T_3c624_row0_col6\" class=\"data row0 col6\" >0.0000</td>\n",
              "      <td id=\"T_3c624_row0_col7\" class=\"data row0 col7\" >0.0000</td>\n",
              "    </tr>\n",
              "  </tbody>\n",
              "</table>\n"
            ]
          },
          "metadata": {}
        },
        {
          "output_type": "display_data",
          "data": {
            "text/plain": [
              "<pandas.io.formats.style.Styler at 0x7ce600639110>"
            ],
            "text/html": [
              "<style type=\"text/css\">\n",
              "</style>\n",
              "<table id=\"T_ac73c\" class=\"dataframe\">\n",
              "  <thead>\n",
              "    <tr>\n",
              "      <th class=\"blank level0\" >&nbsp;</th>\n",
              "      <th id=\"T_ac73c_level0_col0\" class=\"col_heading level0 col0\" >Model</th>\n",
              "      <th id=\"T_ac73c_level0_col1\" class=\"col_heading level0 col1\" >Accuracy</th>\n",
              "      <th id=\"T_ac73c_level0_col2\" class=\"col_heading level0 col2\" >AUC</th>\n",
              "      <th id=\"T_ac73c_level0_col3\" class=\"col_heading level0 col3\" >Recall</th>\n",
              "      <th id=\"T_ac73c_level0_col4\" class=\"col_heading level0 col4\" >Prec.</th>\n",
              "      <th id=\"T_ac73c_level0_col5\" class=\"col_heading level0 col5\" >F1</th>\n",
              "      <th id=\"T_ac73c_level0_col6\" class=\"col_heading level0 col6\" >Kappa</th>\n",
              "      <th id=\"T_ac73c_level0_col7\" class=\"col_heading level0 col7\" >MCC</th>\n",
              "    </tr>\n",
              "  </thead>\n",
              "  <tbody>\n",
              "    <tr>\n",
              "      <th id=\"T_ac73c_level0_row0\" class=\"row_heading level0 row0\" >0</th>\n",
              "      <td id=\"T_ac73c_row0_col0\" class=\"data row0 col0\" >SVM - Linear Kernel</td>\n",
              "      <td id=\"T_ac73c_row0_col1\" class=\"data row0 col1\" >0.8036</td>\n",
              "      <td id=\"T_ac73c_row0_col2\" class=\"data row0 col2\" >0</td>\n",
              "      <td id=\"T_ac73c_row0_col3\" class=\"data row0 col3\" >0.8036</td>\n",
              "      <td id=\"T_ac73c_row0_col4\" class=\"data row0 col4\" >0.6458</td>\n",
              "      <td id=\"T_ac73c_row0_col5\" class=\"data row0 col5\" >0.7161</td>\n",
              "      <td id=\"T_ac73c_row0_col6\" class=\"data row0 col6\" >0.0000</td>\n",
              "      <td id=\"T_ac73c_row0_col7\" class=\"data row0 col7\" >0.0000</td>\n",
              "    </tr>\n",
              "  </tbody>\n",
              "</table>\n"
            ]
          },
          "metadata": {}
        },
        {
          "output_type": "stream",
          "name": "stdout",
          "text": [
            "\n",
            "==================================================\n",
            "Processing Sample #10\n",
            "==================================================\n"
          ]
        },
        {
          "output_type": "display_data",
          "data": {
            "text/plain": [
              "<pandas.io.formats.style.Styler at 0x7ce749c5ae90>"
            ],
            "text/html": [
              "<style type=\"text/css\">\n",
              "</style>\n",
              "<table id=\"T_519cb\" class=\"dataframe\">\n",
              "  <thead>\n",
              "    <tr>\n",
              "      <th class=\"blank level0\" >&nbsp;</th>\n",
              "      <th id=\"T_519cb_level0_col0\" class=\"col_heading level0 col0\" >Model</th>\n",
              "      <th id=\"T_519cb_level0_col1\" class=\"col_heading level0 col1\" >Accuracy</th>\n",
              "      <th id=\"T_519cb_level0_col2\" class=\"col_heading level0 col2\" >AUC</th>\n",
              "      <th id=\"T_519cb_level0_col3\" class=\"col_heading level0 col3\" >Recall</th>\n",
              "      <th id=\"T_519cb_level0_col4\" class=\"col_heading level0 col4\" >Prec.</th>\n",
              "      <th id=\"T_519cb_level0_col5\" class=\"col_heading level0 col5\" >F1</th>\n",
              "      <th id=\"T_519cb_level0_col6\" class=\"col_heading level0 col6\" >Kappa</th>\n",
              "      <th id=\"T_519cb_level0_col7\" class=\"col_heading level0 col7\" >MCC</th>\n",
              "    </tr>\n",
              "  </thead>\n",
              "  <tbody>\n",
              "    <tr>\n",
              "      <th id=\"T_519cb_level0_row0\" class=\"row_heading level0 row0\" >0</th>\n",
              "      <td id=\"T_519cb_row0_col0\" class=\"data row0 col0\" >SVM - Linear Kernel</td>\n",
              "      <td id=\"T_519cb_row0_col1\" class=\"data row0 col1\" >0.7928</td>\n",
              "      <td id=\"T_519cb_row0_col2\" class=\"data row0 col2\" >0</td>\n",
              "      <td id=\"T_519cb_row0_col3\" class=\"data row0 col3\" >0.7928</td>\n",
              "      <td id=\"T_519cb_row0_col4\" class=\"data row0 col4\" >0.7591</td>\n",
              "      <td id=\"T_519cb_row0_col5\" class=\"data row0 col5\" >0.7687</td>\n",
              "      <td id=\"T_519cb_row0_col6\" class=\"data row0 col6\" >0.2125</td>\n",
              "      <td id=\"T_519cb_row0_col7\" class=\"data row0 col7\" >0.2251</td>\n",
              "    </tr>\n",
              "  </tbody>\n",
              "</table>\n"
            ]
          },
          "metadata": {}
        },
        {
          "output_type": "display_data",
          "data": {
            "text/plain": [
              "<pandas.io.formats.style.Styler at 0x7ce6003f6150>"
            ],
            "text/html": [
              "<style type=\"text/css\">\n",
              "</style>\n",
              "<table id=\"T_70877\" class=\"dataframe\">\n",
              "  <thead>\n",
              "    <tr>\n",
              "      <th class=\"blank level0\" >&nbsp;</th>\n",
              "      <th id=\"T_70877_level0_col0\" class=\"col_heading level0 col0\" >Model</th>\n",
              "      <th id=\"T_70877_level0_col1\" class=\"col_heading level0 col1\" >Accuracy</th>\n",
              "      <th id=\"T_70877_level0_col2\" class=\"col_heading level0 col2\" >AUC</th>\n",
              "      <th id=\"T_70877_level0_col3\" class=\"col_heading level0 col3\" >Recall</th>\n",
              "      <th id=\"T_70877_level0_col4\" class=\"col_heading level0 col4\" >Prec.</th>\n",
              "      <th id=\"T_70877_level0_col5\" class=\"col_heading level0 col5\" >F1</th>\n",
              "      <th id=\"T_70877_level0_col6\" class=\"col_heading level0 col6\" >Kappa</th>\n",
              "      <th id=\"T_70877_level0_col7\" class=\"col_heading level0 col7\" >MCC</th>\n",
              "    </tr>\n",
              "  </thead>\n",
              "  <tbody>\n",
              "    <tr>\n",
              "      <th id=\"T_70877_level0_row0\" class=\"row_heading level0 row0\" >0</th>\n",
              "      <td id=\"T_70877_row0_col0\" class=\"data row0 col0\" >SVM - Linear Kernel</td>\n",
              "      <td id=\"T_70877_row0_col1\" class=\"data row0 col1\" >0.7928</td>\n",
              "      <td id=\"T_70877_row0_col2\" class=\"data row0 col2\" >0</td>\n",
              "      <td id=\"T_70877_row0_col3\" class=\"data row0 col3\" >0.7928</td>\n",
              "      <td id=\"T_70877_row0_col4\" class=\"data row0 col4\" >0.7591</td>\n",
              "      <td id=\"T_70877_row0_col5\" class=\"data row0 col5\" >0.7687</td>\n",
              "      <td id=\"T_70877_row0_col6\" class=\"data row0 col6\" >0.2125</td>\n",
              "      <td id=\"T_70877_row0_col7\" class=\"data row0 col7\" >0.2251</td>\n",
              "    </tr>\n",
              "  </tbody>\n",
              "</table>\n"
            ]
          },
          "metadata": {}
        },
        {
          "output_type": "display_data",
          "data": {
            "text/plain": [
              "<pandas.io.formats.style.Styler at 0x7ce5ebae3b10>"
            ],
            "text/html": [
              "<style type=\"text/css\">\n",
              "</style>\n",
              "<table id=\"T_567f3\" class=\"dataframe\">\n",
              "  <thead>\n",
              "    <tr>\n",
              "      <th class=\"blank level0\" >&nbsp;</th>\n",
              "      <th id=\"T_567f3_level0_col0\" class=\"col_heading level0 col0\" >Model</th>\n",
              "      <th id=\"T_567f3_level0_col1\" class=\"col_heading level0 col1\" >Accuracy</th>\n",
              "      <th id=\"T_567f3_level0_col2\" class=\"col_heading level0 col2\" >AUC</th>\n",
              "      <th id=\"T_567f3_level0_col3\" class=\"col_heading level0 col3\" >Recall</th>\n",
              "      <th id=\"T_567f3_level0_col4\" class=\"col_heading level0 col4\" >Prec.</th>\n",
              "      <th id=\"T_567f3_level0_col5\" class=\"col_heading level0 col5\" >F1</th>\n",
              "      <th id=\"T_567f3_level0_col6\" class=\"col_heading level0 col6\" >Kappa</th>\n",
              "      <th id=\"T_567f3_level0_col7\" class=\"col_heading level0 col7\" >MCC</th>\n",
              "    </tr>\n",
              "  </thead>\n",
              "  <tbody>\n",
              "    <tr>\n",
              "      <th id=\"T_567f3_level0_row0\" class=\"row_heading level0 row0\" >0</th>\n",
              "      <td id=\"T_567f3_row0_col0\" class=\"data row0 col0\" >SVM - Linear Kernel</td>\n",
              "      <td id=\"T_567f3_row0_col1\" class=\"data row0 col1\" >0.7928</td>\n",
              "      <td id=\"T_567f3_row0_col2\" class=\"data row0 col2\" >0</td>\n",
              "      <td id=\"T_567f3_row0_col3\" class=\"data row0 col3\" >0.7928</td>\n",
              "      <td id=\"T_567f3_row0_col4\" class=\"data row0 col4\" >0.7591</td>\n",
              "      <td id=\"T_567f3_row0_col5\" class=\"data row0 col5\" >0.7687</td>\n",
              "      <td id=\"T_567f3_row0_col6\" class=\"data row0 col6\" >0.2125</td>\n",
              "      <td id=\"T_567f3_row0_col7\" class=\"data row0 col7\" >0.2251</td>\n",
              "    </tr>\n",
              "  </tbody>\n",
              "</table>\n"
            ]
          },
          "metadata": {}
        },
        {
          "output_type": "display_data",
          "data": {
            "text/plain": [
              "<pandas.io.formats.style.Styler at 0x7ce601f1a990>"
            ],
            "text/html": [
              "<style type=\"text/css\">\n",
              "</style>\n",
              "<table id=\"T_d4e5c\" class=\"dataframe\">\n",
              "  <thead>\n",
              "    <tr>\n",
              "      <th class=\"blank level0\" >&nbsp;</th>\n",
              "      <th id=\"T_d4e5c_level0_col0\" class=\"col_heading level0 col0\" >Model</th>\n",
              "      <th id=\"T_d4e5c_level0_col1\" class=\"col_heading level0 col1\" >Accuracy</th>\n",
              "      <th id=\"T_d4e5c_level0_col2\" class=\"col_heading level0 col2\" >AUC</th>\n",
              "      <th id=\"T_d4e5c_level0_col3\" class=\"col_heading level0 col3\" >Recall</th>\n",
              "      <th id=\"T_d4e5c_level0_col4\" class=\"col_heading level0 col4\" >Prec.</th>\n",
              "      <th id=\"T_d4e5c_level0_col5\" class=\"col_heading level0 col5\" >F1</th>\n",
              "      <th id=\"T_d4e5c_level0_col6\" class=\"col_heading level0 col6\" >Kappa</th>\n",
              "      <th id=\"T_d4e5c_level0_col7\" class=\"col_heading level0 col7\" >MCC</th>\n",
              "    </tr>\n",
              "  </thead>\n",
              "  <tbody>\n",
              "    <tr>\n",
              "      <th id=\"T_d4e5c_level0_row0\" class=\"row_heading level0 row0\" >0</th>\n",
              "      <td id=\"T_d4e5c_row0_col0\" class=\"data row0 col0\" >SVM - Linear Kernel</td>\n",
              "      <td id=\"T_d4e5c_row0_col1\" class=\"data row0 col1\" >0.7928</td>\n",
              "      <td id=\"T_d4e5c_row0_col2\" class=\"data row0 col2\" >0</td>\n",
              "      <td id=\"T_d4e5c_row0_col3\" class=\"data row0 col3\" >0.7928</td>\n",
              "      <td id=\"T_d4e5c_row0_col4\" class=\"data row0 col4\" >0.7591</td>\n",
              "      <td id=\"T_d4e5c_row0_col5\" class=\"data row0 col5\" >0.7687</td>\n",
              "      <td id=\"T_d4e5c_row0_col6\" class=\"data row0 col6\" >0.2125</td>\n",
              "      <td id=\"T_d4e5c_row0_col7\" class=\"data row0 col7\" >0.2251</td>\n",
              "    </tr>\n",
              "  </tbody>\n",
              "</table>\n"
            ]
          },
          "metadata": {}
        },
        {
          "output_type": "display_data",
          "data": {
            "text/plain": [
              "<pandas.io.formats.style.Styler at 0x7ce7498c3ed0>"
            ],
            "text/html": [
              "<style type=\"text/css\">\n",
              "</style>\n",
              "<table id=\"T_d00a9\" class=\"dataframe\">\n",
              "  <thead>\n",
              "    <tr>\n",
              "      <th class=\"blank level0\" >&nbsp;</th>\n",
              "      <th id=\"T_d00a9_level0_col0\" class=\"col_heading level0 col0\" >Model</th>\n",
              "      <th id=\"T_d00a9_level0_col1\" class=\"col_heading level0 col1\" >Accuracy</th>\n",
              "      <th id=\"T_d00a9_level0_col2\" class=\"col_heading level0 col2\" >AUC</th>\n",
              "      <th id=\"T_d00a9_level0_col3\" class=\"col_heading level0 col3\" >Recall</th>\n",
              "      <th id=\"T_d00a9_level0_col4\" class=\"col_heading level0 col4\" >Prec.</th>\n",
              "      <th id=\"T_d00a9_level0_col5\" class=\"col_heading level0 col5\" >F1</th>\n",
              "      <th id=\"T_d00a9_level0_col6\" class=\"col_heading level0 col6\" >Kappa</th>\n",
              "      <th id=\"T_d00a9_level0_col7\" class=\"col_heading level0 col7\" >MCC</th>\n",
              "    </tr>\n",
              "  </thead>\n",
              "  <tbody>\n",
              "    <tr>\n",
              "      <th id=\"T_d00a9_level0_row0\" class=\"row_heading level0 row0\" >0</th>\n",
              "      <td id=\"T_d00a9_row0_col0\" class=\"data row0 col0\" >SVM - Linear Kernel</td>\n",
              "      <td id=\"T_d00a9_row0_col1\" class=\"data row0 col1\" >0.7928</td>\n",
              "      <td id=\"T_d00a9_row0_col2\" class=\"data row0 col2\" >0</td>\n",
              "      <td id=\"T_d00a9_row0_col3\" class=\"data row0 col3\" >0.7928</td>\n",
              "      <td id=\"T_d00a9_row0_col4\" class=\"data row0 col4\" >0.7591</td>\n",
              "      <td id=\"T_d00a9_row0_col5\" class=\"data row0 col5\" >0.7687</td>\n",
              "      <td id=\"T_d00a9_row0_col6\" class=\"data row0 col6\" >0.2125</td>\n",
              "      <td id=\"T_d00a9_row0_col7\" class=\"data row0 col7\" >0.2251</td>\n",
              "    </tr>\n",
              "  </tbody>\n",
              "</table>\n"
            ]
          },
          "metadata": {}
        },
        {
          "output_type": "display_data",
          "data": {
            "text/plain": [
              "<pandas.io.formats.style.Styler at 0x7ce5ebae2dd0>"
            ],
            "text/html": [
              "<style type=\"text/css\">\n",
              "</style>\n",
              "<table id=\"T_e82bf\" class=\"dataframe\">\n",
              "  <thead>\n",
              "    <tr>\n",
              "      <th class=\"blank level0\" >&nbsp;</th>\n",
              "      <th id=\"T_e82bf_level0_col0\" class=\"col_heading level0 col0\" >Model</th>\n",
              "      <th id=\"T_e82bf_level0_col1\" class=\"col_heading level0 col1\" >Accuracy</th>\n",
              "      <th id=\"T_e82bf_level0_col2\" class=\"col_heading level0 col2\" >AUC</th>\n",
              "      <th id=\"T_e82bf_level0_col3\" class=\"col_heading level0 col3\" >Recall</th>\n",
              "      <th id=\"T_e82bf_level0_col4\" class=\"col_heading level0 col4\" >Prec.</th>\n",
              "      <th id=\"T_e82bf_level0_col5\" class=\"col_heading level0 col5\" >F1</th>\n",
              "      <th id=\"T_e82bf_level0_col6\" class=\"col_heading level0 col6\" >Kappa</th>\n",
              "      <th id=\"T_e82bf_level0_col7\" class=\"col_heading level0 col7\" >MCC</th>\n",
              "    </tr>\n",
              "  </thead>\n",
              "  <tbody>\n",
              "    <tr>\n",
              "      <th id=\"T_e82bf_level0_row0\" class=\"row_heading level0 row0\" >0</th>\n",
              "      <td id=\"T_e82bf_row0_col0\" class=\"data row0 col0\" >SVM - Linear Kernel</td>\n",
              "      <td id=\"T_e82bf_row0_col1\" class=\"data row0 col1\" >0.7928</td>\n",
              "      <td id=\"T_e82bf_row0_col2\" class=\"data row0 col2\" >0</td>\n",
              "      <td id=\"T_e82bf_row0_col3\" class=\"data row0 col3\" >0.7928</td>\n",
              "      <td id=\"T_e82bf_row0_col4\" class=\"data row0 col4\" >0.7591</td>\n",
              "      <td id=\"T_e82bf_row0_col5\" class=\"data row0 col5\" >0.7687</td>\n",
              "      <td id=\"T_e82bf_row0_col6\" class=\"data row0 col6\" >0.2125</td>\n",
              "      <td id=\"T_e82bf_row0_col7\" class=\"data row0 col7\" >0.2251</td>\n",
              "    </tr>\n",
              "  </tbody>\n",
              "</table>\n"
            ]
          },
          "metadata": {}
        },
        {
          "output_type": "display_data",
          "data": {
            "text/plain": [
              "<pandas.io.formats.style.Styler at 0x7ce600087a50>"
            ],
            "text/html": [
              "<style type=\"text/css\">\n",
              "</style>\n",
              "<table id=\"T_3d627\" class=\"dataframe\">\n",
              "  <thead>\n",
              "    <tr>\n",
              "      <th class=\"blank level0\" >&nbsp;</th>\n",
              "      <th id=\"T_3d627_level0_col0\" class=\"col_heading level0 col0\" >Model</th>\n",
              "      <th id=\"T_3d627_level0_col1\" class=\"col_heading level0 col1\" >Accuracy</th>\n",
              "      <th id=\"T_3d627_level0_col2\" class=\"col_heading level0 col2\" >AUC</th>\n",
              "      <th id=\"T_3d627_level0_col3\" class=\"col_heading level0 col3\" >Recall</th>\n",
              "      <th id=\"T_3d627_level0_col4\" class=\"col_heading level0 col4\" >Prec.</th>\n",
              "      <th id=\"T_3d627_level0_col5\" class=\"col_heading level0 col5\" >F1</th>\n",
              "      <th id=\"T_3d627_level0_col6\" class=\"col_heading level0 col6\" >Kappa</th>\n",
              "      <th id=\"T_3d627_level0_col7\" class=\"col_heading level0 col7\" >MCC</th>\n",
              "    </tr>\n",
              "  </thead>\n",
              "  <tbody>\n",
              "    <tr>\n",
              "      <th id=\"T_3d627_level0_row0\" class=\"row_heading level0 row0\" >0</th>\n",
              "      <td id=\"T_3d627_row0_col0\" class=\"data row0 col0\" >SVM - Linear Kernel</td>\n",
              "      <td id=\"T_3d627_row0_col1\" class=\"data row0 col1\" >0.7928</td>\n",
              "      <td id=\"T_3d627_row0_col2\" class=\"data row0 col2\" >0</td>\n",
              "      <td id=\"T_3d627_row0_col3\" class=\"data row0 col3\" >0.7928</td>\n",
              "      <td id=\"T_3d627_row0_col4\" class=\"data row0 col4\" >0.7591</td>\n",
              "      <td id=\"T_3d627_row0_col5\" class=\"data row0 col5\" >0.7687</td>\n",
              "      <td id=\"T_3d627_row0_col6\" class=\"data row0 col6\" >0.2125</td>\n",
              "      <td id=\"T_3d627_row0_col7\" class=\"data row0 col7\" >0.2251</td>\n",
              "    </tr>\n",
              "  </tbody>\n",
              "</table>\n"
            ]
          },
          "metadata": {}
        },
        {
          "output_type": "display_data",
          "data": {
            "text/plain": [
              "<pandas.io.formats.style.Styler at 0x7ce5ebb8c090>"
            ],
            "text/html": [
              "<style type=\"text/css\">\n",
              "</style>\n",
              "<table id=\"T_3bc65\" class=\"dataframe\">\n",
              "  <thead>\n",
              "    <tr>\n",
              "      <th class=\"blank level0\" >&nbsp;</th>\n",
              "      <th id=\"T_3bc65_level0_col0\" class=\"col_heading level0 col0\" >Model</th>\n",
              "      <th id=\"T_3bc65_level0_col1\" class=\"col_heading level0 col1\" >Accuracy</th>\n",
              "      <th id=\"T_3bc65_level0_col2\" class=\"col_heading level0 col2\" >AUC</th>\n",
              "      <th id=\"T_3bc65_level0_col3\" class=\"col_heading level0 col3\" >Recall</th>\n",
              "      <th id=\"T_3bc65_level0_col4\" class=\"col_heading level0 col4\" >Prec.</th>\n",
              "      <th id=\"T_3bc65_level0_col5\" class=\"col_heading level0 col5\" >F1</th>\n",
              "      <th id=\"T_3bc65_level0_col6\" class=\"col_heading level0 col6\" >Kappa</th>\n",
              "      <th id=\"T_3bc65_level0_col7\" class=\"col_heading level0 col7\" >MCC</th>\n",
              "    </tr>\n",
              "  </thead>\n",
              "  <tbody>\n",
              "    <tr>\n",
              "      <th id=\"T_3bc65_level0_row0\" class=\"row_heading level0 row0\" >0</th>\n",
              "      <td id=\"T_3bc65_row0_col0\" class=\"data row0 col0\" >SVM - Linear Kernel</td>\n",
              "      <td id=\"T_3bc65_row0_col1\" class=\"data row0 col1\" >0.7928</td>\n",
              "      <td id=\"T_3bc65_row0_col2\" class=\"data row0 col2\" >0</td>\n",
              "      <td id=\"T_3bc65_row0_col3\" class=\"data row0 col3\" >0.7928</td>\n",
              "      <td id=\"T_3bc65_row0_col4\" class=\"data row0 col4\" >0.7591</td>\n",
              "      <td id=\"T_3bc65_row0_col5\" class=\"data row0 col5\" >0.7687</td>\n",
              "      <td id=\"T_3bc65_row0_col6\" class=\"data row0 col6\" >0.2125</td>\n",
              "      <td id=\"T_3bc65_row0_col7\" class=\"data row0 col7\" >0.2251</td>\n",
              "    </tr>\n",
              "  </tbody>\n",
              "</table>\n"
            ]
          },
          "metadata": {}
        },
        {
          "output_type": "display_data",
          "data": {
            "text/plain": [
              "<pandas.io.formats.style.Styler at 0x7ce749a1af50>"
            ],
            "text/html": [
              "<style type=\"text/css\">\n",
              "</style>\n",
              "<table id=\"T_c6de1\" class=\"dataframe\">\n",
              "  <thead>\n",
              "    <tr>\n",
              "      <th class=\"blank level0\" >&nbsp;</th>\n",
              "      <th id=\"T_c6de1_level0_col0\" class=\"col_heading level0 col0\" >Model</th>\n",
              "      <th id=\"T_c6de1_level0_col1\" class=\"col_heading level0 col1\" >Accuracy</th>\n",
              "      <th id=\"T_c6de1_level0_col2\" class=\"col_heading level0 col2\" >AUC</th>\n",
              "      <th id=\"T_c6de1_level0_col3\" class=\"col_heading level0 col3\" >Recall</th>\n",
              "      <th id=\"T_c6de1_level0_col4\" class=\"col_heading level0 col4\" >Prec.</th>\n",
              "      <th id=\"T_c6de1_level0_col5\" class=\"col_heading level0 col5\" >F1</th>\n",
              "      <th id=\"T_c6de1_level0_col6\" class=\"col_heading level0 col6\" >Kappa</th>\n",
              "      <th id=\"T_c6de1_level0_col7\" class=\"col_heading level0 col7\" >MCC</th>\n",
              "    </tr>\n",
              "  </thead>\n",
              "  <tbody>\n",
              "    <tr>\n",
              "      <th id=\"T_c6de1_level0_row0\" class=\"row_heading level0 row0\" >0</th>\n",
              "      <td id=\"T_c6de1_row0_col0\" class=\"data row0 col0\" >SVM - Linear Kernel</td>\n",
              "      <td id=\"T_c6de1_row0_col1\" class=\"data row0 col1\" >0.7928</td>\n",
              "      <td id=\"T_c6de1_row0_col2\" class=\"data row0 col2\" >0</td>\n",
              "      <td id=\"T_c6de1_row0_col3\" class=\"data row0 col3\" >0.7928</td>\n",
              "      <td id=\"T_c6de1_row0_col4\" class=\"data row0 col4\" >0.7591</td>\n",
              "      <td id=\"T_c6de1_row0_col5\" class=\"data row0 col5\" >0.7687</td>\n",
              "      <td id=\"T_c6de1_row0_col6\" class=\"data row0 col6\" >0.2125</td>\n",
              "      <td id=\"T_c6de1_row0_col7\" class=\"data row0 col7\" >0.2251</td>\n",
              "    </tr>\n",
              "  </tbody>\n",
              "</table>\n"
            ]
          },
          "metadata": {}
        },
        {
          "output_type": "display_data",
          "data": {
            "text/plain": [
              "<pandas.io.formats.style.Styler at 0x7ce749c50110>"
            ],
            "text/html": [
              "<style type=\"text/css\">\n",
              "</style>\n",
              "<table id=\"T_c4784\" class=\"dataframe\">\n",
              "  <thead>\n",
              "    <tr>\n",
              "      <th class=\"blank level0\" >&nbsp;</th>\n",
              "      <th id=\"T_c4784_level0_col0\" class=\"col_heading level0 col0\" >Model</th>\n",
              "      <th id=\"T_c4784_level0_col1\" class=\"col_heading level0 col1\" >Accuracy</th>\n",
              "      <th id=\"T_c4784_level0_col2\" class=\"col_heading level0 col2\" >AUC</th>\n",
              "      <th id=\"T_c4784_level0_col3\" class=\"col_heading level0 col3\" >Recall</th>\n",
              "      <th id=\"T_c4784_level0_col4\" class=\"col_heading level0 col4\" >Prec.</th>\n",
              "      <th id=\"T_c4784_level0_col5\" class=\"col_heading level0 col5\" >F1</th>\n",
              "      <th id=\"T_c4784_level0_col6\" class=\"col_heading level0 col6\" >Kappa</th>\n",
              "      <th id=\"T_c4784_level0_col7\" class=\"col_heading level0 col7\" >MCC</th>\n",
              "    </tr>\n",
              "  </thead>\n",
              "  <tbody>\n",
              "    <tr>\n",
              "      <th id=\"T_c4784_level0_row0\" class=\"row_heading level0 row0\" >0</th>\n",
              "      <td id=\"T_c4784_row0_col0\" class=\"data row0 col0\" >SVM - Linear Kernel</td>\n",
              "      <td id=\"T_c4784_row0_col1\" class=\"data row0 col1\" >0.7928</td>\n",
              "      <td id=\"T_c4784_row0_col2\" class=\"data row0 col2\" >0</td>\n",
              "      <td id=\"T_c4784_row0_col3\" class=\"data row0 col3\" >0.7928</td>\n",
              "      <td id=\"T_c4784_row0_col4\" class=\"data row0 col4\" >0.7591</td>\n",
              "      <td id=\"T_c4784_row0_col5\" class=\"data row0 col5\" >0.7687</td>\n",
              "      <td id=\"T_c4784_row0_col6\" class=\"data row0 col6\" >0.2125</td>\n",
              "      <td id=\"T_c4784_row0_col7\" class=\"data row0 col7\" >0.2251</td>\n",
              "    </tr>\n",
              "  </tbody>\n",
              "</table>\n"
            ]
          },
          "metadata": {}
        },
        {
          "output_type": "stream",
          "name": "stdout",
          "text": [
            "\n",
            "================================================================================\n",
            "Table 1: Comparative performance of Optimized-SVM with different samples\n",
            "================================================================================\n",
            "Sample #  Best Accuracy Kernel  Nu  Epsilon\n",
            "      S1       0.802564    N/A N/A      0.1\n",
            "      S2       0.789744    N/A N/A      0.1\n",
            "      S3       0.798462    N/A N/A      0.1\n",
            "      S4       0.803077    N/A N/A      0.1\n",
            "      S5       0.803590    N/A N/A      0.1\n",
            "      S6       0.667179    N/A N/A      0.1\n",
            "      S7       0.803590    N/A N/A      0.1\n",
            "      S8       0.802051    N/A N/A      0.1\n",
            "      S9       0.803590    N/A N/A      0.1\n",
            "     S10       0.792821    N/A N/A      0.1\n"
          ]
        },
        {
          "output_type": "display_data",
          "data": {
            "text/plain": [
              "<Figure size 1000x600 with 1 Axes>"
            ],
            "image/png": "[encoded data removed]"
          },
          "metadata": {}
        },
        {
          "output_type": "stream",
          "name": "stdout",
          "text": [
            "Transformation Pipeline and Model Successfully Saved\n",
            "Program ended\n"
          ]
        }
      ]
    }
  ]
}